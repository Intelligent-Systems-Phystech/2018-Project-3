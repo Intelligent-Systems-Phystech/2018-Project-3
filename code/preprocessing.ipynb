{
 "cells": [
  {
   "cell_type": "code",
   "execution_count": 5,
   "metadata": {},
   "outputs": [
    {
     "name": "stdout",
     "output_type": "stream",
     "text": [
      "The autoreload extension is already loaded. To reload it, use:\n",
      "  %reload_ext autoreload\n"
     ]
    }
   ],
   "source": [
    "import pandas as pd\n",
    "import numpy as np\n",
    "import matplotlib.pyplot as plt\n",
    "\n",
    "%load_ext autoreload\n",
    "%autoreload 2\n",
    "\n",
    "from time import sleep, time\n",
    "from threading import Thread\n",
    "from scipy.cluster.hierarchy import fcluster\n",
    "from scipy.stats import zscore\n",
    "\n",
    "from data_processing import DataIterator\n",
    "from testing import TestFactory, ClusteredInfo\n",
    "from dtw import dtw as cur_dtw\n",
    "from dtw_wrapper import DtwWrapper"
   ]
  },
  {
   "cell_type": "code",
   "execution_count": 6,
   "metadata": {},
   "outputs": [],
   "source": [
    "def norm_1(x, y):\n",
    "    return np.linalg.norm(x - y, ord=1)\n",
    "def norm_2(x, y):\n",
    "    return np.linalg.norm(x - y, ord=2)"
   ]
  },
  {
   "cell_type": "markdown",
   "metadata": {},
   "source": [
    "# Rewriting data in our format"
   ]
  },
  {
   "cell_type": "code",
   "execution_count": 3,
   "metadata": {},
   "outputs": [],
   "source": [
    "# data = pd.read_csv(\"../data/preprocessed_large.csv\", header=None)\n",
    "\n",
    "# indexes = pd.Index(range(0, 200))\n",
    "# data_preprocessed = pd.DataFrame(columns=[\"obj\", \"ch\", \"label\", *indexes])\n",
    "\n",
    "# l = []\n",
    "# for j in data.index:\n",
    "#     df = pd.DataFrame({\"obj\": [j for i in range(3)], \n",
    "#                   \"label\": [data.loc[j, 0] for i in range(3)]},\n",
    "#                  columns=[\"obj\", \"label\", *indexes])\n",
    "#     df.index.name = \"ch\"\n",
    "#     df.loc[0, indexes] = data.loc[j, 1:200].values\n",
    "#     df.loc[1, indexes] = data.loc[j, 201:400].values\n",
    "#     df.loc[2, indexes] = data.loc[j, 401:600].values \n",
    "#     df.reset_index(inplace=True)\n",
    "#     data_preprocessed = data_preprocessed.append(df, sort=False)\n",
    "    \n",
    "# data_preprocessed.reset_index(drop=True, inplace=True)\n"
   ]
  },
  {
   "cell_type": "code",
   "execution_count": 7,
   "metadata": {},
   "outputs": [],
   "source": [
    "data = pd.read_csv(\"../data/preprocessed_3ch_50point_overlap0.csv\", index_col=0)\n",
    "it = DataIterator(data, 50, random_state=42)\n",
    "tests = TestFactory(it=it)\n",
    "x = tests.set_sample(2048)"
   ]
  },
  {
   "cell_type": "code",
   "execution_count": 8,
   "metadata": {},
   "outputs": [
    {
     "name": "stdout",
     "output_type": "stream",
     "text": [
      "Loaded\n",
      "dump\n",
      "0\n",
      "dump\n",
      "30\n",
      "dump\n",
      "60\n",
      "dump\n",
      "90\n",
      "dump\n",
      "120\n",
      "dump\n",
      "150\n",
      "dump\n",
      "180\n",
      "dump\n",
      "210\n",
      "dump\n",
      "240\n",
      "dump\n",
      "270\n",
      "dump\n",
      "300\n",
      "dump\n",
      "330\n",
      "dump\n",
      "360\n",
      "dump\n",
      "390\n",
      "dump\n",
      "420\n",
      "dump\n",
      "450\n",
      "dump\n",
      "480\n",
      "dump\n",
      "510\n",
      "dump\n",
      "540\n",
      "dump\n",
      "570\n",
      "dump\n",
      "600\n",
      "dump\n",
      "630\n",
      "dump\n",
      "660\n",
      "dump\n",
      "690\n",
      "dump\n",
      "720\n",
      "dump\n",
      "750\n",
      "dump\n",
      "780\n",
      "dump\n",
      "810\n",
      "dump\n",
      "840\n",
      "dump\n",
      "870\n",
      "dump\n",
      "900\n",
      "dump\n",
      "930\n",
      "dump\n",
      "960\n",
      "dump\n",
      "990\n",
      "41046.39708209038\n"
     ]
    }
   ],
   "source": [
    "wrap = DtwWrapper(tests.X, hash(tests.infos), cur_dtw, norm_2, dtw_args={\"z_normalize\": True, \"l\": 0.2})\n",
    "wrap.fill_distances(n_threads=8)"
   ]
  },
  {
   "cell_type": "code",
   "execution_count": 9,
   "metadata": {},
   "outputs": [
    {
     "data": {
      "text/plain": [
       "0.0"
      ]
     },
     "execution_count": 9,
     "metadata": {},
     "output_type": "execute_result"
    }
   ],
   "source": [
    "tmp = np.genfromtxt(\"../data/distances/dtwnorm_2z_normalizeTruel0.2-43544539162478229291.csv\")\n",
    "(tmp < 0).sum() / (tmp != -1000).sum()"
   ]
  },
  {
   "cell_type": "code",
   "execution_count": 15,
   "metadata": {},
   "outputs": [
    {
     "name": "stdout",
     "output_type": "stream",
     "text": [
      "Loaded\n",
      "Loaded\n",
      "Elapsed time: 4.555\n"
     ]
    },
    {
     "data": {
      "text/html": [
       "<div>\n",
       "<style scoped>\n",
       "    .dataframe tbody tr th:only-of-type {\n",
       "        vertical-align: middle;\n",
       "    }\n",
       "\n",
       "    .dataframe tbody tr th {\n",
       "        vertical-align: top;\n",
       "    }\n",
       "\n",
       "    .dataframe thead th {\n",
       "        text-align: right;\n",
       "    }\n",
       "</style>\n",
       "<table border=\"1\" class=\"dataframe\">\n",
       "  <thead>\n",
       "    <tr style=\"text-align: right;\">\n",
       "      <th></th>\n",
       "      <th>23</th>\n",
       "      <th>15</th>\n",
       "      <th>49</th>\n",
       "      <th>20</th>\n",
       "      <th>51</th>\n",
       "      <th>33</th>\n",
       "      <th>43</th>\n",
       "      <th>35</th>\n",
       "      <th>32</th>\n",
       "      <th>24</th>\n",
       "      <th>11</th>\n",
       "      <th>48</th>\n",
       "      <th>31</th>\n",
       "      <th>25</th>\n",
       "      <th>40</th>\n",
       "      <th>47</th>\n",
       "      <th>56</th>\n",
       "      <th>26</th>\n",
       "      <th>29</th>\n",
       "      <th>21</th>\n",
       "    </tr>\n",
       "  </thead>\n",
       "  <tbody>\n",
       "    <tr>\n",
       "      <th>1</th>\n",
       "      <td>4</td>\n",
       "      <td>72.0</td>\n",
       "      <td>0.0</td>\n",
       "      <td>0.0</td>\n",
       "      <td>3</td>\n",
       "      <td>23</td>\n",
       "      <td>19</td>\n",
       "      <td>6.0</td>\n",
       "      <td>41.0</td>\n",
       "      <td>0.0</td>\n",
       "      <td>24.0</td>\n",
       "      <td>52.0</td>\n",
       "      <td>2.0</td>\n",
       "      <td>33.0</td>\n",
       "      <td>14.0</td>\n",
       "      <td>2.0</td>\n",
       "      <td>0.0</td>\n",
       "      <td>7.0</td>\n",
       "      <td>0.0</td>\n",
       "      <td>0.0</td>\n",
       "    </tr>\n",
       "    <tr>\n",
       "      <th>2</th>\n",
       "      <td>71</td>\n",
       "      <td>0.0</td>\n",
       "      <td>68.0</td>\n",
       "      <td>35.0</td>\n",
       "      <td>46</td>\n",
       "      <td>23</td>\n",
       "      <td>8</td>\n",
       "      <td>33.0</td>\n",
       "      <td>0.0</td>\n",
       "      <td>14.0</td>\n",
       "      <td>1.0</td>\n",
       "      <td>0.0</td>\n",
       "      <td>6.0</td>\n",
       "      <td>0.0</td>\n",
       "      <td>0.0</td>\n",
       "      <td>0.0</td>\n",
       "      <td>8.0</td>\n",
       "      <td>0.0</td>\n",
       "      <td>4.0</td>\n",
       "      <td>4.0</td>\n",
       "    </tr>\n",
       "    <tr>\n",
       "      <th>3</th>\n",
       "      <td>24</td>\n",
       "      <td>9.0</td>\n",
       "      <td>10.0</td>\n",
       "      <td>9.0</td>\n",
       "      <td>5</td>\n",
       "      <td>11</td>\n",
       "      <td>13</td>\n",
       "      <td>6.0</td>\n",
       "      <td>14.0</td>\n",
       "      <td>3.0</td>\n",
       "      <td>9.0</td>\n",
       "      <td>2.0</td>\n",
       "      <td>8.0</td>\n",
       "      <td>3.0</td>\n",
       "      <td>8.0</td>\n",
       "      <td>1.0</td>\n",
       "      <td>11.0</td>\n",
       "      <td>1.0</td>\n",
       "      <td>27.0</td>\n",
       "      <td>8.0</td>\n",
       "    </tr>\n",
       "    <tr>\n",
       "      <th>4</th>\n",
       "      <td>37</td>\n",
       "      <td>5.0</td>\n",
       "      <td>11.0</td>\n",
       "      <td>34.0</td>\n",
       "      <td>7</td>\n",
       "      <td>8</td>\n",
       "      <td>13</td>\n",
       "      <td>18.0</td>\n",
       "      <td>3.0</td>\n",
       "      <td>30.0</td>\n",
       "      <td>0.0</td>\n",
       "      <td>0.0</td>\n",
       "      <td>36.0</td>\n",
       "      <td>0.0</td>\n",
       "      <td>2.0</td>\n",
       "      <td>6.0</td>\n",
       "      <td>4.0</td>\n",
       "      <td>24.0</td>\n",
       "      <td>7.0</td>\n",
       "      <td>20.0</td>\n",
       "    </tr>\n",
       "    <tr>\n",
       "      <th>5</th>\n",
       "      <td>2</td>\n",
       "      <td>2.0</td>\n",
       "      <td>1.0</td>\n",
       "      <td>0.0</td>\n",
       "      <td>2</td>\n",
       "      <td>1</td>\n",
       "      <td>7</td>\n",
       "      <td>0.0</td>\n",
       "      <td>0.0</td>\n",
       "      <td>5.0</td>\n",
       "      <td>11.0</td>\n",
       "      <td>0.0</td>\n",
       "      <td>1.0</td>\n",
       "      <td>9.0</td>\n",
       "      <td>8.0</td>\n",
       "      <td>14.0</td>\n",
       "      <td>9.0</td>\n",
       "      <td>7.0</td>\n",
       "      <td>2.0</td>\n",
       "      <td>4.0</td>\n",
       "    </tr>\n",
       "    <tr>\n",
       "      <th>6</th>\n",
       "      <td>2</td>\n",
       "      <td>4.0</td>\n",
       "      <td>0.0</td>\n",
       "      <td>1.0</td>\n",
       "      <td>8</td>\n",
       "      <td>3</td>\n",
       "      <td>6</td>\n",
       "      <td>0.0</td>\n",
       "      <td>2.0</td>\n",
       "      <td>6.0</td>\n",
       "      <td>9.0</td>\n",
       "      <td>0.0</td>\n",
       "      <td>0.0</td>\n",
       "      <td>5.0</td>\n",
       "      <td>13.0</td>\n",
       "      <td>22.0</td>\n",
       "      <td>12.0</td>\n",
       "      <td>4.0</td>\n",
       "      <td>0.0</td>\n",
       "      <td>0.0</td>\n",
       "    </tr>\n",
       "  </tbody>\n",
       "</table>\n",
       "</div>"
      ],
      "text/plain": [
       "   23    15    49    20  51  33  43    35    32    24    11    48    31    25  \\\n",
       "1   4  72.0   0.0   0.0   3  23  19   6.0  41.0   0.0  24.0  52.0   2.0  33.0   \n",
       "2  71   0.0  68.0  35.0  46  23   8  33.0   0.0  14.0   1.0   0.0   6.0   0.0   \n",
       "3  24   9.0  10.0   9.0   5  11  13   6.0  14.0   3.0   9.0   2.0   8.0   3.0   \n",
       "4  37   5.0  11.0  34.0   7   8  13  18.0   3.0  30.0   0.0   0.0  36.0   0.0   \n",
       "5   2   2.0   1.0   0.0   2   1   7   0.0   0.0   5.0  11.0   0.0   1.0   9.0   \n",
       "6   2   4.0   0.0   1.0   8   3   6   0.0   2.0   6.0   9.0   0.0   0.0   5.0   \n",
       "\n",
       "     40    47    56    26    29    21  \n",
       "1  14.0   2.0   0.0   7.0   0.0   0.0  \n",
       "2   0.0   0.0   8.0   0.0   4.0   4.0  \n",
       "3   8.0   1.0  11.0   1.0  27.0   8.0  \n",
       "4   2.0   6.0   4.0  24.0   7.0  20.0  \n",
       "5   8.0  14.0   9.0   7.0   2.0   4.0  \n",
       "6  13.0  22.0  12.0   4.0   0.0   0.0  "
      ]
     },
     "execution_count": 15,
     "metadata": {},
     "output_type": "execute_result"
    }
   ],
   "source": [
    "DtwWrapper(tests.X, hash(tests.infos), cur_dtw, norm_2, dtw_args={\"z_normalize\": True, \"l\": 0.2})\n",
    "info = tests.test_dtw(cur_dtw, norm_2, dtw_args={\"z_normalize\": True, \"l\": 0.2})\n",
    "info.cluster(60)\n",
    "info.stats\n",
    "index = info.stats.head(10).index.values\n",
    "classifier_stat = {}\n",
    "for i in info.stats.index:\n",
    "    classifier_stat[i] = pd.Series(info.label[np.where(info.clusters_labels == i)[0]]).value_counts()\n",
    "    \n",
    "pd.DataFrame(classifier_stat).fillna(0).iloc[:, :20]"
   ]
  },
  {
   "cell_type": "code",
   "execution_count": 4,
   "metadata": {},
   "outputs": [
    {
     "data": {
      "text/plain": [
       "(2048, 2048)"
      ]
     },
     "execution_count": 4,
     "metadata": {},
     "output_type": "execute_result"
    }
   ],
   "source": [
    "tmp.shape"
   ]
  },
  {
   "cell_type": "code",
   "execution_count": 6,
   "metadata": {},
   "outputs": [
    {
     "data": {
      "text/plain": [
       "True"
      ]
     },
     "execution_count": 6,
     "metadata": {},
     "output_type": "execute_result"
    }
   ],
   "source": [
    "1 % 4 == 1"
   ]
  },
  {
   "cell_type": "code",
   "execution_count": null,
   "metadata": {},
   "outputs": [],
   "source": []
  }
 ],
 "metadata": {
  "kernelspec": {
   "display_name": "Python 3",
   "language": "python",
   "name": "python3"
  },
  "language_info": {
   "codemirror_mode": {
    "name": "ipython",
    "version": 3
   },
   "file_extension": ".py",
   "mimetype": "text/x-python",
   "name": "python",
   "nbconvert_exporter": "python",
   "pygments_lexer": "ipython3",
   "version": "3.6.6"
  }
 },
 "nbformat": 4,
 "nbformat_minor": 2
}
