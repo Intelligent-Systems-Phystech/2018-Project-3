{
 "cells": [
  {
   "cell_type": "code",
   "execution_count": 1,
   "metadata": {},
   "outputs": [],
   "source": [
    "import pandas as pd\n",
    "import numpy as np\n",
    "import matplotlib.pyplot as plt\n",
    "\n",
    "%load_ext autoreload\n",
    "%autoreload 2\n",
    "\n",
    "from time import sleep, time\n",
    "from threading import Thread\n",
    "from scipy.cluster.hierarchy import fcluster\n",
    "from scipy.stats import zscore\n",
    "\n",
    "from data_processing import DataIterator\n",
    "from testing import TestFactory, ClusteredInfo\n",
    "from dtw import dtw as cur_dtw\n",
    "from dtw_wrapper import DtwWrapper"
   ]
  },
  {
   "cell_type": "code",
   "execution_count": 2,
   "metadata": {},
   "outputs": [],
   "source": [
    "def norm_1(x, y):\n",
    "    return np.linalg.norm(x - y, ord=1)\n",
    "def norm_2(x, y):\n",
    "    return np.linalg.norm(x - y, ord=2)"
   ]
  },
  {
   "cell_type": "markdown",
   "metadata": {},
   "source": [
    "# Rewriting data in our format"
   ]
  },
  {
   "cell_type": "code",
   "execution_count": 3,
   "metadata": {},
   "outputs": [],
   "source": [
    "# data = pd.read_csv(\"../data/preprocessed_large.csv\", header=None)\n",
    "\n",
    "# indexes = pd.Index(range(0, 200))\n",
    "# data_preprocessed = pd.DataFrame(columns=[\"obj\", \"ch\", \"label\", *indexes])\n",
    "\n",
    "# l = []\n",
    "# for j in data.index:\n",
    "#     df = pd.DataFrame({\"obj\": [j for i in range(3)], \n",
    "#                   \"label\": [data.loc[j, 0] for i in range(3)]},\n",
    "#                  columns=[\"obj\", \"label\", *indexes])\n",
    "#     df.index.name = \"ch\"\n",
    "#     df.loc[0, indexes] = data.loc[j, 1:200].values\n",
    "#     df.loc[1, indexes] = data.loc[j, 201:400].values\n",
    "#     df.loc[2, indexes] = data.loc[j, 401:600].values \n",
    "#     df.reset_index(inplace=True)\n",
    "#     data_preprocessed = data_preprocessed.append(df, sort=False)\n",
    "    \n",
    "# data_preprocessed.reset_index(drop=True, inplace=True)\n"
   ]
  },
  {
   "cell_type": "code",
   "execution_count": 4,
   "metadata": {},
   "outputs": [],
   "source": [
    "data = pd.read_csv(\"../data/preprocessed_3ch_50point_overlap0.csv\", index_col=0)\n",
    "it = DataIterator(data, 50, random_state=42)\n",
    "tests = TestFactory(it=it)\n",
    "x = tests.set_sample(2048)"
   ]
  },
  {
   "cell_type": "code",
   "execution_count": null,
   "metadata": {},
   "outputs": [
    {
     "name": "stdout",
     "output_type": "stream",
     "text": [
      "dump\n",
      "0\n",
      "dump\n",
      "30\n",
      "dump\n",
      "60\n",
      "dump\n",
      "90\n",
      "dump\n",
      "120\n",
      "dump\n",
      "150\n",
      "dump\n",
      "180\n",
      "dump\n",
      "210\n",
      "dump\n",
      "240\n",
      "dump\n",
      "270\n",
      "dump\n",
      "300\n",
      "dump\n",
      "330\n",
      "dump\n",
      "360\n",
      "dump\n",
      "390\n",
      "dump\n",
      "420\n",
      "dump\n",
      "450\n",
      "dump\n",
      "480\n",
      "dump\n",
      "510\n",
      "dump\n",
      "540\n",
      "dump\n",
      "570\n",
      "dump\n",
      "600\n",
      "dump\n",
      "630\n",
      "dump\n",
      "660\n",
      "dump\n",
      "690\n",
      "dump\n",
      "720\n",
      "dump\n",
      "750\n",
      "dump\n",
      "780\n",
      "dump\n",
      "810\n",
      "dump\n",
      "840\n",
      "dump\n",
      "870\n",
      "dump\n",
      "900\n",
      "dump\n",
      "930\n",
      "dump\n",
      "960\n",
      "dump\n",
      "990\n"
     ]
    }
   ],
   "source": [
    "wrap = DtwWrapper(tests.X, hash(tests.infos), cur_dtw, norm_2, dtw_args={\"z_normalize\": True, \"l\": 0.2})\n",
    "wrap.fill_distances()"
   ]
  },
  {
   "cell_type": "code",
   "execution_count": null,
   "metadata": {},
   "outputs": [],
   "source": [
    "tmp = np.genfromtxt(\"../data/distances/dtwnorm_2z_normalizeTruel0.2-43544539162478229291.csv\")\n",
    "(tmp < 0).sum() / (tmp != -1000).sum()"
   ]
  },
  {
   "cell_type": "code",
   "execution_count": null,
   "metadata": {},
   "outputs": [],
   "source": [
    "DtwWrapper(tests.X, hash(tests.infos), dtw, norm_2, dtw_args={\"z_normalize\": True, \"l\": 0.2})\n",
    "info = tests.test_dtw(dtw, norm_2, dtw_args={\"z_normalize\": True, \"l\": 0.2})\n",
    "info.cluster(24)\n",
    "info.stats\n",
    "index = info.stats.head(10).index.values\n",
    "classifier_stat = {}\n",
    "for i in info.stats.index:\n",
    "    classifier_stat[i] = pd.Series(info.label[np.where(info.clusters_labels == i)[0]]).value_counts()\n",
    "    \n",
    "pd.DataFrame(classifier_stat).fillna(0)"
   ]
  },
  {
   "cell_type": "code",
   "execution_count": 6,
   "metadata": {},
   "outputs": [
    {
     "data": {
      "text/plain": [
       "True"
      ]
     },
     "execution_count": 6,
     "metadata": {},
     "output_type": "execute_result"
    }
   ],
   "source": [
    "1 % 4 == 1"
   ]
  },
  {
   "cell_type": "code",
   "execution_count": null,
   "metadata": {},
   "outputs": [],
   "source": []
  }
 ],
 "metadata": {
  "kernelspec": {
   "display_name": "Python 3",
   "language": "python",
   "name": "python3"
  },
  "language_info": {
   "codemirror_mode": {
    "name": "ipython",
    "version": 3
   },
   "file_extension": ".py",
   "mimetype": "text/x-python",
   "name": "python",
   "nbconvert_exporter": "python",
   "pygments_lexer": "ipython3",
   "version": "3.7.0"
  }
 },
 "nbformat": 4,
 "nbformat_minor": 2
}
