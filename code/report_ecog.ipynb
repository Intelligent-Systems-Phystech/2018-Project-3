{
 "cells": [
  {
   "cell_type": "code",
   "execution_count": null,
   "metadata": {},
   "outputs": [],
   "source": [
    "import numpy as np\n",
    "import dill\n",
    "from testing import TestFactory\n",
    "from dtw import dtw_ln\n",
    "from scipy.spatial.distance import cosine"
   ]
  },
  {
   "cell_type": "code",
   "execution_count": null,
   "metadata": {},
   "outputs": [],
   "source": [
    "distances = {\n",
    "    \"l1\": lambda x, y: np.linalg.norm(x - y, 1),\n",
    "    \"l2\": lambda x, y: np.linalg.norm(x - y, 2),\n",
    "    \"cosine\": cosine\n",
    "}"
   ]
  },
  {
   "cell_type": "code",
   "execution_count": null,
   "metadata": {},
   "outputs": [],
   "source": [
    "params = {\n",
    "    \"nrow\": 1000000,\n",
    "    \"window_size\": 10,\n",
    "    \"element_length\": 50,\n",
    "    \"path\": \"../data/Eye-Motion/ECoG.csv\",\n",
    "    \"overlap\": 0,\n",
    "    \"shuffle\": True,\n",
    "    \"sample_size\": 1000,\n",
    "    \"chanel_num\": 32,\n",
    "    \"repeat_num\": 1\n",
    "}\n",
    "\n",
    "dtw_name = \"dtw_l=0.2\"\n",
    "\n",
    "tests = TestFactory(random_state=42, params=params)\n",
    "X = tests.set_sample(10)\n",
    "print(tests.res_dir)"
   ]
  },
  {
   "cell_type": "code",
   "execution_count": null,
   "metadata": {},
   "outputs": [],
   "source": [
    "results = {\n",
    "    \"common\": {},\n",
    "    \"normalization\": {},\n",
    "    \"taxes\": {}\n",
    "}\n",
    "for name, distance in distances.items():\n",
    "    results[\"common\"][name] = tests.test_dtw(dtw_ln, distance, description=\"{0}_dist{1}\".format(dtw_name, name), dtw_args={\"l\":0.2})\n",
    "    results[\"normalization\"][name] = tests.test_dtw(dtw_ln, distance,\n",
    "                                              description=\"{0}_dist{1}\".format(dtw_name, name),\n",
    "                                              dtw_args={\"l\": 0.2, \"zscr\": True})\n",
    "    results[\"taxes\"][name] = tests.test_dtw(dtw_ln, distance,\n",
    "                                         description=\"{0}_dist{1}\".format(dtw_name, name),\n",
    "                                         dtw_args={\"l\":0.2, \"taxes\": True})"
   ]
  },
  {
   "cell_type": "code",
   "execution_count": null,
   "metadata": {},
   "outputs": [],
   "source": [
    "with open(\"{0}/{1}\".format(tests.res_dir, \"dtw_results\"), \"wb\") as f:\n",
    "    dill.dump(results, f)"
   ]
  },
  {
   "cell_type": "code",
   "execution_count": null,
   "metadata": {},
   "outputs": [],
   "source": [
    "results_ar = {}\n",
    "window_size = 10\n",
    "results_ar[\"common\"] = tests.ar_clustering(window_size, description=\"50|32|ar\")\n",
    "results_ar[\"normalization\"] = tests.ar_clustering(window_size, description=\"50|32|ar\", normalization=True)"
   ]
  },
  {
   "cell_type": "code",
   "execution_count": null,
   "metadata": {},
   "outputs": [],
   "source": [
    "with open(\"{0}/{1}\".format(tests.res_dir, \"ar_results\"), \"wb\") as f:\n",
    "    dill.dump(results_ar, f)"
   ]
  },
  {
   "cell_type": "code",
   "execution_count": null,
   "metadata": {},
   "outputs": [],
   "source": []
  }
 ],
 "metadata": {
  "kernelspec": {
   "display_name": "Python 3",
   "language": "python",
   "name": "python3"
  },
  "language_info": {
   "codemirror_mode": {
    "name": "ipython",
    "version": 3
   },
   "file_extension": ".py",
   "mimetype": "text/x-python",
   "name": "python",
   "nbconvert_exporter": "python",
   "pygments_lexer": "ipython3",
   "version": "3.6.6"
  }
 },
 "nbformat": 4,
 "nbformat_minor": 2
}
