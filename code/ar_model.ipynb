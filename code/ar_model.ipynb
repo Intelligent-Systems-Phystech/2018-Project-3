{
 "cells": [
  {
   "cell_type": "code",
   "execution_count": 2,
   "metadata": {},
   "outputs": [
    {
     "name": "stdout",
     "output_type": "stream",
     "text": [
      "The autoreload extension is already loaded. To reload it, use:\n",
      "  %reload_ext autoreload\n"
     ]
    }
   ],
   "source": [
    "import pandas as pd\n",
    "import numpy as np\n",
    "import matplotlib.pyplot as plt\n",
    "\n",
    "%load_ext autoreload\n",
    "%autoreload 2\n",
    "from dtw import dtw, dtw_ln\n",
    "from testing import TestFactory\n",
    "from models import Autoregression\n",
    "from scipy.cluster.hierarchy import dendrogram, linkage, fcluster\n",
    "from scipy.spatial import distance"
   ]
  },
  {
   "cell_type": "code",
   "execution_count": 10,
   "metadata": {},
   "outputs": [],
   "source": [
    "tests = TestFactory(random_state=42)\n",
    "X = tests.set_sample(40)"
   ]
  },
  {
   "cell_type": "code",
   "execution_count": 11,
   "metadata": {},
   "outputs": [
    {
     "name": "stdout",
     "output_type": "stream",
     "text": [
      "Loss: 42837.242\n",
      "Loss: 1580.146\n",
      "Loss: 122990.750\n",
      "Loss: 2242.432\n",
      "Loss: 128354.211\n",
      "Loss: 3143.390\n",
      "Loss: 44068.770\n",
      "Loss: 1532.654\n",
      "Loss: 63820.445\n",
      "Loss: 2616.681\n",
      "Loss: 18152.092\n",
      "Loss: 886.880\n",
      "Loss: 53515.449\n",
      "Loss: 1786.960\n",
      "Loss: 75878.719\n",
      "Loss: 5127.099\n",
      "Loss: 51764.281\n",
      "Loss: 1132.072\n",
      "Loss: 146922.922\n",
      "Loss: 3170.179\n",
      "Loss: 32557.195\n",
      "Loss: 1449.598\n",
      "Loss: 51766.578\n",
      "Loss: 3263.767\n",
      "Loss: 29347.451\n",
      "Loss: 1150.496\n",
      "Loss: 79596.047\n",
      "Loss: 4449.789\n",
      "Loss: 69781.734\n",
      "Loss: 1331.406\n",
      "Loss: 22933.074\n",
      "Loss: 2126.980\n",
      "Loss: 31155.688\n",
      "Loss: 1602.792\n",
      "Loss: 63868.617\n",
      "Loss: 4479.257\n",
      "Loss: 55674.867\n",
      "Loss: 5061.004\n",
      "Loss: 59883.320\n",
      "Loss: 6336.365\n",
      "Loss: 45249.734\n",
      "Loss: 2821.557\n",
      "Loss: 120621.266\n",
      "Loss: 5655.795\n",
      "Loss: 76840.469\n",
      "Loss: 1684.924\n",
      "Loss: 77105.828\n",
      "Loss: 2140.392\n",
      "Loss: 19443.930\n",
      "Loss: 1801.766\n",
      "Loss: 37622.812\n",
      "Loss: 3149.668\n",
      "Loss: 39667.059\n",
      "Loss: 3317.514\n",
      "Loss: 44270.641\n",
      "Loss: 2660.731\n",
      "Loss: 10037.298\n",
      "Loss: 1085.133\n",
      "Loss: 15988.547\n",
      "Loss: 1317.083\n",
      "Loss: 49738.934\n",
      "Loss: 1424.608\n",
      "Loss: 12754.095\n",
      "Loss: 827.038\n",
      "Loss: 19811.348\n",
      "Loss: 856.676\n",
      "Loss: 51520.445\n",
      "Loss: 1796.512\n",
      "Loss: 34635.367\n",
      "Loss: 1278.924\n",
      "Loss: 18698.891\n",
      "Loss: 952.724\n",
      "Loss: 46054.320\n",
      "Loss: 1391.360\n",
      "Loss: 43416.461\n",
      "Loss: 613.423\n",
      "Loss: 7871.947\n",
      "Loss: 1141.514\n",
      "Loss: 44438.020\n",
      "Loss: 2032.353\n"
     ]
    }
   ],
   "source": [
    "ar_models = []\n",
    "window_size = 10\n",
    "\n",
    "for series in X:\n",
    "    ar = Autoregression(series.loc[:, :\"ECoG_ch3\"], window_size)\n",
    "    ar.fit(10)\n",
    "    ar_models.append(ar.coeffecients())"
   ]
  },
  {
   "cell_type": "code",
   "execution_count": 12,
   "metadata": {},
   "outputs": [],
   "source": [
    "coeffs = []\n",
    "for series in ar_models:\n",
    "    coeff = [np.array(np.concatenate([x.detach().numpy() for x in chanel], axis=0)) for chanel in series]\n",
    "    coeffs.append(np.concatenate(coeff, axis=0))\n",
    "coeffs = np.array(coeffs)"
   ]
  },
  {
   "cell_type": "code",
   "execution_count": 13,
   "metadata": {},
   "outputs": [],
   "source": [
    "Z = linkage(coeffs, metric=distance.euclidean)"
   ]
  },
  {
   "cell_type": "code",
   "execution_count": 14,
   "metadata": {},
   "outputs": [
    {
     "data": {
      "image/png": "[encoded data removed]",
      "text/plain": [
       "<Figure size 1080x720 with 1 Axes>"
      ]
     },
     "metadata": {
      "needs_background": "light"
     },
     "output_type": "display_data"
    }
   ],
   "source": [
    "fig = plt.figure(figsize=(15, 10))\n",
    "dn = dendrogram(Z)"
   ]
  },
  {
   "cell_type": "code",
   "execution_count": 15,
   "metadata": {},
   "outputs": [],
   "source": [
    "cluster_num = 3\n",
    "clusters_labels = fcluster(Z, cluster_num, criterion='maxclust')"
   ]
  },
  {
   "cell_type": "code",
   "execution_count": 16,
   "metadata": {},
   "outputs": [
    {
     "ename": "AttributeError",
     "evalue": "'TestFactory' object has no attribute 'show_clustered'",
     "output_type": "error",
     "traceback": [
      "\u001b[1;31m---------------------------------------------------------------------------\u001b[0m",
      "\u001b[1;31mAttributeError\u001b[0m                            Traceback (most recent call last)",
      "\u001b[1;32m<ipython-input-16-2b42adee577f>\u001b[0m in \u001b[0;36m<module>\u001b[1;34m()\u001b[0m\n\u001b[1;32m----> 1\u001b[1;33m \u001b[0mtests\u001b[0m\u001b[1;33m.\u001b[0m\u001b[0mshow_clustered\u001b[0m\u001b[1;33m(\u001b[0m\u001b[0mZ\u001b[0m\u001b[1;33m,\u001b[0m \u001b[0mclusters_labels\u001b[0m\u001b[1;33m,\u001b[0m \u001b[0mlabel\u001b[0m\u001b[1;33m=\u001b[0m\u001b[1;36m2\u001b[0m\u001b[1;33m,\u001b[0m \u001b[0mch\u001b[0m\u001b[1;33m=\u001b[0m\u001b[1;36m1\u001b[0m\u001b[1;33m)\u001b[0m\u001b[1;33m\u001b[0m\u001b[0m\n\u001b[0m",
      "\u001b[1;31mAttributeError\u001b[0m: 'TestFactory' object has no attribute 'show_clustered'"
     ]
    }
   ],
   "source": [
    "tests.show_clustered(Z, clusters_labels, label=2, ch=1)"
   ]
  },
  {
   "cell_type": "code",
   "execution_count": null,
   "metadata": {},
   "outputs": [],
   "source": []
  }
 ],
 "metadata": {
  "kernelspec": {
   "display_name": "Python 3",
   "language": "python",
   "name": "python3"
  },
  "language_info": {
   "codemirror_mode": {
    "name": "ipython",
    "version": 3
   },
   "file_extension": ".py",
   "mimetype": "text/x-python",
   "name": "python",
   "nbconvert_exporter": "python",
   "pygments_lexer": "ipython3",
   "version": "3.7.0"
  }
 },
 "nbformat": 4,
 "nbformat_minor": 2
}
