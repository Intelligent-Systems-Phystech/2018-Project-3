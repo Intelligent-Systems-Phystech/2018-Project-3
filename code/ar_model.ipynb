{
 "cells": [
  {
   "cell_type": "code",
   "execution_count": 24,
   "metadata": {},
   "outputs": [
    {
     "name": "stdout",
     "output_type": "stream",
     "text": [
      "The autoreload extension is already loaded. To reload it, use:\n",
      "  %reload_ext autoreload\n"
     ]
    }
   ],
   "source": [
    "import pandas as pd\n",
    "import numpy as np\n",
    "import matplotlib.pyplot as plt\n",
    "\n",
    "%load_ext autoreload\n",
    "%autoreload 2\n",
    "from dtw import dtw, dtw_improved, dtw_ln, accelerated_dtw\n",
    "from testing import TestFactory\n",
    "from models import Autoregression"
   ]
  },
  {
   "cell_type": "code",
   "execution_count": 25,
   "metadata": {},
   "outputs": [],
   "source": [
    "tests = TestFactory(random_state=42)\n",
    "X = tests.get_n(10)"
   ]
  },
  {
   "cell_type": "code",
   "execution_count": 26,
   "metadata": {},
   "outputs": [
    {
     "name": "stdout",
     "output_type": "stream",
     "text": [
      "Loss: 23764.102\n",
      "Loss: 4423.001\n",
      "Loss: 62012.180\n",
      "Loss: 4163.066\n",
      "Loss: 119072.797\n",
      "Loss: 7401.385\n",
      "Loss: 11141.668\n",
      "Loss: 4136.823\n",
      "Loss: 45357.773\n",
      "Loss: 2410.301\n",
      "Loss: 52055.934\n",
      "Loss: 2869.995\n",
      "Loss: 149240.422\n",
      "Loss: 3557.559\n",
      "Loss: 39409.918\n",
      "Loss: 3531.919\n",
      "Loss: 43496.625\n",
      "Loss: 3005.083\n",
      "Loss: 81401.328\n",
      "Loss: 4414.825\n"
     ]
    }
   ],
   "source": [
    "ar_models = []\n",
    "window_size = 10\n",
    "\n",
    "for series in X:\n",
    "    ar = Autoregression(series.loc[:, :\"ECoG_ch3\"], window_size)\n",
    "    ar.fit(10)\n",
    "    ar_models.append(ar.coeffecients())"
   ]
  },
  {
   "cell_type": "code",
   "execution_count": 29,
   "metadata": {},
   "outputs": [
    {
     "data": {
      "text/plain": [
       "(tensor([-0.5777,  0.1128,  0.0691, -0.1700,  0.0169, -0.1375, -0.0055, -0.3513,\n",
       "         -0.0007,  1.5765], grad_fn=<AsStridedBackward>),\n",
       " tensor([-18.8836], grad_fn=<AsStridedBackward>))"
      ]
     },
     "execution_count": 29,
     "metadata": {},
     "output_type": "execute_result"
    }
   ],
   "source": [
    "ar_models[0][0]"
   ]
  },
  {
   "cell_type": "code",
   "execution_count": 31,
   "metadata": {},
   "outputs": [],
   "source": [
    "res_coeff = np.array(np.concatenate([x.detach().numpy() for x in ar_models[0][0]], axis=0))"
   ]
  },
  {
   "cell_type": "code",
   "execution_count": null,
   "metadata": {},
   "outputs": [],
   "source": []
  }
 ],
 "metadata": {
  "kernelspec": {
   "display_name": "Python 3",
   "language": "python",
   "name": "python3"
  },
  "language_info": {
   "codemirror_mode": {
    "name": "ipython",
    "version": 3
   },
   "file_extension": ".py",
   "mimetype": "text/x-python",
   "name": "python",
   "nbconvert_exporter": "python",
   "pygments_lexer": "ipython3",
   "version": "3.7.0"
  }
 },
 "nbformat": 4,
 "nbformat_minor": 2
}
