{
 "cells": [
  {
   "cell_type": "code",
   "execution_count": 2,
   "metadata": {},
   "outputs": [],
   "source": [
    "%load_ext autoreload\n",
    "%autoreload 2\n",
    "\n",
    "import re\n",
    "import numpy as np\n",
    "import pandas as pd\n",
    "import subprocess\n",
    "\n",
    "from matplotlib import pyplot as plt\n",
    "from scipy.io import arff\n",
    "from scipy.stats import zscore\n",
    "\n",
    "from DBA_multivariate import performDBA\n",
    "from search_subsequence import search_dtw, decision, search_ed, OUPUT_STARTS_REGEXP, OUPUT_BASE_REGEXP"
   ]
  },
  {
   "cell_type": "markdown",
   "metadata": {},
   "source": [
    "# Эксперимент 1\n",
    "## Сравнение производителности с оптимизациями и без них\n",
    "**Датасет**: рукописные цифры"
   ]
  },
  {
   "cell_type": "code",
   "execution_count": 3,
   "metadata": {},
   "outputs": [],
   "source": [
    "keys = pd.read_csv(\"../data/search_subseries/character/character_trajectories_labels.csv\", index_col=0)\n",
    "warp_window = 0.05\n",
    "subseq_len = 100\n",
    "closest_series_num = 80 \n",
    "character = 9\n",
    "true_subseq_len = 182"
   ]
  },
  {
   "cell_type": "markdown",
   "metadata": {},
   "source": [
    "### Усреднение: DBA"
   ]
  },
  {
   "cell_type": "code",
   "execution_count": 4,
   "metadata": {},
   "outputs": [
    {
     "name": "stdout",
     "output_type": "stream",
     "text": [
      "character:   1 | 0.932 | 1.869 \n",
      "character:   2 | 0.793 | 2.114 \n",
      "character:   3 | 0.932 | 1.675 \n",
      "character:   4 | 0.924 | 1.514 \n",
      "character:   5 | 0.975 | 2.656 \n",
      "character:   6 | 0.912 | 1.814 \n",
      "character:   7 | 0.843 | 1.350 \n",
      "character:   8 | 0.787 | 1.134 \n",
      "character:   9 | 1.000 | 2.523 \n",
      "character:  10 | 0.566 | 1.223 \n",
      "character:  11 | 0.983 | 2.007 \n",
      "character:  12 | 0.887 | 2.066 \n",
      "character:  13 | 0.860 | 1.764 \n",
      "character:  14 | 0.511 | 2.160 \n",
      "character:  15 | 0.981 | 2.337 \n",
      "character:  16 | 0.755 | 1.418 \n",
      "character:  17 | 1.000 | 2.288 \n",
      "character:  18 | 0.720 | 1.632 \n",
      "character:  19 | 0.804 | 2.149 \n",
      "character:  20 | 0.973 | 2.688 \n"
     ]
    }
   ],
   "source": [
    "for character in range(1, 21):\n",
    "    closest, elapsed = search_dtw(closest_series_num, subseq_len, warp_window,\n",
    "                     \"../data/search_subseries/character/character_trajectories.csv\",\n",
    "                     \"../data/search_subseries/character/dba_averaged_{0}.csv\".format(character), 1)\n",
    "    expected = np.array(list(closest.keys()))\n",
    "    true_starts = keys[keys.labels == character].start.values\n",
    "\n",
    "    print(\"character: {0:>3d} | {1:.3f} | {2:.3f} \".format(\n",
    "        character,\n",
    "        decision(true_starts, expected, 182, subseq_len),\n",
    "        elapsed))"
   ]
  },
  {
   "cell_type": "code",
   "execution_count": 5,
   "metadata": {},
   "outputs": [
    {
     "name": "stdout",
     "output_type": "stream",
     "text": [
      "character:   1 | 0.877 | 1.258 \n",
      "character:   2 | 0.741 | 1.374 \n",
      "character:   3 | 0.898 | 1.072 \n",
      "character:   4 | 0.924 | 0.754 \n",
      "character:   5 | 0.975 | 1.103 \n",
      "character:   6 | 0.877 | 1.255 \n",
      "character:   7 | 0.804 | 0.917 \n",
      "character:   8 | 0.853 | 0.848 \n",
      "character:   9 | 1.000 | 1.547 \n",
      "character:  10 | 0.528 | 0.840 \n",
      "character:  11 | 0.948 | 1.379 \n",
      "character:  12 | 0.792 | 1.486 \n",
      "character:  13 | 0.740 | 1.214 \n",
      "character:  14 | 0.447 | 1.457 \n",
      "character:  15 | 0.981 | 1.564 \n",
      "character:  16 | 0.623 | 1.021 \n",
      "character:  17 | 1.000 | 1.606 \n",
      "character:  18 | 0.660 | 1.043 \n",
      "character:  19 | 0.804 | 1.562 \n",
      "character:  20 | 0.890 | 1.807 \n"
     ]
    }
   ],
   "source": [
    "for character in range(1, 21):\n",
    "    closest, elapsed = search_dtw(closest_series_num, subseq_len, warp_window,\n",
    "                     \"../data/search_subseries/character/character_trajectories.csv\",\n",
    "                     \"../data/search_subseries/character/dba_averaged_{0}.csv\".format(character), 2)\n",
    "    expected = np.array(list(closest.keys()))\n",
    "    true_starts = keys[keys.labels == character].start.values\n",
    "\n",
    "    print(\"character: {0:>3d} | {1:.3f} | {2:.3f} \".format(\n",
    "        character,\n",
    "        decision(true_starts, expected, 182, subseq_len),\n",
    "        elapsed))"
   ]
  },
  {
   "cell_type": "markdown",
   "metadata": {},
   "source": [
    "### Усреднение: mean"
   ]
  },
  {
   "cell_type": "code",
   "execution_count": 6,
   "metadata": {},
   "outputs": [
    {
     "name": "stdout",
     "output_type": "stream",
     "text": [
      "character:   1 | 0.986 | 1.946 \n",
      "character:   2 | 0.879 | 1.926 \n",
      "character:   3 | 0.898 | 1.566 \n",
      "character:   4 | 0.985 | 1.379 \n",
      "character:   5 | 0.988 | 1.520 \n",
      "character:   6 | 0.965 | 1.810 \n",
      "character:   7 | 0.882 | 1.448 \n",
      "character:   8 | 0.880 | 1.323 \n",
      "character:   9 | 1.000 | 2.738 \n",
      "character:  10 | 0.585 | 1.368 \n",
      "character:  11 | 1.000 | 1.871 \n",
      "character:  12 | 0.717 | 1.989 \n",
      "character:  13 | 0.920 | 1.649 \n",
      "character:  14 | 0.936 | 1.977 \n",
      "character:  15 | 0.981 | 2.569 \n",
      "character:  16 | 0.830 | 1.478 \n",
      "character:  17 | 1.000 | 2.285 \n",
      "character:  18 | 0.600 | 1.573 \n",
      "character:  19 | 0.893 | 1.986 \n",
      "character:  20 | 0.945 | 2.620 \n"
     ]
    }
   ],
   "source": [
    "for character in range(1, 21):\n",
    "    closest, elapsed = search_dtw(closest_series_num, subseq_len, warp_window,\n",
    "                     \"../data/search_subseries/character/character_trajectories.csv\",\n",
    "                     \"../data/search_subseries/character/averaged_{0}.csv\".format(character), 1)\n",
    "    expected = np.array(list(closest.keys()))\n",
    "    true_starts = keys[keys.labels == character].start.values\n",
    "\n",
    "    print(\"character: {0:>3d} | {1:.3f} | {2:.3f} \".format(\n",
    "        character,\n",
    "        decision(true_starts, expected, 182, subseq_len),\n",
    "        elapsed))"
   ]
  },
  {
   "cell_type": "code",
   "execution_count": 7,
   "metadata": {},
   "outputs": [
    {
     "name": "stdout",
     "output_type": "stream",
     "text": [
      "character:   1 | 0.863 | 1.201 \n",
      "character:   2 | 0.828 | 1.353 \n",
      "character:   3 | 0.881 | 1.077 \n",
      "character:   4 | 0.970 | 0.995 \n",
      "character:   5 | 0.988 | 1.034 \n",
      "character:   6 | 0.947 | 1.376 \n",
      "character:   7 | 0.863 | 0.956 \n",
      "character:   8 | 0.893 | 0.952 \n",
      "character:   9 | 0.980 | 1.608 \n",
      "character:  10 | 0.547 | 0.925 \n",
      "character:  11 | 0.948 | 1.251 \n",
      "character:  12 | 0.717 | 1.447 \n",
      "character:  13 | 0.780 | 1.163 \n",
      "character:  14 | 0.872 | 1.377 \n",
      "character:  15 | 1.000 | 1.632 \n",
      "character:  16 | 0.660 | 1.017 \n",
      "character:  17 | 1.000 | 1.557 \n",
      "character:  18 | 0.540 | 1.020 \n",
      "character:  19 | 0.893 | 1.343 \n",
      "character:  20 | 0.918 | 1.829 \n"
     ]
    }
   ],
   "source": [
    "for character in range(1, 21):\n",
    "    closest, elapsed = search_dtw(closest_series_num, subseq_len, warp_window,\n",
    "                     \"../data/search_subseries/character/character_trajectories.csv\",\n",
    "                     \"../data/search_subseries/character/averaged_{0}.csv\".format(character), 2)\n",
    "    expected = np.array(list(closest.keys()))\n",
    "    true_starts = keys[keys.labels == character].start.values\n",
    "\n",
    "    print(\"character: {0:>3d} | {1:.3f} | {2:.3f} \".format(\n",
    "        character,\n",
    "        decision(true_starts, expected, 182, subseq_len),\n",
    "        elapsed))"
   ]
  },
  {
   "cell_type": "markdown",
   "metadata": {},
   "source": [
    "## Без оптимизаций"
   ]
  },
  {
   "cell_type": "markdown",
   "metadata": {},
   "source": [
    "### Усреднение: DBA"
   ]
  },
  {
   "cell_type": "code",
   "execution_count": 8,
   "metadata": {},
   "outputs": [
    {
     "name": "stdout",
     "output_type": "stream",
     "text": [
      "character:   1 | 0.877 | 1.289 \n",
      "character:   2 | 0.741 | 1.379 \n",
      "character:   3 | 0.898 | 1.080 \n",
      "character:   4 | 0.924 | 0.746 \n",
      "character:   5 | 0.975 | 1.095 \n",
      "character:   6 | 0.877 | 1.263 \n",
      "character:   7 | 0.804 | 0.924 \n",
      "character:   8 | 0.853 | 0.843 \n",
      "character:   9 | 1.000 | 1.559 \n",
      "character:  10 | 0.528 | 0.843 \n",
      "character:  11 | 0.948 | 1.384 \n",
      "character:  12 | 0.792 | 1.489 \n",
      "character:  13 | 0.740 | 1.210 \n",
      "character:  14 | 0.447 | 1.459 \n",
      "character:  15 | 0.981 | 1.573 \n",
      "character:  16 | 0.623 | 1.034 \n",
      "character:  17 | 1.000 | 1.608 \n",
      "character:  18 | 0.660 | 1.040 \n",
      "character:  19 | 0.804 | 1.569 \n",
      "character:  20 | 0.890 | 1.798 \n"
     ]
    }
   ],
   "source": [
    "for character in range(1, 21):\n",
    "    closest, elapsed = search_dtw(closest_series_num, subseq_len, warp_window,\n",
    "                     \"../data/search_subseries/character/character_trajectories.csv\",\n",
    "                     \"../data/search_subseries/character/dba_averaged_{0}.csv\".format(character),\n",
    "                     2, optimize=False)\n",
    "    expected = np.array(list(closest.keys()))\n",
    "    true_starts = keys[keys.labels == character].start.values\n",
    "\n",
    "    print(\"character: {0:>3d} | {1:.3f} | {2:.3f} \".format(\n",
    "        character,\n",
    "        decision(true_starts, expected, 182, subseq_len),\n",
    "        elapsed))"
   ]
  },
  {
   "cell_type": "code",
   "execution_count": 10,
   "metadata": {},
   "outputs": [
    {
     "name": "stdout",
     "output_type": "stream",
     "text": [
      "character:   1 | 0.932 | 1.930 \n",
      "character:   2 | 0.793 | 1.986 \n",
      "character:   3 | 0.932 | 1.912 \n",
      "character:   4 | 0.924 | 1.150 \n",
      "character:   5 | 0.975 | 1.806 \n",
      "character:   6 | 0.912 | 2.222 \n",
      "character:   7 | 0.843 | 1.655 \n",
      "character:   8 | 0.787 | 1.184 \n",
      "character:   9 | 1.000 | 3.132 \n",
      "character:  10 | 0.566 | 1.325 \n",
      "character:  11 | 0.983 | 2.382 \n",
      "character:  12 | 0.887 | 2.415 \n",
      "character:  13 | 0.860 | 1.798 \n",
      "character:  14 | 0.511 | 2.216 \n",
      "character:  15 | 0.981 | 2.368 \n",
      "character:  16 | 0.755 | 1.455 \n",
      "character:  17 | 1.000 | 2.486 \n",
      "character:  18 | 0.720 | 1.827 \n",
      "character:  19 | 0.804 | 2.217 \n",
      "character:  20 | 0.973 | 2.742 \n"
     ]
    }
   ],
   "source": [
    "for character in range(1, 21):\n",
    "    closest, elapsed = search_dtw(closest_series_num, subseq_len, warp_window,\n",
    "                     \"../data/search_subseries/character/character_trajectories.csv\",\n",
    "                     \"../data/search_subseries/character/dba_averaged_{0}.csv\".format(character),\n",
    "                     1, optimize=False)\n",
    "    expected = np.array(list(closest.keys()))\n",
    "    true_starts = keys[keys.labels == character].start.values\n",
    "\n",
    "    print(\"character: {0:>3d} | {1:.3f} | {2:.3f} \".format(\n",
    "        character,\n",
    "        decision(true_starts, expected, 182, subseq_len),\n",
    "        elapsed))"
   ]
  },
  {
   "cell_type": "markdown",
   "metadata": {},
   "source": [
    "### Усреднение: mean"
   ]
  },
  {
   "cell_type": "code",
   "execution_count": 11,
   "metadata": {},
   "outputs": [
    {
     "name": "stdout",
     "output_type": "stream",
     "text": [
      "character:   1 | 0.986 | 1.787 \n",
      "character:   2 | 0.879 | 2.242 \n",
      "character:   3 | 0.898 | 1.980 \n",
      "character:   4 | 0.985 | 1.668 \n",
      "character:   5 | 0.988 | 1.992 \n",
      "character:   6 | 0.965 | 1.950 \n",
      "character:   7 | 0.882 | 1.669 \n",
      "character:   8 | 0.880 | 1.410 \n",
      "character:   9 | 1.000 | 2.819 \n",
      "character:  10 | 0.585 | 1.407 \n",
      "character:  11 | 1.000 | 2.116 \n",
      "character:  12 | 0.717 | 2.480 \n",
      "character:  13 | 0.920 | 1.748 \n",
      "character:  14 | 0.936 | 2.454 \n",
      "character:  15 | 0.981 | 2.704 \n",
      "character:  16 | 0.830 | 1.519 \n",
      "character:  17 | 1.000 | 2.377 \n",
      "character:  18 | 0.600 | 1.763 \n",
      "character:  19 | 0.893 | 2.281 \n",
      "character:  20 | 0.945 | 2.932 \n"
     ]
    }
   ],
   "source": [
    "for character in range(1, 21):\n",
    "    closest, elapsed = search_dtw(closest_series_num, subseq_len, warp_window,\n",
    "                     \"../data/search_subseries/character/character_trajectories.csv\",\n",
    "                     \"../data/search_subseries/character/averaged_{0}.csv\".format(character),\n",
    "                     1, optimize=False)\n",
    "    expected = np.array(list(closest.keys()))\n",
    "    true_starts = keys[keys.labels == character].start.values\n",
    "\n",
    "    print(\"character: {0:>3d} | {1:.3f} | {2:.3f} \".format(\n",
    "        character,\n",
    "        decision(true_starts, expected, 182, subseq_len),\n",
    "        elapsed))"
   ]
  },
  {
   "cell_type": "code",
   "execution_count": 12,
   "metadata": {},
   "outputs": [
    {
     "name": "stdout",
     "output_type": "stream",
     "text": [
      "character:   1 | 0.863 | 1.510 \n",
      "character:   2 | 0.828 | 1.520 \n",
      "character:   3 | 0.881 | 1.185 \n",
      "character:   4 | 0.970 | 1.031 \n",
      "character:   5 | 0.988 | 1.079 \n",
      "character:   6 | 0.947 | 1.471 \n",
      "character:   7 | 0.863 | 1.145 \n",
      "character:   8 | 0.893 | 1.331 \n",
      "character:   9 | 0.980 | 2.044 \n",
      "character:  10 | 0.547 | 1.146 \n",
      "character:  11 | 0.948 | 1.389 \n",
      "character:  12 | 0.717 | 1.615 \n",
      "character:  13 | 0.780 | 1.431 \n",
      "character:  14 | 0.872 | 1.553 \n",
      "character:  15 | 1.000 | 1.662 \n",
      "character:  16 | 0.660 | 1.246 \n",
      "character:  17 | 1.000 | 1.902 \n",
      "character:  18 | 0.540 | 1.023 \n",
      "character:  19 | 0.893 | 1.584 \n",
      "character:  20 | 0.918 | 1.857 \n"
     ]
    }
   ],
   "source": [
    "for character in range(1, 21):\n",
    "    closest, elapsed = search_dtw(closest_series_num, subseq_len, warp_window,\n",
    "                     \"../data/search_subseries/character/character_trajectories.csv\",\n",
    "                     \"../data/search_subseries/character/averaged_{0}.csv\".format(character),\n",
    "                     2, optimize=False)\n",
    "    expected = np.array(list(closest.keys()))\n",
    "    true_starts = keys[keys.labels == character].start.values\n",
    "\n",
    "    print(\"character: {0:>3d} | {1:.3f} | {2:.3f} \".format(\n",
    "        character,\n",
    "        decision(true_starts, expected, 182, subseq_len),\n",
    "        elapsed))"
   ]
  },
  {
   "cell_type": "markdown",
   "metadata": {},
   "source": [
    "## Эпилепсия"
   ]
  },
  {
   "cell_type": "code",
   "execution_count": 15,
   "metadata": {},
   "outputs": [],
   "source": [
    "keys = np.genfromtxt(\"../data/search_subseries/epi_series_epi_ranges.csv\")\n",
    "real_len = 206\n",
    "real_starts = keys[:, 0]\n",
    "closest_series_num = 20\n",
    "subseq_len = 140\n",
    "warp_window = 0.5"
   ]
  },
  {
   "cell_type": "code",
   "execution_count": 17,
   "metadata": {},
   "outputs": [
    {
     "name": "stdout",
     "output_type": "stream",
     "text": [
      "character:   0 | 0.750 | 19.129 \n"
     ]
    }
   ],
   "source": [
    "closest, elapsed = search_dtw(closest_series_num, subseq_len, warp_window,\n",
    "                     \"../data/search_subseries/epi_series.csv\",\n",
    "                     \"../data/search_subseries/average_attack.csv\",\n",
    "                     2, optimize=False)\n",
    "expected = np.array(list(closest.keys()))\n",
    "\n",
    "print(\"character: {0:>3d} | {1:.3f} | {2:.3f} \".format(\n",
    "    0,\n",
    "    decision(real_starts, expected, real_len, subseq_len),\n",
    "    elapsed))"
   ]
  },
  {
   "cell_type": "code",
   "execution_count": null,
   "metadata": {},
   "outputs": [],
   "source": []
  }
 ],
 "metadata": {
  "kernelspec": {
   "display_name": "Python 3",
   "language": "python",
   "name": "python3"
  },
  "language_info": {
   "codemirror_mode": {
    "name": "ipython",
    "version": 3
   },
   "file_extension": ".py",
   "mimetype": "text/x-python",
   "name": "python",
   "nbconvert_exporter": "python",
   "pygments_lexer": "ipython3",
   "version": "3.7.0"
  }
 },
 "nbformat": 4,
 "nbformat_minor": 2
}
