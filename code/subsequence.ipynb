{
 "cells": [
  {
   "cell_type": "code",
   "execution_count": 1,
   "metadata": {},
   "outputs": [],
   "source": [
    "import re\n",
    "import numpy as np\n",
    "import pandas as pd\n",
    "import subprocess\n",
    "\n",
    "from matplotlib import pyplot as plt\n",
    "from scipy.io import arff\n",
    "from scipy.stats import zscore\n",
    "\n",
    "from DBA_multivariate import performDBA\n",
    "from search_subsequence import search_dtw, decision, search_ed, OUPUT_STARTS_REGEXP, OUPUT_BASE_REGEXP"
   ]
  },
  {
   "cell_type": "markdown",
   "metadata": {},
   "source": [
    "# Эксперимент 1\n",
    "## Сравнение производителности с оптимизациями и без них\n",
    "**Датасет**: рукописные цифры"
   ]
  },
  {
   "cell_type": "code",
   "execution_count": 38,
   "metadata": {},
   "outputs": [],
   "source": [
    "keys = pd.read_csv(\"../data/search_subseries/character/character_trajectories_labels.csv\", index_col=0)\n",
    "warp_window = 0.05\n",
    "subseq_len = 100\n",
    "closest_series_num = 80 \n",
    "true_subseq_len = 182"
   ]
  },
  {
   "cell_type": "code",
   "execution_count": 39,
   "metadata": {},
   "outputs": [
    {
     "data": {
      "text/plain": [
       "73"
      ]
     },
     "execution_count": 39,
     "metadata": {},
     "output_type": "execute_result"
    }
   ],
   "source": [
    "(keys.labels == 1).sum()"
   ]
  },
  {
   "cell_type": "markdown",
   "metadata": {},
   "source": [
    "### Усреднение: DBA"
   ]
  },
  {
   "cell_type": "code",
   "execution_count": 40,
   "metadata": {},
   "outputs": [
    {
     "name": "stdout",
     "output_type": "stream",
     "text": [
      "character:   1 | 0.932 | 1.959 \n",
      "character:   2 | 0.793 | 2.016 \n",
      "character:   3 | 0.932 | 1.727 \n",
      "character:   4 | 0.924 | 1.349 \n",
      "character:   5 | 0.975 | 1.967 \n",
      "character:   6 | 0.912 | 2.003 \n",
      "character:   7 | 0.843 | 1.490 \n",
      "character:   8 | 0.787 | 1.477 \n",
      "character:   9 | 1.000 | 3.243 \n",
      "character:  10 | 0.566 | 1.272 \n",
      "character:  11 | 0.983 | 2.083 \n",
      "character:  12 | 0.887 | 2.215 \n",
      "character:  13 | 0.860 | 1.808 \n",
      "character:  14 | 0.511 | 2.227 \n",
      "character:  15 | 0.981 | 2.412 \n",
      "character:  16 | 0.755 | 1.596 \n",
      "character:  17 | 1.000 | 2.444 \n",
      "character:  18 | 0.720 | 1.669 \n",
      "character:  19 | 0.804 | 2.261 \n",
      "character:  20 | 0.973 | 2.867 \n",
      "0.857  2.004\n"
     ]
    }
   ],
   "source": [
    "results = []\n",
    "total_elapsed = 0\n",
    "\n",
    "for character in range(1, 21):\n",
    "    closest, elapsed = search_dtw(closest_series_num, subseq_len, warp_window,\n",
    "                     \"../data/search_subseries/character/character_trajectories.csv\",\n",
    "                     \"../data/search_subseries/character/dba_averaged_{0}.csv\".format(character),\n",
    "                     1)\n",
    "    expected = np.array(list(closest.keys()))\n",
    "    true_starts = keys[keys.labels == character].start.values\n",
    "    total_elapsed += elapsed \n",
    "    \n",
    "    results.append(decision(true_starts, expected, 182, subseq_len))\n",
    "    print(\"character: {0:>3d} | {1:.3f} | {2:.3f} \".format(\n",
    "        character,\n",
    "        results[-1],\n",
    "        elapsed))\n",
    "    \n",
    "print(\"{0:.3f}  {1:.3f}\".format(sum(results) / len(results), total_elapsed / len(results)))"
   ]
  },
  {
   "cell_type": "code",
   "execution_count": 41,
   "metadata": {},
   "outputs": [
    {
     "name": "stdout",
     "output_type": "stream",
     "text": [
      "character:   1 | 0.877 | 1.426 \n",
      "character:   2 | 0.741 | 1.501 \n",
      "character:   3 | 0.898 | 1.129 \n",
      "character:   4 | 0.924 | 0.873 \n",
      "character:   5 | 0.975 | 1.259 \n",
      "character:   6 | 0.877 | 1.406 \n",
      "character:   7 | 0.804 | 1.062 \n",
      "character:   8 | 0.853 | 0.876 \n",
      "character:   9 | 1.000 | 1.672 \n",
      "character:  10 | 0.528 | 0.895 \n",
      "character:  11 | 0.948 | 1.460 \n",
      "character:  12 | 0.792 | 1.576 \n",
      "character:  13 | 0.740 | 1.335 \n",
      "character:  14 | 0.447 | 1.712 \n",
      "character:  15 | 0.981 | 1.651 \n",
      "character:  16 | 0.623 | 1.153 \n",
      "character:  17 | 1.000 | 1.658 \n",
      "character:  18 | 0.660 | 1.077 \n",
      "character:  19 | 0.804 | 1.793 \n",
      "character:  20 | 0.890 | 2.264 \n",
      "0.818  1.389\n"
     ]
    }
   ],
   "source": [
    "results = []\n",
    "total_elapsed = 0\n",
    "\n",
    "for character in range(1, 21):\n",
    "    closest, elapsed = search_dtw(closest_series_num, subseq_len, warp_window,\n",
    "                     \"../data/search_subseries/character/character_trajectories.csv\",\n",
    "                     \"../data/search_subseries/character/dba_averaged_{0}.csv\".format(character),\n",
    "                     2)\n",
    "    expected = np.array(list(closest.keys()))\n",
    "    true_starts = keys[keys.labels == character].start.values\n",
    "    total_elapsed += elapsed \n",
    "    \n",
    "    results.append(decision(true_starts, expected, 182, subseq_len))\n",
    "    print(\"character: {0:>3d} | {1:.3f} | {2:.3f} \".format(\n",
    "        character,\n",
    "        results[-1],\n",
    "        elapsed))\n",
    "    \n",
    "print(\"{0:.3f}  {1:.3f}\".format(sum(results) / len(results), total_elapsed / len(results)))"
   ]
  },
  {
   "cell_type": "markdown",
   "metadata": {},
   "source": [
    "### Усреднение: mean"
   ]
  },
  {
   "cell_type": "code",
   "execution_count": 42,
   "metadata": {},
   "outputs": [
    {
     "name": "stdout",
     "output_type": "stream",
     "text": [
      "character:   1 | 0.986 | 1.904 \n",
      "character:   2 | 0.879 | 1.986 \n",
      "character:   3 | 0.898 | 1.734 \n",
      "character:   4 | 0.985 | 1.529 \n",
      "character:   5 | 0.988 | 1.609 \n",
      "character:   6 | 0.965 | 2.775 \n",
      "character:   7 | 0.882 | 2.128 \n",
      "character:   8 | 0.880 | 1.895 \n",
      "character:   9 | 1.000 | 3.374 \n",
      "character:  10 | 0.585 | 1.422 \n",
      "character:  11 | 1.000 | 2.181 \n",
      "character:  12 | 0.717 | 2.278 \n",
      "character:  13 | 0.920 | 1.722 \n",
      "character:  14 | 0.936 | 2.156 \n",
      "character:  15 | 0.981 | 2.708 \n",
      "character:  16 | 0.830 | 1.568 \n",
      "character:  17 | 1.000 | 2.439 \n",
      "character:  18 | 0.600 | 1.669 \n",
      "character:  19 | 0.893 | 2.114 \n",
      "character:  20 | 0.945 | 2.754 \n",
      "0.894  2.097\n"
     ]
    }
   ],
   "source": [
    "results = []\n",
    "total_elapsed = 0\n",
    "\n",
    "for character in range(1, 21):\n",
    "    closest, elapsed = search_dtw(closest_series_num, subseq_len, warp_window,\n",
    "                     \"../data/search_subseries/character/character_trajectories.csv\",\n",
    "                     \"../data/search_subseries/character/averaged_{0}.csv\".format(character),\n",
    "                     1)\n",
    "    expected = np.array(list(closest.keys()))\n",
    "    true_starts = keys[keys.labels == character].start.values\n",
    "    total_elapsed += elapsed \n",
    "    \n",
    "    results.append(decision(true_starts, expected, 182, subseq_len))\n",
    "    print(\"character: {0:>3d} | {1:.3f} | {2:.3f} \".format(\n",
    "        character,\n",
    "        results[-1],\n",
    "        elapsed))\n",
    "    \n",
    "print(\"{0:.3f}  {1:.3f}\".format(sum(results) / len(results), total_elapsed / len(results)))"
   ]
  },
  {
   "cell_type": "code",
   "execution_count": 43,
   "metadata": {},
   "outputs": [
    {
     "name": "stdout",
     "output_type": "stream",
     "text": [
      "character:   1 | 0.863 | 1.287 \n",
      "character:   2 | 0.828 | 1.410 \n",
      "character:   3 | 0.881 | 1.112 \n",
      "character:   4 | 0.970 | 1.007 \n",
      "character:   5 | 0.988 | 1.072 \n",
      "character:   6 | 0.947 | 1.395 \n",
      "character:   7 | 0.863 | 1.045 \n",
      "character:   8 | 0.893 | 1.024 \n",
      "character:   9 | 0.980 | 1.676 \n",
      "character:  10 | 0.547 | 0.971 \n",
      "character:  11 | 0.948 | 1.314 \n",
      "character:  12 | 0.717 | 1.528 \n",
      "character:  13 | 0.780 | 1.242 \n",
      "character:  14 | 0.872 | 1.477 \n",
      "character:  15 | 1.000 | 1.722 \n",
      "character:  16 | 0.660 | 1.073 \n",
      "character:  17 | 1.000 | 1.632 \n",
      "character:  18 | 0.540 | 1.113 \n",
      "character:  19 | 0.893 | 1.441 \n",
      "character:  20 | 0.918 | 1.961 \n",
      "0.854  1.325\n"
     ]
    }
   ],
   "source": [
    "results = []\n",
    "total_elapsed = 0\n",
    "\n",
    "for character in range(1, 21):\n",
    "    closest, elapsed = search_dtw(closest_series_num, subseq_len, warp_window,\n",
    "                     \"../data/search_subseries/character/character_trajectories.csv\",\n",
    "                     \"../data/search_subseries/character/averaged_{0}.csv\".format(character),\n",
    "                     2)\n",
    "    expected = np.array(list(closest.keys()))\n",
    "    true_starts = keys[keys.labels == character].start.values\n",
    "    total_elapsed += elapsed \n",
    "    \n",
    "    results.append(decision(true_starts, expected, 182, subseq_len))\n",
    "    print(\"character: {0:>3d} | {1:.3f} | {2:.3f} \".format(\n",
    "        character,\n",
    "        results[-1],\n",
    "        elapsed))\n",
    "    \n",
    "print(\"{0:.3f}  {1:.3f}\".format(sum(results) / len(results), total_elapsed / len(results)))"
   ]
  },
  {
   "cell_type": "markdown",
   "metadata": {},
   "source": [
    "## Без оптимизаций"
   ]
  },
  {
   "cell_type": "markdown",
   "metadata": {},
   "source": [
    "### Усреднение: DBA"
   ]
  },
  {
   "cell_type": "code",
   "execution_count": null,
   "metadata": {},
   "outputs": [
    {
     "name": "stdout",
     "output_type": "stream",
     "text": [
      "character:   1 | 0.932 | 10.251 \n",
      "character:   2 | 0.793 | 10.098 \n",
      "character:   3 | 0.932 | 10.107 \n",
      "character:   4 | 0.924 | 10.512 \n",
      "character:   5 | 0.975 | 10.631 \n",
      "character:   6 | 0.912 | 9.969 \n",
      "character:   7 | 0.843 | 11.858 \n",
      "character:   8 | 0.787 | 15.838 \n",
      "character:   9 | 1.000 | 10.208 \n",
      "character:  10 | 0.566 | 10.552 \n",
      "character:  11 | 0.983 | 9.657 \n",
      "character:  12 | 0.887 | 9.894 \n",
      "character:  13 | 0.860 | 12.172 \n",
      "character:  14 | 0.511 | 10.349 \n",
      "character:  15 | 0.981 | 10.648 \n",
      "character:  16 | 0.755 | 11.231 \n",
      "character:  17 | 1.000 | 12.324 \n",
      "character:  18 | 0.720 | 10.472 \n",
      "character:  19 | 0.804 | 10.642 \n",
      "character:  20 | 0.973 | 10.012 \n",
      "0.857  10.871\n"
     ]
    }
   ],
   "source": [
    "results = []\n",
    "total_elapsed = 0\n",
    "\n",
    "for character in range(1, 21):\n",
    "    closest, elapsed = search_dtw(closest_series_num, subseq_len, warp_window,\n",
    "                     \"../data/search_subseries/character/character_trajectories.csv\",\n",
    "                     \"../data/search_subseries/character/dba_averaged_{0}.csv\".format(character),\n",
    "                     1, optimize=False)\n",
    "    expected = np.array(list(closest.keys()))\n",
    "    true_starts = keys[keys.labels == character].start.values\n",
    "    total_elapsed += elapsed \n",
    "    \n",
    "    results.append(decision(true_starts, expected, 182, subseq_len))\n",
    "    print(\"character: {0:>3d} | {1:.3f} | {2:.3f} \".format(\n",
    "        character,\n",
    "        results[-1],\n",
    "        elapsed))\n",
    "    \n",
    "print(\"{0:.3f}  {1:.3f}\".format(sum(results) / len(results), total_elapsed / len(results)))"
   ]
  },
  {
   "cell_type": "code",
   "execution_count": null,
   "metadata": {},
   "outputs": [
    {
     "name": "stdout",
     "output_type": "stream",
     "text": [
      "character:   1 | 0.877 | 12.603 \n",
      "character:   2 | 0.741 | 10.658 \n",
      "character:   3 | 0.898 | 11.487 \n",
      "character:   4 | 0.924 | 11.019 \n",
      "character:   5 | 0.975 | 11.017 \n",
      "character:   6 | 0.877 | 10.109 \n",
      "character:   7 | 0.804 | 10.015 \n",
      "character:   8 | 0.853 | 9.587 \n",
      "character:   9 | 1.000 | 9.586 \n",
      "character:  10 | 0.528 | 9.705 \n",
      "character:  11 | 0.948 | 9.624 \n",
      "character:  12 | 0.792 | 10.536 \n",
      "character:  13 | 0.740 | 10.024 \n",
      "character:  14 | 0.447 | 9.725 \n",
      "character:  15 | 0.981 | 10.363 \n",
      "character:  16 | 0.623 | 10.213 \n",
      "character:  17 | 1.000 | 10.713 \n",
      "character:  18 | 0.660 | 10.820 \n",
      "character:  19 | 0.804 | 10.211 \n",
      "character:  20 | 0.890 | 10.504 \n",
      "0.818  10.426\n"
     ]
    }
   ],
   "source": [
    "results = []\n",
    "total_elapsed = 0\n",
    "\n",
    "for character in range(1, 21):\n",
    "    closest, elapsed = search_dtw(closest_series_num, subseq_len, warp_window,\n",
    "                     \"../data/search_subseries/character/character_trajectories.csv\",\n",
    "                     \"../data/search_subseries/character/dba_averaged_{0}.csv\".format(character),\n",
    "                     2, optimize=False)\n",
    "    expected = np.array(list(closest.keys()))\n",
    "    true_starts = keys[keys.labels == character].start.values\n",
    "    total_elapsed += elapsed \n",
    "    \n",
    "    results.append(decision(true_starts, expected, 182, subseq_len))\n",
    "    print(\"character: {0:>3d} | {1:.3f} | {2:.3f} \".format(\n",
    "        character,\n",
    "        results[-1],\n",
    "        elapsed))\n",
    "    \n",
    "print(\"{0:.3f}  {1:.3f}\".format(sum(results) / len(results), total_elapsed / len(results)))"
   ]
  },
  {
   "cell_type": "markdown",
   "metadata": {},
   "source": [
    "### Усреднение: mean"
   ]
  },
  {
   "cell_type": "code",
   "execution_count": null,
   "metadata": {},
   "outputs": [
    {
     "name": "stdout",
     "output_type": "stream",
     "text": [
      "character:   1 | 0.986 | 10.756 \n",
      "character:   2 | 0.879 | 10.900 \n",
      "character:   3 | 0.898 | 11.644 \n",
      "character:   4 | 0.985 | 10.198 \n",
      "character:   5 | 0.988 | 10.454 \n",
      "character:   6 | 0.965 | 10.363 \n",
      "character:   7 | 0.882 | 10.921 \n",
      "character:   8 | 0.880 | 11.726 \n",
      "character:   9 | 1.000 | 10.984 \n",
      "character:  10 | 0.585 | 11.174 \n",
      "character:  11 | 1.000 | 10.602 \n",
      "character:  12 | 0.717 | 10.580 \n",
      "character:  13 | 0.920 | 10.362 \n",
      "character:  14 | 0.936 | 10.204 \n",
      "character:  15 | 0.981 | 10.445 \n",
      "character:  16 | 0.830 | 10.159 \n",
      "character:  17 | 1.000 | 9.956 \n",
      "character:  18 | 0.600 | 12.026 \n",
      "character:  19 | 0.893 | 10.490 \n",
      "character:  20 | 0.945 | 10.104 \n",
      "0.894  10.702\n"
     ]
    }
   ],
   "source": [
    "results = []\n",
    "total_elapsed = 0\n",
    "\n",
    "for character in range(1, 21):\n",
    "    closest, elapsed = search_dtw(closest_series_num, subseq_len, warp_window,\n",
    "                     \"../data/search_subseries/character/character_trajectories.csv\",\n",
    "                     \"../data/search_subseries/character/averaged_{0}.csv\".format(character),\n",
    "                     1, optimize=False)\n",
    "    expected = np.array(list(closest.keys()))\n",
    "    true_starts = keys[keys.labels == character].start.values\n",
    "    total_elapsed += elapsed \n",
    "    \n",
    "    results.append(decision(true_starts, expected, 182, subseq_len))\n",
    "    print(\"character: {0:>3d} | {1:.3f} | {2:.3f} \".format(\n",
    "        character,\n",
    "        results[-1],\n",
    "        elapsed))\n",
    "    \n",
    "print(\"{0:.3f}  {1:.3f}\".format(sum(results) / len(results), total_elapsed / len(results)))"
   ]
  },
  {
   "cell_type": "code",
   "execution_count": null,
   "metadata": {},
   "outputs": [
    {
     "name": "stdout",
     "output_type": "stream",
     "text": [
      "character:   1 | 0.863 | 9.542 \n",
      "character:   2 | 0.828 | 10.756 \n",
      "character:   3 | 0.881 | 9.653 \n",
      "character:   4 | 0.970 | 9.763 \n",
      "character:   5 | 0.988 | 9.674 \n",
      "character:   6 | 0.947 | 9.441 \n",
      "character:   7 | 0.863 | 9.502 \n"
     ]
    }
   ],
   "source": [
    "results = []\n",
    "total_elapsed = 0\n",
    "\n",
    "for character in range(1, 21):\n",
    "    closest, elapsed = search_dtw(closest_series_num, subseq_len, warp_window,\n",
    "                     \"../data/search_subseries/character/character_trajectories.csv\",\n",
    "                     \"../data/search_subseries/character/averaged_{0}.csv\".format(character),\n",
    "                     2, optimize=False)\n",
    "    expected = np.array(list(closest.keys()))\n",
    "    true_starts = keys[keys.labels == character].start.values\n",
    "    total_elapsed += elapsed \n",
    "    \n",
    "    results.append(decision(true_starts, expected, 182, subseq_len))\n",
    "    print(\"character: {0:>3d} | {1:.3f} | {2:.3f} \".format(\n",
    "        character,\n",
    "        results[-1],\n",
    "        elapsed))\n",
    "    \n",
    "print(\"{0:.3f}  {1:.3f}\".format(sum(results) / len(results), total_elapsed / len(results)))"
   ]
  },
  {
   "cell_type": "markdown",
   "metadata": {},
   "source": [
    "## Эпилепсия"
   ]
  },
  {
   "cell_type": "code",
   "execution_count": 28,
   "metadata": {},
   "outputs": [],
   "source": [
    "keys = pd.read_csv(\"../data/search_subseries/epi/epi_labels.csv\", index_col=0)\n",
    "warp_window = 0.15\n",
    "subseq_len = 150\n",
    "closest_series_num = 60 \n",
    "true_subseq_len = 206"
   ]
  },
  {
   "cell_type": "markdown",
   "metadata": {},
   "source": [
    "### Усреднение: DBA"
   ]
  },
  {
   "cell_type": "code",
   "execution_count": 29,
   "metadata": {},
   "outputs": [
    {
     "name": "stdout",
     "output_type": "stream",
     "text": [
      "character:   1 | 0.587 | 13.305 | 46 \n",
      "character:   2 | 0.885 | 13.222 | 52 \n",
      "character:   3 | 0.837 | 16.371 | 49 \n",
      "character:   4 | 0.667 | 14.443 | 39 \n",
      "0.744  14.335\n"
     ]
    }
   ],
   "source": [
    "results = []\n",
    "total_elapsed = 0\n",
    "\n",
    "for character in range(1, 5):\n",
    "    closest, elapsed = search_dtw(closest_series_num, subseq_len, warp_window,\n",
    "                     \"../data/search_subseries/epi/epi.csv\",\n",
    "                     \"../data/search_subseries/epi/dba_averaged_{0}.csv\".format(character),\n",
    "                     1)\n",
    "    expected = np.array(list(closest.keys()))\n",
    "    true_starts = keys[keys.labels == character].start.values\n",
    "    total_elapsed += elapsed \n",
    "    \n",
    "    results.append(decision(true_starts, expected, 182, subseq_len))\n",
    "    print(\"character: {0:>3d} | {1:.3f} | {2:.3f} | {3:d} \".format(\n",
    "        character,\n",
    "        results[-1],\n",
    "        elapsed,\n",
    "        (keys.labels == character).sum()))\n",
    "    \n",
    "print(\"{0:.3f}  {1:.3f}\".format(sum(results) / len(results), total_elapsed / len(results)))"
   ]
  },
  {
   "cell_type": "code",
   "execution_count": 31,
   "metadata": {},
   "outputs": [
    {
     "name": "stdout",
     "output_type": "stream",
     "text": [
      "character:   1 | 0.522 | 12.208 \n",
      "character:   2 | 0.769 | 12.277 \n",
      "character:   3 | 0.714 | 12.049 \n",
      "character:   4 | 0.744 | 12.835 \n",
      "0.687  12.342\n"
     ]
    }
   ],
   "source": [
    "results = []\n",
    "total_elapsed = 0\n",
    "\n",
    "for character in range(1, 5):\n",
    "    closest, elapsed = search_dtw(closest_series_num, subseq_len, warp_window,\n",
    "                     \"../data/search_subseries/epi/epi.csv\",\n",
    "                     \"../data/search_subseries/epi/dba_averaged_{0}.csv\".format(character),\n",
    "                     2)\n",
    "    expected = np.array(list(closest.keys()))\n",
    "    true_starts = keys[keys.labels == character].start.values\n",
    "    total_elapsed += elapsed \n",
    "    \n",
    "    results.append(decision(true_starts, expected, 182, subseq_len))\n",
    "    print(\"character: {0:>3d} | {1:.3f} | {2:.3f} \".format(\n",
    "        character,\n",
    "        results[-1],\n",
    "        elapsed,\n",
    "        (keys.labels == character).sum()))\n",
    "    \n",
    "print(\"{0:.3f}  {1:.3f}\".format(sum(results) / len(results), total_elapsed / len(results)))"
   ]
  },
  {
   "cell_type": "markdown",
   "metadata": {},
   "source": [
    "### Усреднение: mean"
   ]
  },
  {
   "cell_type": "code",
   "execution_count": 32,
   "metadata": {},
   "outputs": [
    {
     "name": "stdout",
     "output_type": "stream",
     "text": [
      "character:   1 | 0.587 | 12.992 \n",
      "character:   2 | 0.885 | 13.456 \n",
      "character:   3 | 0.837 | 13.813 \n",
      "character:   4 | 0.667 | 13.903 \n",
      "0.744  13.541\n"
     ]
    }
   ],
   "source": [
    "results = []\n",
    "total_elapsed = 0\n",
    "\n",
    "for character in range(1, 5):\n",
    "    closest, elapsed = search_dtw(closest_series_num, subseq_len, warp_window,\n",
    "                     \"../data/search_subseries/epi/epi.csv\",\n",
    "                     \"../data/search_subseries/epi/averaged_{0}.csv\".format(character),\n",
    "                     1)\n",
    "    expected = np.array(list(closest.keys()))\n",
    "    true_starts = keys[keys.labels == character].start.values\n",
    "    total_elapsed += elapsed \n",
    "    \n",
    "    results.append(decision(true_starts, expected, 182, subseq_len))\n",
    "    print(\"character: {0:>3d} | {1:.3f} | {2:.3f} \".format(\n",
    "        character,\n",
    "        results[-1],\n",
    "        elapsed,\n",
    "        (keys.labels == character).sum()))\n",
    "    \n",
    "print(\"{0:.3f}  {1:.3f}\".format(sum(results) / len(results), total_elapsed / len(results)))"
   ]
  },
  {
   "cell_type": "code",
   "execution_count": 33,
   "metadata": {},
   "outputs": [
    {
     "name": "stdout",
     "output_type": "stream",
     "text": [
      "character:   1 | 0.522 | 15.411 \n",
      "character:   2 | 0.769 | 12.266 \n",
      "character:   3 | 0.714 | 15.394 \n",
      "character:   4 | 0.744 | 13.723 \n",
      "0.687  14.199\n"
     ]
    }
   ],
   "source": [
    "results = []\n",
    "total_elapsed = 0\n",
    "\n",
    "for character in range(1, 5):\n",
    "    closest, elapsed = search_dtw(closest_series_num, subseq_len, warp_window,\n",
    "                     \"../data/search_subseries/epi/epi.csv\",\n",
    "                     \"../data/search_subseries/epi/averaged_{0}.csv\".format(character),\n",
    "                     2)\n",
    "    expected = np.array(list(closest.keys()))\n",
    "    true_starts = keys[keys.labels == character].start.values\n",
    "    total_elapsed += elapsed \n",
    "    \n",
    "    results.append(decision(true_starts, expected, 182, subseq_len))\n",
    "    print(\"character: {0:>3d} | {1:.3f} | {2:.3f} \".format(\n",
    "        character,\n",
    "        results[-1],\n",
    "        elapsed,\n",
    "        (keys.labels == character).sum()))\n",
    "    \n",
    "print(\"{0:.3f}  {1:.3f}\".format(sum(results) / len(results), total_elapsed / len(results)))"
   ]
  },
  {
   "cell_type": "markdown",
   "metadata": {},
   "source": [
    "## Без оптимизаций"
   ]
  },
  {
   "cell_type": "markdown",
   "metadata": {},
   "source": [
    "### Усреднение: DBA"
   ]
  },
  {
   "cell_type": "code",
   "execution_count": 34,
   "metadata": {},
   "outputs": [
    {
     "name": "stdout",
     "output_type": "stream",
     "text": [
      "character:   1 | 0.587 | 13.484 \n",
      "character:   2 | 0.885 | 13.202 \n",
      "character:   3 | 0.837 | 12.757 \n",
      "character:   4 | 0.667 | 12.814 \n",
      "0.744  13.064\n"
     ]
    }
   ],
   "source": [
    "results = []\n",
    "total_elapsed = 0\n",
    "\n",
    "for character in range(1, 5):\n",
    "    closest, elapsed = search_dtw(closest_series_num, subseq_len, warp_window,\n",
    "                     \"../data/search_subseries/epi/epi.csv\",\n",
    "                     \"../data/search_subseries/epi/dba_averaged_{0}.csv\".format(character),\n",
    "                     1, optimize=False)\n",
    "    expected = np.array(list(closest.keys()))\n",
    "    true_starts = keys[keys.labels == character].start.values\n",
    "    total_elapsed += elapsed \n",
    "    \n",
    "    results.append(decision(true_starts, expected, 182, subseq_len))\n",
    "    print(\"character: {0:>3d} | {1:.3f} | {2:.3f} \".format(\n",
    "        character,\n",
    "        results[-1],\n",
    "        elapsed,\n",
    "        (keys.labels == character).sum()))\n",
    "    \n",
    "print(\"{0:.3f}  {1:.3f}\".format(sum(results) / len(results), total_elapsed / len(results)))"
   ]
  },
  {
   "cell_type": "code",
   "execution_count": 35,
   "metadata": {},
   "outputs": [
    {
     "name": "stdout",
     "output_type": "stream",
     "text": [
      "character:   1 | 0.522 | 12.786 \n",
      "character:   2 | 0.788 | 13.836 \n",
      "character:   3 | 0.714 | 12.473 \n",
      "character:   4 | 0.744 | 13.724 \n",
      "0.692  13.205\n"
     ]
    }
   ],
   "source": [
    "results = []\n",
    "total_elapsed = 0\n",
    "\n",
    "for character in range(1, 5):\n",
    "    closest, elapsed = search_dtw(closest_series_num, subseq_len, warp_window,\n",
    "                     \"../data/search_subseries/epi/epi.csv\",\n",
    "                     \"../data/search_subseries/epi/dba_averaged_{0}.csv\".format(character),\n",
    "                     2, optimize=False)\n",
    "    expected = np.array(list(closest.keys()))\n",
    "    true_starts = keys[keys.labels == character].start.values\n",
    "    total_elapsed += elapsed \n",
    "    \n",
    "    results.append(decision(true_starts, expected, 182, subseq_len))\n",
    "    print(\"character: {0:>3d} | {1:.3f} | {2:.3f} \".format(\n",
    "        character,\n",
    "        results[-1],\n",
    "        elapsed,\n",
    "        (keys.labels == character).sum()))\n",
    "    \n",
    "print(\"{0:.3f}  {1:.3f}\".format(sum(results) / len(results), total_elapsed / len(results)))"
   ]
  },
  {
   "cell_type": "markdown",
   "metadata": {},
   "source": [
    "### Усреднение: mean"
   ]
  },
  {
   "cell_type": "code",
   "execution_count": 36,
   "metadata": {},
   "outputs": [
    {
     "name": "stdout",
     "output_type": "stream",
     "text": [
      "character:   1 | 0.587 | 16.215 \n",
      "character:   2 | 0.885 | 13.295 \n",
      "character:   3 | 0.837 | 12.869 \n",
      "character:   4 | 0.667 | 13.269 \n",
      "0.744  13.912\n"
     ]
    }
   ],
   "source": [
    "results = []\n",
    "total_elapsed = 0\n",
    "\n",
    "for character in range(1, 5):\n",
    "    closest, elapsed = search_dtw(closest_series_num, subseq_len, warp_window,\n",
    "                     \"../data/search_subseries/epi/epi.csv\",\n",
    "                     \"../data/search_subseries/epi/averaged_{0}.csv\".format(character),\n",
    "                     1, optimize=False)\n",
    "    expected = np.array(list(closest.keys()))\n",
    "    true_starts = keys[keys.labels == character].start.values\n",
    "    total_elapsed += elapsed \n",
    "    \n",
    "    results.append(decision(true_starts, expected, 182, subseq_len))\n",
    "    print(\"character: {0:>3d} | {1:.3f} | {2:.3f} \".format(\n",
    "        character,\n",
    "        results[-1],\n",
    "        elapsed,\n",
    "        (keys.labels == character).sum()))\n",
    "    \n",
    "print(\"{0:.3f}  {1:.3f}\".format(sum(results) / len(results), total_elapsed / len(results)))"
   ]
  },
  {
   "cell_type": "code",
   "execution_count": 37,
   "metadata": {},
   "outputs": [
    {
     "name": "stdout",
     "output_type": "stream",
     "text": [
      "character:   1 | 0.522 | 12.383 \n",
      "character:   2 | 0.788 | 11.700 \n",
      "character:   3 | 0.714 | 13.154 \n",
      "character:   4 | 0.744 | 13.714 \n",
      "0.692  12.738\n"
     ]
    }
   ],
   "source": [
    "results = []\n",
    "total_elapsed = 0\n",
    "\n",
    "for character in range(1, 5):\n",
    "    closest, elapsed = search_dtw(closest_series_num, subseq_len, warp_window,\n",
    "                     \"../data/search_subseries/epi/epi.csv\",\n",
    "                     \"../data/search_subseries/epi/averaged_{0}.csv\".format(character),\n",
    "                     2, optimize=False)\n",
    "    expected = np.array(list(closest.keys()))\n",
    "    true_starts = keys[keys.labels == character].start.values\n",
    "    total_elapsed += elapsed \n",
    "    \n",
    "    results.append(decision(true_starts, expected, 182, subseq_len))\n",
    "    print(\"character: {0:>3d} | {1:.3f} | {2:.3f} \".format(\n",
    "        character,\n",
    "        results[-1],\n",
    "        elapsed,\n",
    "        (keys.labels == character).sum()))\n",
    "    \n",
    "print(\"{0:.3f}  {1:.3f}\".format(sum(results) / len(results), total_elapsed / len(results)))"
   ]
  },
  {
   "cell_type": "code",
   "execution_count": 95,
   "metadata": {},
   "outputs": [
    {
     "data": {
      "text/plain": [
       "46"
      ]
     },
     "execution_count": 95,
     "metadata": {},
     "output_type": "execute_result"
    }
   ],
   "source": [
    "(keys.labels == 1).sum()"
   ]
  },
  {
   "cell_type": "code",
   "execution_count": null,
   "metadata": {},
   "outputs": [],
   "source": []
  }
 ],
 "metadata": {
  "kernelspec": {
   "display_name": "Python 3",
   "language": "python",
   "name": "python3"
  },
  "language_info": {
   "codemirror_mode": {
    "name": "ipython",
    "version": 3
   },
   "file_extension": ".py",
   "mimetype": "text/x-python",
   "name": "python",
   "nbconvert_exporter": "python",
   "pygments_lexer": "ipython3",
   "version": "3.7.0"
  }
 },
 "nbformat": 4,
 "nbformat_minor": 2
}
