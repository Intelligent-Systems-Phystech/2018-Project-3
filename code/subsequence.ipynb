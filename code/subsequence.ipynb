{
 "cells": [
  {
   "cell_type": "code",
   "execution_count": 1,
   "metadata": {},
   "outputs": [],
   "source": [
    "import re\n",
    "import os\n",
    "import numpy as np\n",
    "import pandas as pd\n",
    "import subprocess\n",
    "import search_subsequence\n",
    "%load_ext autoreload\n",
    "%autoreload 2\n",
    "\n",
    "from matplotlib import pyplot as plt\n",
    "from scipy.io import arff\n",
    "from scipy.stats import zscore\n",
    "\n",
    "from DBA_multivariate import performDBA\n",
    "\n",
    "metrics = [1, 2, 3]"
   ]
  },
  {
   "cell_type": "code",
   "execution_count": null,
   "metadata": {},
   "outputs": [],
   "source": [
    "data1 = pd.DataFrame(arff.loadarff(\"../data/MultivariateTSCProblems/CharacterTrajectories/CharacterTrajectoriesDimension1_TRAIN.arff\")[0])\n",
    "data2 = pd.DataFrame(arff.loadarff(\"../data/MultivariateTSCProblems/CharacterTrajectories/CharacterTrajectoriesDimension2_TRAIN.arff\")[0])\n",
    "data3 = pd.DataFrame(arff.loadarff(\"../data/MultivariateTSCProblems/CharacterTrajectories/CharacterTrajectoriesDimension3_TRAIN.arff\")[0])\n",
    "\n",
    "labels = data1.iloc[:, -1]\n",
    "labels = labels.replace(dict({(v, i) for i, v in enumerate(np.unique(labels))})).values\n",
    "data = np.stack([data1.iloc[:, :-1].values, data2.iloc[:, :-1].values, data3.iloc[:, :-1].values], 1)\n",
    "\n",
    "for i in range(20):\n",
    "    path = \"../data/search_subseries/tmp_character/{0}/\".format(i)\n",
    "    if not os.path.exists(path):\n",
    "        os.mkdir(path)\n",
    "    search_subsequence.generate_sample(data, labels, 1500, path)"
   ]
  },
  {
   "cell_type": "code",
   "execution_count": null,
   "metadata": {},
   "outputs": [],
   "source": [
    "data_test_1 = pd.DataFrame(arff.loadarff(\"../data/MultivariateTSCProblems/Epilepsy/EpilepsyDimension1_TEST.arff\")[0])\n",
    "data_test_2 = pd.DataFrame(arff.loadarff(\"../data/MultivariateTSCProblems/Epilepsy/EpilepsyDimension2_TEST.arff\")[0])\n",
    "data_test_3 = pd.DataFrame(arff.loadarff(\"../data/MultivariateTSCProblems/Epilepsy/EpilepsyDimension2_TEST.arff\")[0])\n",
    "\n",
    "data_train_1 = pd.DataFrame(arff.loadarff(\"../data/MultivariateTSCProblems/Epilepsy/EpilepsyDimension1_TRAIN.arff\")[0])\n",
    "data_train_2 = pd.DataFrame(arff.loadarff(\"../data/MultivariateTSCProblems/Epilepsy/EpilepsyDimension2_TRAIN.arff\")[0])\n",
    "data_train_3 = pd.DataFrame(arff.loadarff(\"../data/MultivariateTSCProblems/Epilepsy/EpilepsyDimension2_TRAIN.arff\")[0])\n",
    "\n",
    "data1 = pd.concat([data_test_1, data_train_1])\n",
    "data2 = pd.concat([data_test_2, data_train_2])\n",
    "data3 = pd.concat([data_test_3, data_train_3])\n",
    "\n",
    "labels = data1.iloc[:, -1]\n",
    "labels = labels.replace(dict({(v, i) for i, v in enumerate(np.unique(labels))})).values\n",
    "data = np.stack([data1.iloc[:, :-1].values, data2.iloc[:, :-1].values, data3.iloc[:, :-1].values], 1)\n",
    "\n",
    "for i in range(20):\n",
    "    path = \"../data/search_subseries/epi/{0}/\".format(i)\n",
    "    if not os.path.exists(path):\n",
    "        os.mkdir(path)\n",
    "    search_subsequence.generate_sample(data, labels, 600, path)"
   ]
  },
  {
   "cell_type": "markdown",
   "metadata": {},
   "source": [
    "# Эксперимент 1\n",
    "## Сравнение производителности с оптимизациями и без них\n",
    "**Датасет**: рукописные цифры"
   ]
  },
  {
   "cell_type": "code",
   "execution_count": 2,
   "metadata": {},
   "outputs": [],
   "source": [
    "warp_window = 0.05\n",
    "subseq_len = 100\n",
    "closest_series_num = 80\n",
    "true_subseq_len = 182\n",
    "\n",
    "n_repeat = 4\n",
    "n_samples = 20\n",
    "base_dir = \"../data/search_subseries/character\""
   ]
  },
  {
   "cell_type": "markdown",
   "metadata": {},
   "source": [
    "### Усреднение: DBA"
   ]
  },
  {
   "cell_type": "code",
   "execution_count": 3,
   "metadata": {},
   "outputs": [
    {
     "name": "stdout",
     "output_type": "stream",
     "text": [
      "\n",
      "Distance: 1\n",
      "item:   0 | 0.878 +- 0.047| 2.931 +- 0.080 \n",
      "item:   1 | 0.729 +- 0.052| 2.744 +- 0.208 \n",
      "item:   2 | 0.980 +- 0.018| 3.416 +- 0.789 \n",
      "item:   3 | 0.765 +- 0.091| 2.727 +- 0.156 \n",
      "item:   4 | 0.851 +- 0.185| 3.140 +- 0.271 \n",
      "item:   5 | 0.645 +- 0.148| 2.910 +- 0.275 \n",
      "item:   6 | 0.996 +- 0.008| 3.476 +- 0.291 \n",
      "item:   7 | 0.726 +- 0.095| 2.398 +- 0.148 \n",
      "item:   8 | 1.000 +- 0.000| 2.836 +- 0.058 \n",
      "item:   9 | 0.674 +- 0.056| 2.522 +- 0.063 \n",
      "item:  10 | 0.867 +- 0.064| 3.058 +- 0.143 \n",
      "item:  11 | 0.778 +- 0.056| 2.552 +- 0.071 \n",
      "item:  12 | 0.726 +- 0.326| 3.520 +- 0.098 \n",
      "item:  13 | 0.878 +- 0.083| 2.408 +- 0.038 \n",
      "item:  14 | 0.952 +- 0.040| 2.454 +- 0.138 \n",
      "item:  15 | 0.965 +- 0.044| 3.282 +- 0.880 \n",
      "item:  16 | 0.825 +- 0.090| 2.683 +- 0.123 \n",
      "item:  17 | 0.839 +- 0.053| 2.414 +- 0.040 \n",
      "item:  18 | 0.838 +- 0.041| 2.169 +- 0.071 \n",
      "item:  19 | 0.952 +- 0.056| 3.306 +- 0.330 \n",
      "0.843+-0.140 2.847+-0.479305\n",
      "\n",
      "Distance: 2\n",
      "item:   0 | 0.830 +- 0.020| 2.190 +- 0.118 \n",
      "item:   1 | 0.642 +- 0.084| 1.934 +- 0.029 \n",
      "item:   2 | 0.962 +- 0.023| 2.256 +- 0.049 \n",
      "item:   3 | 0.712 +- 0.088| 2.569 +- 0.542 \n",
      "item:   4 | 0.753 +- 0.228| 2.200 +- 0.111 \n",
      "item:   5 | 0.601 +- 0.095| 2.244 +- 0.116 \n",
      "item:   6 | 0.988 +- 0.025| 2.799 +- 0.173 \n",
      "item:   7 | 0.641 +- 0.148| 1.969 +- 0.094 \n",
      "item:   8 | 1.000 +- 0.000| 2.264 +- 0.030 \n",
      "item:   9 | 0.608 +- 0.035| 2.022 +- 0.038 \n",
      "item:  10 | 0.846 +- 0.104| 2.324 +- 0.067 \n",
      "item:  11 | 0.749 +- 0.090| 2.111 +- 0.029 \n",
      "item:  12 | 0.657 +- 0.292| 2.571 +- 0.102 \n",
      "item:  13 | 0.846 +- 0.063| 1.975 +- 0.021 \n",
      "item:  14 | 0.942 +- 0.026| 1.946 +- 0.085 \n",
      "item:  15 | 0.965 +- 0.044| 2.062 +- 0.085 \n",
      "item:  16 | 0.828 +- 0.061| 2.158 +- 0.072 \n",
      "item:  17 | 0.810 +- 0.057| 1.959 +- 0.033 \n",
      "item:  18 | 0.828 +- 0.078| 1.834 +- 0.030 \n",
      "item:  19 | 0.907 +- 0.082| 2.532 +- 0.132 \n",
      "0.806+-0.158 2.196+-0.281292\n",
      "\n",
      "Distance: 3\n",
      "item:   0 | 0.760 +- 0.035| 3.304 +- 0.080 \n",
      "item:   1 | 0.663 +- 0.165| 2.817 +- 0.197 \n",
      "item:   2 | 0.902 +- 0.036| 2.997 +- 0.419 \n",
      "item:   3 | 0.727 +- 0.102| 3.725 +- 0.445 \n",
      "item:   4 | 0.765 +- 0.251| 4.085 +- 0.437 \n",
      "item:   5 | 0.600 +- 0.055| 3.885 +- 0.638 \n",
      "item:   6 | 0.958 +- 0.063| 3.412 +- 0.452 \n",
      "item:   7 | 0.521 +- 0.051| 3.172 +- 0.948 \n",
      "item:   8 | 0.993 +- 0.015| 6.419 +- 0.247 \n",
      "item:   9 | 0.687 +- 0.082| 2.923 +- 0.107 \n",
      "item:  10 | 0.755 +- 0.140| 2.744 +- 0.416 \n",
      "item:  11 | 0.735 +- 0.075| 3.253 +- 0.622 \n",
      "item:  12 | 0.621 +- 0.327| 4.813 +- 1.843 \n",
      "item:  13 | 0.959 +- 0.009| 4.174 +- 0.187 \n",
      "item:  14 | 0.801 +- 0.033| 2.397 +- 0.175 \n",
      "item:  15 | 0.965 +- 0.044| 3.383 +- 0.177 \n",
      "item:  16 | 0.793 +- 0.100| 2.670 +- 0.226 \n",
      "item:  17 | 0.834 +- 0.045| 3.111 +- 0.161 \n",
      "item:  18 | 0.590 +- 0.124| 3.636 +- 0.455 \n",
      "item:  19 | 0.966 +- 0.026| 5.139 +- 0.547 \n",
      "0.780+-0.173 3.603+-1.066978\n"
     ]
    }
   ],
   "source": [
    "search_subsequence.experiment(\n",
    "    metrics, True, base_dir, n_samples, n_repeat,\n",
    "    closest_series_num, subseq_len, true_subseq_len, warp_window, optimize=True)"
   ]
  },
  {
   "cell_type": "markdown",
   "metadata": {},
   "source": [
    "### Усреднение: mean"
   ]
  },
  {
   "cell_type": "code",
   "execution_count": 4,
   "metadata": {},
   "outputs": [
    {
     "name": "stdout",
     "output_type": "stream",
     "text": [
      "\n",
      "Distance: 1\n",
      "item:   0 | 0.913 +- 0.049| 2.559 +- 0.108 \n",
      "item:   1 | 0.644 +- 0.023| 2.546 +- 0.084 \n",
      "item:   2 | 0.992 +- 0.010| 3.032 +- 0.134 \n",
      "item:   3 | 0.721 +- 0.079| 2.635 +- 0.012 \n",
      "item:   4 | 0.852 +- 0.071| 2.730 +- 0.193 \n",
      "item:   5 | 0.821 +- 0.053| 2.829 +- 0.088 \n",
      "item:   6 | 0.996 +- 0.008| 3.708 +- 0.153 \n",
      "item:   7 | 0.805 +- 0.033| 2.747 +- 0.100 \n",
      "item:   8 | 0.996 +- 0.008| 3.712 +- 0.529 \n",
      "item:   9 | 0.540 +- 0.077| 3.285 +- 0.427 \n",
      "item:  10 | 0.897 +- 0.036| 2.844 +- 0.080 \n",
      "item:  11 | 0.823 +- 0.026| 2.580 +- 0.158 \n",
      "item:  12 | 0.942 +- 0.047| 3.315 +- 0.056 \n",
      "item:  13 | 0.912 +- 0.063| 2.447 +- 0.046 \n",
      "item:  14 | 0.956 +- 0.020| 2.679 +- 0.195 \n",
      "item:  15 | 0.965 +- 0.044| 2.758 +- 0.341 \n",
      "item:  16 | 0.916 +- 0.052| 2.890 +- 0.206 \n",
      "item:  17 | 0.869 +- 0.043| 2.504 +- 0.110 \n",
      "item:  18 | 0.855 +- 0.065| 2.486 +- 0.182 \n",
      "item:  19 | 0.969 +- 0.026| 3.444 +- 0.096 \n",
      "0.869+-0.124 2.886+-0.428272\n",
      "\n",
      "Distance: 2\n",
      "item:   0 | 0.899 +- 0.048| 2.128 +- 0.039 \n",
      "item:   1 | 0.639 +- 0.038| 2.250 +- 0.271 \n",
      "item:   2 | 0.966 +- 0.029| 2.371 +- 0.102 \n",
      "item:   3 | 0.706 +- 0.055| 2.225 +- 0.039 \n",
      "item:   4 | 0.740 +- 0.068| 2.542 +- 0.589 \n",
      "item:   5 | 0.732 +- 0.068| 2.268 +- 0.079 \n",
      "item:   6 | 1.000 +- 0.000| 2.846 +- 0.257 \n",
      "item:   7 | 0.696 +- 0.108| 2.118 +- 0.110 \n",
      "item:   8 | 0.996 +- 0.008| 2.288 +- 0.034 \n",
      "item:   9 | 0.472 +- 0.059| 2.300 +- 0.134 \n",
      "item:  10 | 0.916 +- 0.023| 2.857 +- 0.427 \n",
      "item:  11 | 0.797 +- 0.055| 2.087 +- 0.055 \n",
      "item:  12 | 0.925 +- 0.046| 2.574 +- 0.061 \n",
      "item:  13 | 0.903 +- 0.060| 2.246 +- 0.201 \n",
      "item:  14 | 0.937 +- 0.032| 2.247 +- 0.276 \n",
      "item:  15 | 0.952 +- 0.031| 2.295 +- 0.261 \n",
      "item:  16 | 0.887 +- 0.075| 2.111 +- 0.097 \n",
      "item:  17 | 0.834 +- 0.039| 1.925 +- 0.018 \n",
      "item:  18 | 0.837 +- 0.080| 1.844 +- 0.033 \n",
      "item:  19 | 0.958 +- 0.029| 2.695 +- 0.336 \n",
      "0.840+-0.142 2.311+-0.330386\n",
      "\n",
      "Distance: 3\n",
      "item:   0 | 0.796 +- 0.037| 3.565 +- 0.953 \n",
      "item:   1 | 0.761 +- 0.064| 2.755 +- 0.185 \n",
      "item:   2 | 0.929 +- 0.026| 3.087 +- 0.183 \n",
      "item:   3 | 0.696 +- 0.053| 3.473 +- 0.452 \n",
      "item:   4 | 0.784 +- 0.079| 3.576 +- 0.245 \n",
      "item:   5 | 0.580 +- 0.073| 3.609 +- 0.280 \n",
      "item:   6 | 0.991 +- 0.011| 3.250 +- 0.087 \n",
      "item:   7 | 0.553 +- 0.102| 2.638 +- 0.204 \n",
      "item:   8 | 0.954 +- 0.054| 6.340 +- 0.581 \n",
      "item:   9 | 0.621 +- 0.094| 3.323 +- 0.340 \n",
      "item:  10 | 0.925 +- 0.050| 3.682 +- 0.683 \n",
      "item:  11 | 0.764 +- 0.053| 3.250 +- 0.413 \n",
      "item:  12 | 0.769 +- 0.081| 4.346 +- 0.512 \n",
      "item:  13 | 0.946 +- 0.042| 4.875 +- 0.609 \n",
      "item:  14 | 0.808 +- 0.045| 2.391 +- 0.116 \n",
      "item:  15 | 0.959 +- 0.038| 3.707 +- 0.515 \n",
      "item:  16 | 0.852 +- 0.040| 3.067 +- 0.810 \n",
      "item:  17 | 0.859 +- 0.063| 2.870 +- 0.170 \n",
      "item:  18 | 0.562 +- 0.144| 5.213 +- 1.986 \n",
      "item:  19 | 0.961 +- 0.028| 5.206 +- 0.359 \n",
      "0.804+-0.150 3.711+-1.123770\n"
     ]
    }
   ],
   "source": [
    "search_subsequence.experiment(\n",
    "    metrics, False, base_dir, n_samples, n_repeat,\n",
    "    closest_series_num, subseq_len, true_subseq_len, warp_window, optimize=True)"
   ]
  },
  {
   "cell_type": "markdown",
   "metadata": {},
   "source": [
    "## Без оптимизаций"
   ]
  },
  {
   "cell_type": "markdown",
   "metadata": {},
   "source": [
    "### Усреднение: DBA"
   ]
  },
  {
   "cell_type": "code",
   "execution_count": 6,
   "metadata": {},
   "outputs": [
    {
     "name": "stdout",
     "output_type": "stream",
     "text": [
      "\n",
      "Distance: 1\n",
      "item:   0 | 0.861 +- 0.034| 10.390 +- 0.023 \n",
      "item:   1 | 0.720 +- 0.049| 10.386 +- 0.053 \n",
      "item:   2 | 0.973 +- 0.011| 10.324 +- 0.019 \n",
      "item:   3 | 0.751 +- 0.087| 10.332 +- 0.020 \n",
      "item:   4 | 0.820 +- 0.175| 10.390 +- 0.061 \n",
      "item:   5 | 0.652 +- 0.147| 10.356 +- 0.028 \n",
      "item:   6 | 1.000 +- 0.000| 10.393 +- 0.013 \n",
      "item:   7 | 0.679 +- 0.020| 10.374 +- 0.028 \n",
      "item:   8 | 1.000 +- 0.000| 10.350 +- 0.039 \n",
      "item:   9 | 0.693 +- 0.041| 10.358 +- 0.023 \n",
      "item:  10 | 0.867 +- 0.064| 10.308 +- 0.025 \n",
      "item:  11 | 0.760 +- 0.042| 10.267 +- 0.032 \n",
      "item:  12 | 0.635 +- 0.270| 10.291 +- 0.029 \n",
      "item:  13 | 0.908 +- 0.058| 10.227 +- 0.004 \n",
      "item:  14 | 0.941 +- 0.034| 10.251 +- 0.034 \n",
      "item:  15 | 0.954 +- 0.037| 10.227 +- 0.021 \n",
      "item:  16 | 0.800 +- 0.074| 10.270 +- 0.101 \n",
      "item:  17 | 0.852 +- 0.046| 11.785 +- 1.168 \n",
      "item:  18 | 0.827 +- 0.035| 11.862 +- 1.165 \n",
      "item:  19 | 0.963 +- 0.052| 10.484 +- 0.128 \n",
      "0.833+-0.147 10.481+-0.585195\n",
      "\n",
      "Distance: 2\n",
      "item:   0 | 0.822 +- 0.011| 11.542 +- 0.939 \n",
      "item:   1 | 0.604 +- 0.037| 13.904 +- 0.755 \n",
      "item:   2 | 0.968 +- 0.018| 12.686 +- 0.772 \n",
      "item:   3 | 0.719 +- 0.087| 13.106 +- 0.553 \n",
      "item:   4 | 0.739 +- 0.227| 12.706 +- 1.014 \n",
      "item:   5 | 0.592 +- 0.093| 11.713 +- 0.180 \n",
      "item:   6 | 1.000 +- 0.000| 11.874 +- 0.361 \n",
      "item:   7 | 0.573 +- 0.057| 11.529 +- 0.129 \n",
      "item:   8 | 1.000 +- 0.000| 11.679 +- 0.404 \n",
      "item:   9 | 0.625 +- 0.009| 12.501 +- 0.796 \n",
      "item:  10 | 0.839 +- 0.103| 11.729 +- 0.227 \n",
      "item:  11 | 0.716 +- 0.059| 12.137 +- 0.136 \n",
      "item:  12 | 0.547 +- 0.193| 12.071 +- 0.242 \n",
      "item:  13 | 0.870 +- 0.040| 11.533 +- 0.158 \n",
      "item:  14 | 0.932 +- 0.019| 11.883 +- 0.265 \n",
      "item:  15 | 0.954 +- 0.037| 11.746 +- 0.145 \n",
      "item:  16 | 0.817 +- 0.057| 11.586 +- 0.193 \n",
      "item:  17 | 0.820 +- 0.053| 12.063 +- 0.785 \n",
      "item:  18 | 0.804 +- 0.061| 12.143 +- 0.590 \n",
      "item:  19 | 0.934 +- 0.062| 11.375 +- 0.142 \n",
      "0.794+-0.167 12.075+-0.812140\n",
      "\n",
      "Distance: 3\n",
      "item:   0 | 0.771 +- 0.029| 16.199 +- 0.120 \n",
      "item:   1 | 0.692 +- 0.078| 17.127 +- 0.651 \n",
      "item:   2 | 0.909 +- 0.037| 16.936 +- 0.342 \n",
      "item:   3 | 0.725 +- 0.078| 16.310 +- 0.244 \n",
      "item:   4 | 0.712 +- 0.215| 16.727 +- 0.327 \n",
      "item:   5 | 0.604 +- 0.048| 17.266 +- 1.252 \n",
      "item:   6 | 0.989 +- 0.016| 15.988 +- 0.084 \n",
      "item:   7 | 0.541 +- 0.028| 15.959 +- 0.063 \n",
      "item:   8 | 0.990 +- 0.014| 16.036 +- 0.130 \n",
      "item:   9 | 0.724 +- 0.036| 16.226 +- 0.322 \n",
      "item:  10 | 0.780 +- 0.108| 16.163 +- 0.115 \n",
      "item:  11 | 0.755 +- 0.049| 16.096 +- 0.044 \n",
      "item:  12 | 0.532 +- 0.229| 16.024 +- 0.114 \n",
      "item:  13 | 0.963 +- 0.004| 15.982 +- 0.107 \n",
      "item:  14 | 0.774 +- 0.056| 18.767 +- 2.847 \n",
      "item:  15 | 0.954 +- 0.037| 16.246 +- 0.075 \n",
      "item:  16 | 0.810 +- 0.102| 16.288 +- 0.276 \n",
      "item:  17 | 0.884 +- 0.025| 16.200 +- 0.186 \n",
      "item:  18 | 0.559 +- 0.108| 15.986 +- 0.074 \n",
      "item:  19 | 0.982 +- 0.015| 17.550 +- 2.394 \n",
      "0.783+-0.173 16.504+-1.142167\n"
     ]
    }
   ],
   "source": [
    "search_subsequence.experiment(\n",
    "    metrics, True, base_dir, n_samples, n_repeat,\n",
    "    closest_series_num, subseq_len, true_subseq_len, warp_window, optimize=False)"
   ]
  },
  {
   "cell_type": "markdown",
   "metadata": {},
   "source": [
    "### Усреднение: mean"
   ]
  },
  {
   "cell_type": "code",
   "execution_count": 8,
   "metadata": {},
   "outputs": [
    {
     "name": "stdout",
     "output_type": "stream",
     "text": [
      "\n",
      "Distance: 1\n",
      "item:   0 | 0.893 +- 0.030| 13.201 +- 0.160 \n",
      "item:   1 | 0.643 +- 0.023| 13.852 +- 1.461 \n",
      "item:   2 | 0.989 +- 0.008| 12.876 +- 0.589 \n",
      "item:   3 | 0.717 +- 0.079| 15.067 +- 0.989 \n",
      "item:   4 | 0.885 +- 0.028| 13.639 +- 0.949 \n",
      "item:   5 | 0.829 +- 0.050| 13.306 +- 0.245 \n",
      "item:   6 | 0.994 +- 0.008| 14.176 +- 1.105 \n",
      "item:   7 | 0.810 +- 0.031| 13.814 +- 0.144 \n",
      "item:   8 | 0.995 +- 0.007| 14.765 +- 0.447 \n",
      "item:   9 | 0.554 +- 0.072| 14.498 +- 0.257 \n",
      "item:  10 | 0.898 +- 0.036| 14.795 +- 0.687 \n",
      "item:  11 | 0.814 +- 0.018| 14.288 +- 0.399 \n",
      "item:  12 | 0.936 +- 0.045| 14.315 +- 0.454 \n",
      "item:  13 | 0.901 +- 0.058| 15.413 +- 1.925 \n",
      "item:  14 | 0.947 +- 0.006| 14.215 +- 2.702 \n",
      "item:  15 | 0.954 +- 0.037| 11.983 +- 0.120 \n",
      "item:  16 | 0.926 +- 0.049| 12.493 +- 0.369 \n",
      "item:  17 | 0.858 +- 0.038| 13.034 +- 0.214 \n",
      "item:  18 | 0.851 +- 0.064| 12.045 +- 0.194 \n",
      "item:  19 | 0.979 +- 0.015| 12.074 +- 0.027 \n",
      "0.869+-0.122 13.693+-1.385235\n",
      "\n",
      "Distance: 2\n",
      "item:   0 | 0.880 +- 0.030| 10.808 +- 0.025 \n",
      "item:   1 | 0.622 +- 0.019| 10.813 +- 0.083 \n",
      "item:   2 | 0.975 +- 0.024| 10.784 +- 0.057 \n",
      "item:   3 | 0.711 +- 0.055| 10.829 +- 0.072 \n",
      "item:   4 | 0.767 +- 0.042| 10.849 +- 0.073 \n",
      "item:   5 | 0.755 +- 0.049| 10.449 +- 0.446 \n",
      "item:   6 | 1.000 +- 0.000| 9.764 +- 0.022 \n",
      "item:   7 | 0.749 +- 0.022| 9.781 +- 0.029 \n",
      "item:   8 | 0.995 +- 0.007| 9.771 +- 0.018 \n",
      "item:   9 | 0.495 +- 0.037| 9.802 +- 0.012 \n",
      "item:  10 | 0.918 +- 0.023| 9.760 +- 0.025 \n",
      "item:  11 | 0.779 +- 0.042| 9.869 +- 0.037 \n",
      "item:  12 | 0.918 +- 0.044| 9.880 +- 0.013 \n",
      "item:  13 | 0.900 +- 0.060| 9.861 +- 0.008 \n",
      "item:  14 | 0.926 +- 0.024| 9.813 +- 0.070 \n",
      "item:  15 | 0.945 +- 0.027| 9.768 +- 0.027 \n",
      "item:  16 | 0.915 +- 0.050| 9.718 +- 0.002 \n",
      "item:  17 | 0.832 +- 0.039| 9.793 +- 0.046 \n",
      "item:  18 | 0.821 +- 0.074| 9.812 +- 0.038 \n",
      "item:  19 | 0.965 +- 0.025| 9.853 +- 0.009 \n",
      "0.843+-0.135 10.089+-0.457484\n",
      "\n",
      "Distance: 3\n",
      "item:   0 | 0.806 +- 0.032| 13.791 +- 0.022 \n",
      "item:   1 | 0.748 +- 0.048| 13.903 +- 0.050 \n",
      "item:   2 | 0.938 +- 0.018| 13.870 +- 0.025 \n",
      "item:   3 | 0.691 +- 0.045| 13.844 +- 0.009 \n",
      "item:   4 | 0.734 +- 0.145| 14.042 +- 0.095 \n",
      "item:   5 | 0.582 +- 0.084| 13.907 +- 0.020 \n",
      "item:   6 | 0.988 +- 0.009| 13.916 +- 0.005 \n",
      "item:   7 | 0.589 +- 0.035| 13.951 +- 0.036 \n",
      "item:   8 | 0.965 +- 0.049| 13.908 +- 0.012 \n",
      "item:   9 | 0.612 +- 0.098| 13.989 +- 0.018 \n",
      "item:  10 | 0.949 +- 0.013| 13.963 +- 0.033 \n",
      "item:  11 | 0.784 +- 0.037| 13.828 +- 0.068 \n",
      "item:  12 | 0.696 +- 0.043| 13.817 +- 0.045 \n",
      "item:  13 | 0.940 +- 0.040| 13.779 +- 0.019 \n",
      "item:  14 | 0.790 +- 0.077| 13.827 +- 0.021 \n",
      "item:  15 | 0.945 +- 0.027| 13.768 +- 0.026 \n",
      "item:  16 | 0.863 +- 0.028| 13.866 +- 0.111 \n",
      "item:  17 | 0.884 +- 0.039| 13.810 +- 0.018 \n",
      "item:  18 | 0.537 +- 0.135| 13.816 +- 0.049 \n",
      "item:  19 | 0.982 +- 0.015| 14.011 +- 0.033 \n",
      "0.801+-0.157 13.880+-0.089847\n"
     ]
    }
   ],
   "source": [
    "search_subsequence.experiment(\n",
    "    metrics, False, base_dir, n_samples, n_repeat,\n",
    "    closest_series_num, subseq_len, true_subseq_len, warp_window, optimize=False)"
   ]
  },
  {
   "cell_type": "markdown",
   "metadata": {},
   "source": [
    "## Эпилепсия"
   ]
  },
  {
   "cell_type": "code",
   "execution_count": 9,
   "metadata": {},
   "outputs": [],
   "source": [
    "warp_window = 0.15\n",
    "subseq_len = 140\n",
    "closest_series_num = 80\n",
    "true_subseq_len = 206\n",
    "\n",
    "n_repeat = 2\n",
    "n_samples = 4\n",
    "base_dir = \"../data/search_subseries/epi\""
   ]
  },
  {
   "cell_type": "markdown",
   "metadata": {},
   "source": [
    "### Усреднение: DBA"
   ]
  },
  {
   "cell_type": "code",
   "execution_count": 10,
   "metadata": {},
   "outputs": [
    {
     "name": "stdout",
     "output_type": "stream",
     "text": [
      "\n",
      "Distance: 1\n",
      "item:   0 | 0.566 +- 0.029| 25.701 +- 0.011 \n",
      "item:   1 | 0.567 +- 0.014| 25.591 +- 0.050 \n",
      "item:   2 | 0.367 +- 0.005| 26.019 +- 0.063 \n",
      "item:   3 | 0.650 +- 0.005| 25.219 +- 0.047 \n",
      "0.538+-0.106 25.633+-0.289603\n",
      "\n",
      "Distance: 2\n",
      "item:   0 | 0.541 +- 0.028| 22.856 +- 0.186 \n",
      "item:   1 | 0.563 +- 0.010| 23.101 +- 0.049 \n",
      "item:   2 | 0.456 +- 0.018| 23.105 +- 0.445 \n",
      "item:   3 | 0.646 +- 0.001| 22.358 +- 0.041 \n",
      "0.552+-0.070 22.855+-0.389474\n",
      "\n",
      "Distance: 3\n",
      "item:   0 | 0.377 +- 0.063| 27.862 +- 2.434 \n",
      "item:   1 | 0.393 +- 0.047| 29.392 +- 0.789 \n",
      "item:   2 | 0.307 +- 0.136| 30.073 +- 0.522 \n",
      "item:   3 | 0.337 +- 0.099| 28.076 +- 2.267 \n",
      "0.353+-0.099 28.851+-1.957043\n"
     ]
    }
   ],
   "source": [
    "search_subsequence.experiment(\n",
    "    metrics, True, base_dir, n_samples, n_repeat,\n",
    "    closest_series_num, subseq_len, true_subseq_len, warp_window, optimize=True)"
   ]
  },
  {
   "cell_type": "markdown",
   "metadata": {},
   "source": [
    "### Усреднение: mean"
   ]
  },
  {
   "cell_type": "code",
   "execution_count": 11,
   "metadata": {},
   "outputs": [
    {
     "name": "stdout",
     "output_type": "stream",
     "text": [
      "\n",
      "Distance: 1\n",
      "item:   0 | 0.515 +- 0.011| 26.465 +- 0.055 \n",
      "item:   1 | 0.396 +- 0.058| 25.674 +- 0.007 \n",
      "item:   2 | 0.526 +- 0.031| 26.130 +- 0.027 \n",
      "item:   3 | 0.509 +- 0.114| 25.059 +- 0.428 \n",
      "0.487+-0.084 25.832+-0.569915\n",
      "\n",
      "Distance: 2\n",
      "item:   0 | 0.464 +- 0.001| 24.192 +- 0.001 \n",
      "item:   1 | 0.364 +- 0.062| 23.127 +- 0.123 \n",
      "item:   2 | 0.541 +- 0.036| 24.746 +- 0.043 \n",
      "item:   3 | 0.529 +- 0.110| 21.816 +- 0.185 \n",
      "0.475+-0.096 23.470+-1.123821\n",
      "\n",
      "Distance: 3\n",
      "item:   0 | 0.293 +- 0.069| 23.490 +- 0.124 \n",
      "item:   1 | 0.223 +- 0.032| 28.991 +- 0.990 \n",
      "item:   2 | 0.240 +- 0.065| 30.302 +- 1.504 \n",
      "item:   3 | 0.317 +- 0.011| 20.139 +- 7.349 \n",
      "0.268+-0.063 25.730+-5.592178\n"
     ]
    }
   ],
   "source": [
    "search_subsequence.experiment(\n",
    "    metrics, False, base_dir, n_samples, n_repeat,\n",
    "    closest_series_num, subseq_len, true_subseq_len, warp_window, optimize=True)"
   ]
  },
  {
   "cell_type": "markdown",
   "metadata": {},
   "source": [
    "## Без оптимизаций"
   ]
  },
  {
   "cell_type": "markdown",
   "metadata": {},
   "source": [
    "### Усреднение: DBA"
   ]
  },
  {
   "cell_type": "code",
   "execution_count": 12,
   "metadata": {},
   "outputs": [
    {
     "name": "stdout",
     "output_type": "stream",
     "text": [
      "\n",
      "Distance: 1\n",
      "item:   0 | 0.566 +- 0.029| 24.477 +- 0.075 \n",
      "item:   1 | 0.571 +- 0.018| 24.408 +- 0.023 \n",
      "item:   2 | 0.367 +- 0.005| 25.428 +- 0.892 \n",
      "item:   3 | 0.650 +- 0.005| 26.344 +- 1.038 \n",
      "0.538+-0.106 25.164+-1.047105\n",
      "\n",
      "Distance: 2\n",
      "item:   0 | 0.541 +- 0.028| 24.308 +- 0.179 \n",
      "item:   1 | 0.563 +- 0.010| 27.197 +- 0.151 \n",
      "item:   2 | 0.456 +- 0.018| 25.472 +- 0.502 \n",
      "item:   3 | 0.646 +- 0.001| 28.390 +- 1.877 \n",
      "0.552+-0.070 26.342+-1.847216\n",
      "\n",
      "Distance: 3\n",
      "item:   0 | 0.377 +- 0.071| 35.851 +- 0.536 \n",
      "item:   1 | 0.389 +- 0.051| 36.446 +- 0.992 \n",
      "item:   2 | 0.297 +- 0.136| 40.376 +- 1.517 \n",
      "item:   3 | 0.353 +- 0.082| 37.658 +- 0.527 \n",
      "0.354+-0.097 37.583+-1.996747\n"
     ]
    }
   ],
   "source": [
    "search_subsequence.experiment(\n",
    "    metrics, True, base_dir, n_samples, n_repeat,\n",
    "    closest_series_num, subseq_len, true_subseq_len, warp_window, optimize=False)"
   ]
  },
  {
   "cell_type": "markdown",
   "metadata": {},
   "source": [
    "### Усреднение: mean"
   ]
  },
  {
   "cell_type": "code",
   "execution_count": 13,
   "metadata": {},
   "outputs": [
    {
     "name": "stdout",
     "output_type": "stream",
     "text": [
      "\n",
      "Distance: 1\n",
      "item:   0 | 0.515 +- 0.011| 26.578 +- 0.473 \n",
      "item:   1 | 0.396 +- 0.058| 28.617 +- 1.724 \n",
      "item:   2 | 0.526 +- 0.031| 28.084 +- 0.987 \n",
      "item:   3 | 0.509 +- 0.114| 29.212 +- 3.835 \n",
      "0.487+-0.084 28.123+-2.381908\n",
      "\n",
      "Distance: 2\n",
      "item:   0 | 0.464 +- 0.001| 27.756 +- 3.647 \n",
      "item:   1 | 0.364 +- 0.062| 26.032 +- 0.782 \n",
      "item:   2 | 0.541 +- 0.036| 25.608 +- 0.196 \n",
      "item:   3 | 0.529 +- 0.110| 25.750 +- 1.914 \n",
      "0.475+-0.096 26.287+-2.268575\n",
      "\n",
      "Distance: 3\n",
      "item:   0 | 0.305 +- 0.057| 36.985 +- 0.969 \n",
      "item:   1 | 0.223 +- 0.032| 36.673 +- 1.078 \n",
      "item:   2 | 0.245 +- 0.070| 37.849 +- 1.590 \n",
      "item:   3 | 0.313 +- 0.002| 36.525 +- 0.459 \n",
      "0.272+-0.061 37.008+-1.213812\n"
     ]
    }
   ],
   "source": [
    "search_subsequence.experiment(\n",
    "    metrics, False, base_dir, n_samples, n_repeat,\n",
    "    closest_series_num, subseq_len, true_subseq_len, warp_window, optimize=False)"
   ]
  },
  {
   "cell_type": "code",
   "execution_count": null,
   "metadata": {},
   "outputs": [],
   "source": []
  }
 ],
 "metadata": {
  "kernelspec": {
   "display_name": "Python 3",
   "language": "python",
   "name": "python3"
  },
  "language_info": {
   "codemirror_mode": {
    "name": "ipython",
    "version": 3
   },
   "file_extension": ".py",
   "mimetype": "text/x-python",
   "name": "python",
   "nbconvert_exporter": "python",
   "pygments_lexer": "ipython3",
   "version": "3.7.0"
  }
 },
 "nbformat": 4,
 "nbformat_minor": 2
}
