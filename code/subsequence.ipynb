{
 "cells": [
  {
   "cell_type": "code",
   "execution_count": 4,
   "metadata": {},
   "outputs": [],
   "source": [
    "import re\n",
    "import numpy as np\n",
    "import pandas as pd\n",
    "import subprocess\n",
    "\n",
    "from matplotlib import pyplot as plt\n",
    "from scipy.io import arff\n",
    "from scipy.stats import zscore\n",
    "\n",
    "from DBA_multivariate import performDBA\n",
    "from search_subsequence import search_dtw, decision, search_ed, OUPUT_STARTS_REGEXP, OUPUT_BASE_REGEXP"
   ]
  },
  {
   "cell_type": "markdown",
   "metadata": {},
   "source": [
    "# Эксперимент 1\n",
    "## Сравнение производителности с оптимизациями и без них\n",
    "**Датасет**: рукописные цифры"
   ]
  },
  {
   "cell_type": "code",
   "execution_count": 5,
   "metadata": {},
   "outputs": [],
   "source": [
    "keys = pd.read_csv(\"../data/search_subseries/character/character_trajectories_labels.csv\", index_col=0)\n",
    "warp_window = 0.05\n",
    "subseq_len = 100\n",
    "closest_series_num = 80 \n",
    "character = 9\n",
    "true_subseq_len = 182"
   ]
  },
  {
   "cell_type": "markdown",
   "metadata": {},
   "source": [
    "### Усреднение: DBA"
   ]
  },
  {
   "cell_type": "code",
   "execution_count": 6,
   "metadata": {},
   "outputs": [
    {
     "name": "stdout",
     "output_type": "stream",
     "text": [
      "character:   1 | 0.932 | 1.838 \n",
      "character:   2 | 0.793 | 2.030 \n",
      "character:   3 | 0.932 | 1.628 \n",
      "character:   4 | 0.924 | 1.305 \n",
      "character:   5 | 0.975 | 2.001 \n",
      "character:   6 | 0.912 | 1.736 \n",
      "character:   7 | 0.843 | 1.321 \n",
      "character:   8 | 0.787 | 1.176 \n",
      "character:   9 | 1.000 | 2.533 \n",
      "character:  10 | 0.566 | 1.233 \n",
      "character:  11 | 0.983 | 2.172 \n",
      "character:  12 | 0.887 | 2.077 \n",
      "character:  13 | 0.860 | 1.763 \n",
      "character:  14 | 0.511 | 2.149 \n",
      "character:  15 | 0.981 | 2.384 \n",
      "character:  16 | 0.755 | 1.444 \n",
      "character:  17 | 1.000 | 2.278 \n",
      "character:  18 | 0.720 | 1.644 \n",
      "character:  19 | 0.804 | 2.239 \n",
      "character:  20 | 0.973 | 2.747 \n"
     ]
    }
   ],
   "source": [
    "for character in range(1, 21):\n",
    "    closest, elapsed = search_dtw(closest_series_num, subseq_len, warp_window,\n",
    "                     \"../data/search_subseries/character/character_trajectories.csv\",\n",
    "                     \"../data/search_subseries/character/dba_averaged_{0}.csv\".format(character),\n",
    "                     1)\n",
    "    expected = np.array(list(closest.keys()))\n",
    "    true_starts = keys[keys.labels == character].start.values\n",
    "\n",
    "    print(\"character: {0:>3d} | {1:.3f} | {2:.3f} \".format(\n",
    "        character,\n",
    "        decision(true_starts, expected, 182, subseq_len),\n",
    "        elapsed))"
   ]
  },
  {
   "cell_type": "code",
   "execution_count": 7,
   "metadata": {},
   "outputs": [
    {
     "name": "stdout",
     "output_type": "stream",
     "text": [
      "character:   1 | 0.877 | 1.263 \n",
      "character:   2 | 0.741 | 1.381 \n",
      "character:   3 | 0.898 | 1.086 \n",
      "character:   4 | 0.924 | 0.740 \n",
      "character:   5 | 0.975 | 1.096 \n",
      "character:   6 | 0.877 | 1.261 \n",
      "character:   7 | 0.804 | 0.905 \n",
      "character:   8 | 0.853 | 0.842 \n",
      "character:   9 | 1.000 | 1.548 \n",
      "character:  10 | 0.528 | 0.833 \n",
      "character:  11 | 0.948 | 1.386 \n",
      "character:  12 | 0.792 | 1.488 \n",
      "character:  13 | 0.740 | 1.206 \n",
      "character:  14 | 0.447 | 1.448 \n",
      "character:  15 | 0.981 | 1.566 \n",
      "character:  16 | 0.623 | 1.026 \n",
      "character:  17 | 1.000 | 1.588 \n",
      "character:  18 | 0.660 | 1.026 \n",
      "character:  19 | 0.804 | 1.554 \n",
      "character:  20 | 0.890 | 1.804 \n"
     ]
    }
   ],
   "source": [
    "for character in range(1, 21):\n",
    "    closest, elapsed = search_dtw(closest_series_num, subseq_len, warp_window,\n",
    "                     \"../data/search_subseries/character/character_trajectories.csv\",\n",
    "                     \"../data/search_subseries/character/dba_averaged_{0}.csv\".format(character),\n",
    "                     2)\n",
    "    expected = np.array(list(closest.keys()))\n",
    "    true_starts = keys[keys.labels == character].start.values\n",
    "\n",
    "    print(\"character: {0:>3d} | {1:.3f} | {2:.3f} \".format(\n",
    "        character,\n",
    "        decision(true_starts, expected, 182, subseq_len),\n",
    "        elapsed))"
   ]
  },
  {
   "cell_type": "markdown",
   "metadata": {},
   "source": [
    "### Усреднение: mean"
   ]
  },
  {
   "cell_type": "code",
   "execution_count": 8,
   "metadata": {},
   "outputs": [
    {
     "name": "stdout",
     "output_type": "stream",
     "text": [
      "character:   1 | 0.986 | 1.777 \n",
      "character:   2 | 0.879 | 1.814 \n",
      "character:   3 | 0.898 | 1.558 \n",
      "character:   4 | 0.985 | 1.337 \n",
      "character:   5 | 0.988 | 1.505 \n",
      "character:   6 | 0.965 | 1.781 \n",
      "character:   7 | 0.882 | 1.426 \n",
      "character:   8 | 0.880 | 1.294 \n",
      "character:   9 | 1.000 | 2.692 \n",
      "character:  10 | 0.585 | 1.372 \n",
      "character:  11 | 1.000 | 1.849 \n",
      "character:  12 | 0.717 | 1.999 \n",
      "character:  13 | 0.920 | 1.625 \n",
      "character:  14 | 0.936 | 1.978 \n",
      "character:  15 | 0.981 | 2.566 \n",
      "character:  16 | 0.830 | 1.471 \n",
      "character:  17 | 1.000 | 2.261 \n",
      "character:  18 | 0.600 | 1.551 \n",
      "character:  19 | 0.893 | 1.980 \n",
      "character:  20 | 0.945 | 2.588 \n"
     ]
    }
   ],
   "source": [
    "for character in range(1, 21):\n",
    "    closest, elapsed = search_dtw(closest_series_num, subseq_len, warp_window,\n",
    "                     \"../data/search_subseries/character/character_trajectories.csv\",\n",
    "                     \"../data/search_subseries/character/averaged_{0}.csv\".format(character),\n",
    "                     1)\n",
    "    expected = np.array(list(closest.keys()))\n",
    "    true_starts = keys[keys.labels == character].start.values\n",
    "\n",
    "    print(\"character: {0:>3d} | {1:.3f} | {2:.3f} \".format(\n",
    "        character,\n",
    "        decision(true_starts, expected, 182, subseq_len),\n",
    "        elapsed))"
   ]
  },
  {
   "cell_type": "code",
   "execution_count": 9,
   "metadata": {},
   "outputs": [
    {
     "name": "stdout",
     "output_type": "stream",
     "text": [
      "character:   1 | 0.863 | 1.188 \n",
      "character:   2 | 0.828 | 1.345 \n",
      "character:   3 | 0.881 | 1.082 \n",
      "character:   4 | 0.970 | 0.983 \n",
      "character:   5 | 0.988 | 1.017 \n",
      "character:   6 | 0.947 | 1.339 \n",
      "character:   7 | 0.863 | 0.976 \n",
      "character:   8 | 0.893 | 0.961 \n",
      "character:   9 | 0.980 | 1.610 \n",
      "character:  10 | 0.547 | 0.924 \n",
      "character:  11 | 0.948 | 1.257 \n",
      "character:  12 | 0.717 | 1.451 \n",
      "character:  13 | 0.780 | 1.167 \n",
      "character:  14 | 0.872 | 1.367 \n",
      "character:  15 | 1.000 | 1.603 \n",
      "character:  16 | 0.660 | 1.010 \n",
      "character:  17 | 1.000 | 1.575 \n",
      "character:  18 | 0.540 | 1.012 \n",
      "character:  19 | 0.893 | 1.305 \n",
      "character:  20 | 0.918 | 1.830 \n"
     ]
    }
   ],
   "source": [
    "for character in range(1, 21):\n",
    "    closest, elapsed = search_dtw(closest_series_num, subseq_len, warp_window,\n",
    "                     \"../data/search_subseries/character/character_trajectories.csv\",\n",
    "                     \"../data/search_subseries/character/averaged_{0}.csv\".format(character),\n",
    "                     2)\n",
    "    expected = np.array(list(closest.keys()))\n",
    "    true_starts = keys[keys.labels == character].start.values\n",
    "\n",
    "    print(\"character: {0:>3d} | {1:.3f} | {2:.3f} \".format(\n",
    "        character,\n",
    "        decision(true_starts, expected, 182, subseq_len),\n",
    "        elapsed))"
   ]
  },
  {
   "cell_type": "markdown",
   "metadata": {},
   "source": [
    "## Без оптимизаций"
   ]
  },
  {
   "cell_type": "markdown",
   "metadata": {},
   "source": [
    "### Усреднение: DBA"
   ]
  },
  {
   "cell_type": "code",
   "execution_count": 10,
   "metadata": {},
   "outputs": [
    {
     "name": "stdout",
     "output_type": "stream",
     "text": [
      "character:   1 | 0.932 | 9.312 \n",
      "character:   2 | 0.793 | 9.555 \n",
      "character:   3 | 0.932 | 10.118 \n",
      "character:   4 | 0.924 | 10.494 \n",
      "character:   5 | 0.975 | 13.221 \n",
      "character:   6 | 0.912 | 11.374 \n",
      "character:   7 | 0.843 | 10.596 \n",
      "character:   8 | 0.787 | 11.748 \n",
      "character:   9 | 1.000 | 10.428 \n",
      "character:  10 | 0.566 | 10.272 \n",
      "character:  11 | 0.983 | 10.975 \n",
      "character:  12 | 0.887 | 11.123 \n",
      "character:  13 | 0.860 | 11.498 \n",
      "character:  14 | 0.511 | 10.121 \n",
      "character:  15 | 0.981 | 10.024 \n",
      "character:  16 | 0.755 | 9.693 \n",
      "character:  17 | 1.000 | 9.724 \n",
      "character:  18 | 0.720 | 10.645 \n",
      "character:  19 | 0.804 | 9.809 \n",
      "character:  20 | 0.973 | 10.148 \n"
     ]
    }
   ],
   "source": [
    "for character in range(1, 21):\n",
    "    closest, elapsed = search_dtw(closest_series_num, subseq_len, warp_window,\n",
    "                     \"../data/search_subseries/character/character_trajectories.csv\",\n",
    "                     \"../data/search_subseries/character/dba_averaged_{0}.csv\".format(character),\n",
    "                     1, optimize=False)\n",
    "    expected = np.array(list(closest.keys()))\n",
    "    true_starts = keys[keys.labels == character].start.values\n",
    "\n",
    "    print(\"character: {0:>3d} | {1:.3f} | {2:.3f} \".format(\n",
    "        character,\n",
    "        decision(true_starts, expected, 182, subseq_len),\n",
    "        elapsed))"
   ]
  },
  {
   "cell_type": "code",
   "execution_count": 11,
   "metadata": {},
   "outputs": [
    {
     "name": "stdout",
     "output_type": "stream",
     "text": [
      "character:   1 | 0.877 | 9.177 \n",
      "character:   2 | 0.741 | 9.319 \n",
      "character:   3 | 0.898 | 9.651 \n",
      "character:   4 | 0.924 | 10.228 \n",
      "character:   5 | 0.975 | 8.943 \n",
      "character:   6 | 0.877 | 9.390 \n",
      "character:   7 | 0.804 | 9.119 \n",
      "character:   8 | 0.853 | 9.057 \n",
      "character:   9 | 1.000 | 9.123 \n",
      "character:  10 | 0.528 | 9.061 \n",
      "character:  11 | 0.948 | 9.012 \n",
      "character:  12 | 0.792 | 9.257 \n",
      "character:  13 | 0.740 | 8.960 \n",
      "character:  14 | 0.447 | 9.127 \n",
      "character:  15 | 0.981 | 9.064 \n",
      "character:  16 | 0.623 | 9.080 \n",
      "character:  17 | 1.000 | 9.060 \n",
      "character:  18 | 0.660 | 9.021 \n",
      "character:  19 | 0.804 | 9.100 \n",
      "character:  20 | 0.890 | 9.010 \n"
     ]
    }
   ],
   "source": [
    "for character in range(1, 21):\n",
    "    closest, elapsed = search_dtw(closest_series_num, subseq_len, warp_window,\n",
    "                     \"../data/search_subseries/character/character_trajectories.csv\",\n",
    "                     \"../data/search_subseries/character/dba_averaged_{0}.csv\".format(character),\n",
    "                     2, optimize=False)\n",
    "    expected = np.array(list(closest.keys()))\n",
    "    true_starts = keys[keys.labels == character].start.values\n",
    "\n",
    "    print(\"character: {0:>3d} | {1:.3f} | {2:.3f} \".format(\n",
    "        character,\n",
    "        decision(true_starts, expected, 182, subseq_len),\n",
    "        elapsed))"
   ]
  },
  {
   "cell_type": "markdown",
   "metadata": {},
   "source": [
    "### Усреднение: mean"
   ]
  },
  {
   "cell_type": "code",
   "execution_count": 12,
   "metadata": {},
   "outputs": [
    {
     "name": "stdout",
     "output_type": "stream",
     "text": [
      "character:   1 | 0.986 | 9.442 \n",
      "character:   2 | 0.879 | 9.389 \n",
      "character:   3 | 0.898 | 9.367 \n",
      "character:   4 | 0.985 | 9.411 \n",
      "character:   5 | 0.988 | 9.379 \n",
      "character:   6 | 0.965 | 9.390 \n",
      "character:   7 | 0.882 | 9.368 \n",
      "character:   8 | 0.880 | 9.352 \n",
      "character:   9 | 1.000 | 9.446 \n",
      "character:  10 | 0.585 | 9.386 \n",
      "character:  11 | 1.000 | 9.424 \n",
      "character:  12 | 0.717 | 9.413 \n",
      "character:  13 | 0.920 | 9.426 \n",
      "character:  14 | 0.936 | 9.384 \n",
      "character:  15 | 0.981 | 9.414 \n",
      "character:  16 | 0.830 | 9.400 \n",
      "character:  17 | 1.000 | 9.517 \n",
      "character:  18 | 0.600 | 9.548 \n",
      "character:  19 | 0.893 | 9.423 \n",
      "character:  20 | 0.945 | 9.426 \n"
     ]
    }
   ],
   "source": [
    "for character in range(1, 21):\n",
    "    closest, elapsed = search_dtw(closest_series_num, subseq_len, warp_window,\n",
    "                     \"../data/search_subseries/character/character_trajectories.csv\",\n",
    "                     \"../data/search_subseries/character/averaged_{0}.csv\".format(character),\n",
    "                     1, optimize=False)\n",
    "    expected = np.array(list(closest.keys()))\n",
    "    true_starts = keys[keys.labels == character].start.values\n",
    "\n",
    "    print(\"character: {0:>3d} | {1:.3f} | {2:.3f} \".format(\n",
    "        character,\n",
    "        decision(true_starts, expected, 182, subseq_len),\n",
    "        elapsed))"
   ]
  },
  {
   "cell_type": "code",
   "execution_count": 13,
   "metadata": {},
   "outputs": [
    {
     "name": "stdout",
     "output_type": "stream",
     "text": [
      "character:   1 | 0.863 | 9.082 \n",
      "character:   2 | 0.828 | 9.008 \n",
      "character:   3 | 0.881 | 9.189 \n",
      "character:   4 | 0.970 | 9.059 \n",
      "character:   5 | 0.988 | 9.001 \n",
      "character:   6 | 0.947 | 8.985 \n",
      "character:   7 | 0.863 | 9.010 \n",
      "character:   8 | 0.893 | 8.976 \n",
      "character:   9 | 0.980 | 9.078 \n",
      "character:  10 | 0.547 | 9.032 \n",
      "character:  11 | 0.948 | 8.982 \n",
      "character:  12 | 0.717 | 9.008 \n",
      "character:  13 | 0.780 | 9.016 \n",
      "character:  14 | 0.872 | 9.145 \n",
      "character:  15 | 1.000 | 9.150 \n",
      "character:  16 | 0.660 | 9.008 \n",
      "character:  17 | 1.000 | 8.984 \n",
      "character:  18 | 0.540 | 9.033 \n",
      "character:  19 | 0.893 | 8.962 \n",
      "character:  20 | 0.918 | 8.916 \n"
     ]
    }
   ],
   "source": [
    "for character in range(1, 21):\n",
    "    closest, elapsed = search_dtw(closest_series_num, subseq_len, warp_window,\n",
    "                     \"../data/search_subseries/character/character_trajectories.csv\",\n",
    "                     \"../data/search_subseries/character/averaged_{0}.csv\".format(character),\n",
    "                     2, optimize=False)\n",
    "    expected = np.array(list(closest.keys()))\n",
    "    true_starts = keys[keys.labels == character].start.values\n",
    "\n",
    "    print(\"character: {0:>3d} | {1:.3f} | {2:.3f} \".format(\n",
    "        character,\n",
    "        decision(true_starts, expected, 182, subseq_len),\n",
    "        elapsed))"
   ]
  },
  {
   "cell_type": "markdown",
   "metadata": {},
   "source": [
    "## Эпилепсия"
   ]
  },
  {
   "cell_type": "code",
   "execution_count": 14,
   "metadata": {},
   "outputs": [],
   "source": [
    "keys = np.genfromtxt(\"../data/search_subseries/epi_series_epi_ranges.csv\")\n",
    "real_len = 206\n",
    "real_starts = keys[:, 0]\n",
    "closest_series_num = 20\n",
    "subseq_len = 140\n",
    "warp_window = 0.5"
   ]
  },
  {
   "cell_type": "code",
   "execution_count": 15,
   "metadata": {},
   "outputs": [
    {
     "name": "stdout",
     "output_type": "stream",
     "text": [
      "character:   0 | 0.750 | 14.506 \n"
     ]
    }
   ],
   "source": [
    "closest, elapsed = search_dtw(closest_series_num, subseq_len, warp_window,\n",
    "                     \"../data/search_subseries/epi_series.csv\",\n",
    "                     \"../data/search_subseries/average_attack.csv\",\n",
    "                     2, optimize=False)\n",
    "expected = np.array(list(closest.keys()))\n",
    "\n",
    "print(\"character: {0:>3d} | {1:.3f} | {2:.3f} \".format(\n",
    "    0,\n",
    "    decision(real_starts, expected, real_len, subseq_len),\n",
    "    elapsed))"
   ]
  },
  {
   "cell_type": "code",
   "execution_count": null,
   "metadata": {},
   "outputs": [],
   "source": []
  }
 ],
 "metadata": {
  "kernelspec": {
   "display_name": "Python 3",
   "language": "python",
   "name": "python3"
  },
  "language_info": {
   "codemirror_mode": {
    "name": "ipython",
    "version": 3
   },
   "file_extension": ".py",
   "mimetype": "text/x-python",
   "name": "python",
   "nbconvert_exporter": "python",
   "pygments_lexer": "ipython3",
   "version": "3.7.0"
  }
 },
 "nbformat": 4,
 "nbformat_minor": 2
}
