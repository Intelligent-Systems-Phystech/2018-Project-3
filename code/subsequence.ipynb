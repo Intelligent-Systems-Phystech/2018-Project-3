{
 "cells": [
  {
   "cell_type": "code",
   "execution_count": 4,
   "metadata": {},
   "outputs": [
    {
     "name": "stdout",
     "output_type": "stream",
     "text": [
      "The autoreload extension is already loaded. To reload it, use:\n",
      "  %reload_ext autoreload\n"
     ]
    }
   ],
   "source": [
    "import re\n",
    "import os\n",
    "import numpy as np\n",
    "import pandas as pd\n",
    "import subprocess\n",
    "import search_subsequence\n",
    "%load_ext autoreload\n",
    "%autoreload 2\n",
    "\n",
    "from matplotlib import pyplot as plt\n",
    "from scipy.io import arff\n",
    "from scipy.stats import zscore\n",
    "\n",
    "from DBA_multivariate import performDBA"
   ]
  },
  {
   "cell_type": "code",
   "execution_count": null,
   "metadata": {},
   "outputs": [],
   "source": [
    "data1 = pd.DataFrame(arff.loadarff(\"../data/MultivariateTSCProblems/CharacterTrajectories/CharacterTrajectoriesDimension1_TRAIN.arff\")[0])\n",
    "data2 = pd.DataFrame(arff.loadarff(\"../data/MultivariateTSCProblems/CharacterTrajectories/CharacterTrajectoriesDimension2_TRAIN.arff\")[0])\n",
    "data3 = pd.DataFrame(arff.loadarff(\"../data/MultivariateTSCProblems/CharacterTrajectories/CharacterTrajectoriesDimension3_TRAIN.arff\")[0])\n",
    "\n",
    "labels = data1.iloc[:, -1]\n",
    "labels = labels.replace(dict({(v, i) for i, v in enumerate(np.unique(labels))})).values\n",
    "data = np.stack([data1.iloc[:, :-1].values, data2.iloc[:, :-1].values, data3.iloc[:, :-1].values], 1)\n",
    "\n",
    "for i in range(20):\n",
    "    path = \"../data/search_subseries/character/{0}/\".format(i)\n",
    "    if not os.path.exists(path):\n",
    "        os.mkdir(path)\n",
    "    search_subsequence.generate_sample(data, labels, 1500, path)"
   ]
  },
  {
   "cell_type": "code",
   "execution_count": null,
   "metadata": {},
   "outputs": [],
   "source": [
    "data_test_1 = pd.DataFrame(arff.loadarff(\"../data/MultivariateTSCProblems/Epilepsy/EpilepsyDimension1_TEST.arff\")[0])\n",
    "data_test_2 = pd.DataFrame(arff.loadarff(\"../data/MultivariateTSCProblems/Epilepsy/EpilepsyDimension2_TEST.arff\")[0])\n",
    "data_test_3 = pd.DataFrame(arff.loadarff(\"../data/MultivariateTSCProblems/Epilepsy/EpilepsyDimension2_TEST.arff\")[0])\n",
    "\n",
    "data_train_1 = pd.DataFrame(arff.loadarff(\"../data/MultivariateTSCProblems/Epilepsy/EpilepsyDimension1_TRAIN.arff\")[0])\n",
    "data_train_2 = pd.DataFrame(arff.loadarff(\"../data/MultivariateTSCProblems/Epilepsy/EpilepsyDimension2_TRAIN.arff\")[0])\n",
    "data_train_3 = pd.DataFrame(arff.loadarff(\"../data/MultivariateTSCProblems/Epilepsy/EpilepsyDimension2_TRAIN.arff\")[0])\n",
    "\n",
    "data1 = pd.concat([data_test_1, data_train_1])\n",
    "data2 = pd.concat([data_test_2, data_train_2])\n",
    "data3 = pd.concat([data_test_3, data_train_3])\n",
    "\n",
    "labels = data1.iloc[:, -1]\n",
    "labels = labels.replace(dict({(v, i) for i, v in enumerate(np.unique(labels))})).values\n",
    "data = np.stack([data1.iloc[:, :-1].values, data2.iloc[:, :-1].values, data3.iloc[:, :-1].values], 1)\n",
    "\n",
    "for i in range(20):\n",
    "    path = \"../data/search_subseries/epi/{0}/\".format(i)\n",
    "    if not os.path.exists(path):\n",
    "        os.mkdir(path)\n",
    "    search_subsequence.generate_sample(data, labels, 600, path)"
   ]
  },
  {
   "cell_type": "markdown",
   "metadata": {},
   "source": [
    "# Эксперимент 1\n",
    "## Сравнение производителности с оптимизациями и без них\n",
    "**Датасет**: рукописные цифры"
   ]
  },
  {
   "cell_type": "code",
   "execution_count": 2,
   "metadata": {},
   "outputs": [],
   "source": [
    "warp_window = 0.05\n",
    "subseq_len = 100\n",
    "closest_series_num = 80\n",
    "true_subseq_len = 182"
   ]
  },
  {
   "cell_type": "markdown",
   "metadata": {},
   "source": [
    "### Усреднение: DBA"
   ]
  },
  {
   "cell_type": "code",
   "execution_count": 3,
   "metadata": {},
   "outputs": [
    {
     "name": "stdout",
     "output_type": "stream",
     "text": [
      "item:   0 | 0.885 +- 0.051| 6.706 +- 0.819 \n",
      "item:   1 | 0.625 +- 0.103| 7.043 +- 0.708 \n",
      "item:   2 | 0.959 +- 0.032| 6.401 +- 0.506 \n",
      "item:   3 | 0.770 +- 0.074| 6.657 +- 1.023 \n",
      "item:   4 | 0.875 +- 0.097| 6.667 +- 0.492 \n",
      "item:   5 | 0.672 +- 0.112| 5.662 +- 0.426 \n",
      "item:   6 | 0.963 +- 0.038| 7.890 +- 0.869 \n",
      "item:   7 | 0.766 +- 0.096| 6.920 +- 0.569 \n",
      "item:   8 | 0.998 +- 0.005| 6.217 +- 0.594 \n",
      "item:   9 | 0.632 +- 0.094| 7.752 +- 0.403 \n",
      "item:  10 | 0.861 +- 0.061| 7.294 +- 0.525 \n",
      "item:  11 | 0.759 +- 0.075| 5.940 +- 0.415 \n",
      "item:  12 | 0.822 +- 0.234| 8.134 +- 0.890 \n",
      "item:  13 | 0.866 +- 0.062| 5.729 +- 0.335 \n",
      "item:  14 | 0.943 +- 0.033| 6.611 +- 0.496 \n",
      "item:  15 | 0.978 +- 0.032| 7.474 +- 0.637 \n",
      "item:  16 | 0.867 +- 0.071| 7.002 +- 0.587 \n",
      "item:  17 | 0.789 +- 0.091| 6.660 +- 1.200 \n",
      "item:  18 | 0.819 +- 0.055| 5.056 +- 0.501 \n",
      "item:  19 | 0.971 +- 0.037| 8.174 +- 0.419 \n",
      "0.841 +-  0.140  6.799 +- 1.051\n",
      "item:   0 | 0.838 +- 0.036| 4.961 +- 0.553 \n",
      "item:   1 | 0.539 +- 0.126| 4.986 +- 0.531 \n",
      "item:   2 | 0.951 +- 0.023| 4.937 +- 0.357 \n",
      "item:   3 | 0.730 +- 0.072| 4.635 +- 0.426 \n",
      "item:   4 | 0.809 +- 0.118| 5.181 +- 0.372 \n",
      "item:   5 | 0.602 +- 0.114| 4.556 +- 0.295 \n",
      "item:   6 | 0.965 +- 0.029| 6.050 +- 1.101 \n",
      "item:   7 | 0.663 +- 0.127| 5.122 +- 0.409 \n",
      "item:   8 | 1.000 +- 0.000| 4.840 +- 0.367 \n",
      "item:   9 | 0.581 +- 0.083| 6.183 +- 0.548 \n",
      "item:  10 | 0.850 +- 0.081| 6.371 +- 0.625 \n",
      "item:  11 | 0.716 +- 0.066| 4.387 +- 0.279 \n",
      "item:  12 | 0.786 +- 0.241| 6.000 +- 1.051 \n",
      "item:  13 | 0.839 +- 0.063| 4.827 +- 0.255 \n",
      "item:  14 | 0.937 +- 0.036| 5.145 +- 0.362 \n",
      "item:  15 | 0.976 +- 0.031| 5.799 +- 0.815 \n",
      "item:  16 | 0.851 +- 0.076| 5.628 +- 0.681 \n",
      "item:  17 | 0.731 +- 0.142| 4.987 +- 0.438 \n",
      "item:  18 | 0.813 +- 0.055| 4.471 +- 0.382 \n",
      "item:  19 | 0.943 +- 0.059| 6.005 +- 0.663 \n",
      "0.806 +-  0.164  5.253 +- 0.833\n",
      "item:   0 | 0.780 +- 0.044| 10.357 +- 0.708 \n",
      "item:   1 | 0.589 +- 0.120| 7.378 +- 2.315 \n",
      "item:   2 | 0.917 +- 0.035| 8.659 +- 2.079 \n",
      "item:   3 | 0.713 +- 0.086| 9.317 +- 0.627 \n",
      "item:   4 | 0.772 +- 0.120| 10.353 +- 0.956 \n",
      "item:   5 | 0.633 +- 0.084| 8.140 +- 1.979 \n",
      "item:   6 | 0.951 +- 0.036| 7.178 +- 1.967 \n",
      "item:   7 | 0.585 +- 0.106| 6.674 +- 2.307 \n",
      "item:   8 | 0.995 +- 0.010| 10.889 +- 0.591 \n",
      "item:   9 | 0.672 +- 0.088| 8.660 +- 1.239 \n",
      "item:  10 | 0.802 +- 0.101| 6.935 +- 2.132 \n",
      "item:  11 | 0.737 +- 0.069| 8.041 +- 2.364 \n",
      "item:  12 | 0.710 +- 0.233| 9.655 +- 2.037 \n",
      "item:  13 | 0.942 +- 0.036| 11.066 +- 0.265 \n",
      "item:  14 | 0.800 +- 0.071| 5.192 +- 1.324 \n",
      "item:  15 | 0.976 +- 0.031| 8.967 +- 1.390 \n",
      "item:  16 | 0.826 +- 0.094| 6.586 +- 2.178 \n",
      "item:  17 | 0.800 +- 0.096| 7.774 +- 1.238 \n",
      "item:  18 | 0.618 +- 0.083| 11.413 +- 0.530 \n",
      "item:  19 | 0.990 +- 0.016| 9.814 +- 0.550 \n",
      "0.790 +-  0.161  8.652 +- 2.311\n"
     ]
    }
   ],
   "source": [
    "search_subsequence.experiment(1, True, \"../data/search_subseries/character\", 20, 20, closest_series_num, subseq_len, true_subseq_len, warp_window)\n",
    "search_subsequence.experiment(2, True, \"../data/search_subseries/character\", 20, 20, closest_series_num, subseq_len, true_subseq_len, warp_window)\n",
    "search_subsequence.experiment(3, True, \"../data/search_subseries/character\", 20, 20, closest_series_num, subseq_len, true_subseq_len, warp_window)"
   ]
  },
  {
   "cell_type": "markdown",
   "metadata": {},
   "source": [
    "### Усреднение: mean"
   ]
  },
  {
   "cell_type": "code",
   "execution_count": 4,
   "metadata": {},
   "outputs": [
    {
     "name": "stdout",
     "output_type": "stream",
     "text": [
      "item:   0 | 0.929 +- 0.034| 6.311 +- 0.674 \n",
      "item:   1 | 0.598 +- 0.060| 6.453 +- 0.627 \n",
      "item:   2 | 0.978 +- 0.018| 6.046 +- 0.790 \n",
      "item:   3 | 0.750 +- 0.065| 6.250 +- 0.750 \n",
      "item:   4 | 0.902 +- 0.063| 6.567 +- 0.532 \n",
      "item:   5 | 0.838 +- 0.055| 5.258 +- 0.318 \n",
      "item:   6 | 0.980 +- 0.029| 6.939 +- 0.605 \n",
      "item:   7 | 0.812 +- 0.052| 6.181 +- 0.414 \n",
      "item:   8 | 0.996 +- 0.007| 5.902 +- 0.488 \n",
      "item:   9 | 0.539 +- 0.064| 7.266 +- 0.813 \n",
      "item:  10 | 0.888 +- 0.040| 7.779 +- 0.511 \n",
      "item:  11 | 0.824 +- 0.056| 5.438 +- 0.584 \n",
      "item:  12 | 0.944 +- 0.050| 7.998 +- 0.901 \n",
      "item:  13 | 0.869 +- 0.059| 5.714 +- 0.515 \n",
      "item:  14 | 0.974 +- 0.028| 6.518 +- 0.379 \n",
      "item:  15 | 0.978 +- 0.032| 7.204 +- 0.624 \n",
      "item:  16 | 0.928 +- 0.039| 6.375 +- 0.384 \n",
      "item:  17 | 0.837 +- 0.046| 5.973 +- 0.368 \n",
      "item:  18 | 0.856 +- 0.043| 5.132 +- 0.423 \n",
      "item:  19 | 0.978 +- 0.019| 8.054 +- 0.412 \n",
      "0.870 +-  0.130  6.468 +- 1.012\n",
      "item:   0 | 0.892 +- 0.036| 4.621 +- 0.430 \n",
      "item:   1 | 0.588 +- 0.064| 4.968 +- 0.395 \n",
      "item:   2 | 0.957 +- 0.028| 4.586 +- 0.375 \n",
      "item:   3 | 0.726 +- 0.052| 4.410 +- 0.361 \n",
      "item:   4 | 0.810 +- 0.072| 4.985 +- 0.285 \n",
      "item:   5 | 0.782 +- 0.086| 4.376 +- 0.192 \n",
      "item:   6 | 0.993 +- 0.012| 4.950 +- 0.424 \n",
      "item:   7 | 0.728 +- 0.077| 4.438 +- 0.418 \n",
      "item:   8 | 0.999 +- 0.004| 4.732 +- 0.253 \n",
      "item:   9 | 0.490 +- 0.068| 5.516 +- 0.462 \n",
      "item:  10 | 0.892 +- 0.045| 6.762 +- 1.201 \n",
      "item:  11 | 0.787 +- 0.066| 4.140 +- 0.366 \n",
      "item:  12 | 0.943 +- 0.039| 5.607 +- 0.648 \n",
      "item:  13 | 0.861 +- 0.060| 4.718 +- 0.277 \n",
      "item:  14 | 0.954 +- 0.028| 5.132 +- 0.287 \n",
      "item:  15 | 0.969 +- 0.029| 5.536 +- 0.864 \n",
      "item:  16 | 0.903 +- 0.052| 4.717 +- 0.180 \n",
      "item:  17 | 0.814 +- 0.044| 4.875 +- 0.778 \n",
      "item:  18 | 0.851 +- 0.046| 4.485 +- 0.383 \n",
      "item:  19 | 0.962 +- 0.029| 5.802 +- 0.542 \n",
      "0.845 +-  0.141  4.968 +- 0.795\n",
      "item:   0 | 0.800 +- 0.043| 9.978 +- 0.729 \n",
      "item:   1 | 0.697 +- 0.079| 7.023 +- 1.885 \n",
      "item:   2 | 0.921 +- 0.032| 8.965 +- 0.488 \n",
      "item:   3 | 0.674 +- 0.078| 8.960 +- 0.834 \n",
      "item:   4 | 0.799 +- 0.089| 10.129 +- 0.844 \n",
      "item:   5 | 0.658 +- 0.093| 8.470 +- 1.130 \n",
      "item:   6 | 0.975 +- 0.025| 7.085 +- 1.201 \n",
      "item:   7 | 0.590 +- 0.090| 6.582 +- 1.102 \n",
      "item:   8 | 0.965 +- 0.044| 10.619 +- 0.622 \n",
      "item:   9 | 0.617 +- 0.070| 8.726 +- 0.855 \n",
      "item:  10 | 0.935 +- 0.055| 9.201 +- 0.841 \n",
      "item:  11 | 0.778 +- 0.049| 9.072 +- 0.864 \n",
      "item:  12 | 0.704 +- 0.088| 10.153 +- 0.690 \n",
      "item:  13 | 0.933 +- 0.087| 11.003 +- 0.512 \n",
      "item:  14 | 0.827 +- 0.059| 6.052 +- 1.076 \n",
      "item:  15 | 0.977 +- 0.032| 9.036 +- 0.654 \n",
      "item:  16 | 0.867 +- 0.031| 8.075 +- 1.159 \n",
      "item:  17 | 0.832 +- 0.041| 5.826 +- 1.106 \n",
      "item:  18 | 0.617 +- 0.084| 11.284 +- 0.434 \n",
      "item:  19 | 0.997 +- 0.006| 9.455 +- 0.881 \n",
      "0.808 +-  0.147  8.785 +- 1.820\n"
     ]
    }
   ],
   "source": [
    "search_subsequence.experiment(1, False, \"../data/search_subseries/character\", 20, 20, closest_series_num, subseq_len, true_subseq_len, warp_window)\n",
    "search_subsequence.experiment(2, False, \"../data/search_subseries/character\", 20, 20, closest_series_num, subseq_len, true_subseq_len, warp_window)\n",
    "search_subsequence.experiment(3, False, \"../data/search_subseries/character\", 20, 20, closest_series_num, subseq_len, true_subseq_len, warp_window)"
   ]
  },
  {
   "cell_type": "markdown",
   "metadata": {},
   "source": [
    "## Без оптимизаций"
   ]
  },
  {
   "cell_type": "markdown",
   "metadata": {},
   "source": [
    "### Усреднение: DBA"
   ]
  },
  {
   "cell_type": "code",
   "execution_count": 5,
   "metadata": {},
   "outputs": [
    {
     "name": "stdout",
     "output_type": "stream",
     "text": [
      "item:   0 | 0.885 +- 0.051| 9.100 +- 0.090 \n",
      "item:   1 | 0.625 +- 0.103| 9.096 +- 0.076 \n",
      "item:   2 | 0.959 +- 0.032| 9.079 +- 0.076 \n",
      "item:   3 | 0.770 +- 0.074| 9.092 +- 0.076 \n",
      "item:   4 | 0.875 +- 0.097| 9.120 +- 0.079 \n",
      "item:   5 | 0.672 +- 0.112| 9.083 +- 0.055 \n",
      "item:   6 | 0.963 +- 0.038| 9.095 +- 0.053 \n",
      "item:   7 | 0.766 +- 0.096| 9.093 +- 0.056 \n",
      "item:   8 | 0.998 +- 0.005| 9.094 +- 0.079 \n",
      "item:   9 | 0.632 +- 0.094| 9.097 +- 0.073 \n",
      "item:  10 | 0.861 +- 0.061| 9.066 +- 0.058 \n",
      "item:  11 | 0.759 +- 0.075| 9.056 +- 0.045 \n",
      "item:  12 | 0.822 +- 0.234| 9.098 +- 0.088 \n",
      "item:  13 | 0.866 +- 0.062| 9.019 +- 0.052 \n",
      "item:  14 | 0.943 +- 0.033| 9.077 +- 0.102 \n",
      "item:  15 | 0.978 +- 0.032| 9.215 +- 0.532 \n",
      "item:  16 | 0.867 +- 0.071| 9.082 +- 0.087 \n",
      "item:  17 | 0.789 +- 0.091| 9.121 +- 0.077 \n",
      "item:  18 | 0.819 +- 0.055| 9.020 +- 0.072 \n",
      "item:  19 | 0.971 +- 0.037| 9.095 +- 0.029 \n",
      "0.841 +-  0.140  9.090 +- 0.143\n",
      "item:   0 | 0.838 +- 0.036| 8.773 +- 0.070 \n",
      "item:   1 | 0.539 +- 0.126| 8.758 +- 0.049 \n",
      "item:   2 | 0.951 +- 0.023| 8.783 +- 0.095 \n",
      "item:   3 | 0.730 +- 0.072| 8.771 +- 0.063 \n",
      "item:   4 | 0.809 +- 0.118| 8.827 +- 0.093 \n",
      "item:   5 | 0.602 +- 0.114| 8.814 +- 0.081 \n",
      "item:   6 | 0.965 +- 0.029| 8.819 +- 0.110 \n",
      "item:   7 | 0.663 +- 0.127| 8.774 +- 0.085 \n",
      "item:   8 | 1.000 +- 0.000| 8.824 +- 0.101 \n",
      "item:   9 | 0.581 +- 0.083| 8.818 +- 0.089 \n",
      "item:  10 | 0.850 +- 0.081| 8.788 +- 0.102 \n",
      "item:  11 | 0.716 +- 0.066| 8.785 +- 0.096 \n",
      "item:  12 | 0.786 +- 0.241| 8.811 +- 0.084 \n",
      "item:  13 | 0.839 +- 0.063| 8.728 +- 0.081 \n",
      "item:  14 | 0.937 +- 0.036| 8.741 +- 0.061 \n",
      "item:  15 | 0.976 +- 0.031| 8.749 +- 0.080 \n",
      "item:  16 | 0.851 +- 0.076| 8.691 +- 0.546 \n",
      "item:  17 | 0.731 +- 0.142| 8.752 +- 0.052 \n",
      "item:  18 | 0.813 +- 0.055| 8.670 +- 0.066 \n",
      "item:  19 | 0.943 +- 0.059| 8.782 +- 0.075 \n",
      "0.806 +-  0.164  8.773 +- 0.152\n",
      "item:   0 | 0.780 +- 0.044| 12.251 +- 0.070 \n",
      "item:   1 | 0.584 +- 0.120| 12.309 +- 0.075 \n",
      "item:   2 | 0.917 +- 0.035| 12.255 +- 0.084 \n",
      "item:   3 | 0.713 +- 0.086| 12.247 +- 0.038 \n",
      "item:   4 | 0.772 +- 0.120| 12.355 +- 0.095 \n",
      "item:   5 | 0.631 +- 0.083| 12.323 +- 0.098 \n",
      "item:   6 | 0.951 +- 0.036| 12.266 +- 0.078 \n",
      "item:   7 | 0.585 +- 0.106| 12.302 +- 0.085 \n",
      "item:   8 | 0.995 +- 0.010| 12.246 +- 0.061 \n",
      "item:   9 | 0.672 +- 0.088| 12.306 +- 0.074 \n",
      "item:  10 | 0.801 +- 0.103| 12.264 +- 0.039 \n",
      "item:  11 | 0.737 +- 0.069| 12.369 +- 0.462 \n",
      "item:  12 | 0.698 +- 0.225| 12.319 +- 0.060 \n",
      "item:  13 | 0.942 +- 0.036| 12.252 +- 0.212 \n",
      "item:  14 | 0.800 +- 0.071| 12.294 +- 0.070 \n",
      "item:  15 | 0.976 +- 0.031| 12.234 +- 0.070 \n",
      "item:  16 | 0.828 +- 0.094| 12.264 +- 0.034 \n",
      "item:  17 | 0.800 +- 0.096| 12.321 +- 0.093 \n",
      "item:  18 | 0.618 +- 0.083| 12.200 +- 0.083 \n",
      "item:  19 | 0.983 +- 0.015| 12.339 +- 0.081 \n",
      "0.789 +-  0.161  12.286 +- 0.140\n"
     ]
    }
   ],
   "source": [
    "search_subsequence.experiment(1, True, \"../data/search_subseries/character\", 20, 20, closest_series_num, subseq_len, true_subseq_len, warp_window, False)\n",
    "search_subsequence.experiment(2, True, \"../data/search_subseries/character\", 20, 20, closest_series_num, subseq_len, true_subseq_len, warp_window, False)\n",
    "search_subsequence.experiment(3, True, \"../data/search_subseries/character\", 20, 20, closest_series_num, subseq_len, true_subseq_len, warp_window, False)"
   ]
  },
  {
   "cell_type": "markdown",
   "metadata": {},
   "source": [
    "### Усреднение: mean"
   ]
  },
  {
   "cell_type": "code",
   "execution_count": 6,
   "metadata": {},
   "outputs": [
    {
     "name": "stdout",
     "output_type": "stream",
     "text": [
      "item:   0 | 0.929 +- 0.034| 9.124 +- 0.090 \n",
      "item:   1 | 0.598 +- 0.060| 9.101 +- 0.088 \n",
      "item:   2 | 0.978 +- 0.018| 9.081 +- 0.089 \n",
      "item:   3 | 0.750 +- 0.065| 9.078 +- 0.090 \n",
      "item:   4 | 0.902 +- 0.063| 9.155 +- 0.118 \n",
      "item:   5 | 0.838 +- 0.055| 9.061 +- 0.061 \n",
      "item:   6 | 0.980 +- 0.029| 9.076 +- 0.065 \n",
      "item:   7 | 0.812 +- 0.052| 9.106 +- 0.077 \n",
      "item:   8 | 0.996 +- 0.007| 9.135 +- 0.372 \n",
      "item:   9 | 0.539 +- 0.064| 9.076 +- 0.058 \n",
      "item:  10 | 0.888 +- 0.040| 9.073 +- 0.089 \n",
      "item:  11 | 0.824 +- 0.056| 9.052 +- 0.073 \n",
      "item:  12 | 0.944 +- 0.050| 9.065 +- 0.065 \n",
      "item:  13 | 0.869 +- 0.059| 9.090 +- 0.106 \n",
      "item:  14 | 0.974 +- 0.028| 9.117 +- 0.115 \n",
      "item:  15 | 0.978 +- 0.032| 9.086 +- 0.091 \n",
      "item:  16 | 0.928 +- 0.039| 9.088 +- 0.090 \n",
      "item:  17 | 0.837 +- 0.046| 9.081 +- 0.078 \n",
      "item:  18 | 0.856 +- 0.043| 9.063 +- 0.085 \n",
      "item:  19 | 0.978 +- 0.019| 9.123 +- 0.083 \n",
      "0.870 +-  0.130  9.092 +- 0.121\n",
      "item:   0 | 0.892 +- 0.036| 8.765 +- 0.096 \n",
      "item:   1 | 0.588 +- 0.064| 8.745 +- 0.091 \n",
      "item:   2 | 0.957 +- 0.028| 8.709 +- 0.066 \n",
      "item:   3 | 0.726 +- 0.052| 8.722 +- 0.072 \n",
      "item:   4 | 0.810 +- 0.072| 8.783 +- 0.090 \n",
      "item:   5 | 0.782 +- 0.086| 8.780 +- 0.083 \n",
      "item:   6 | 0.993 +- 0.012| 8.738 +- 0.080 \n",
      "item:   7 | 0.728 +- 0.077| 8.764 +- 0.083 \n",
      "item:   8 | 0.999 +- 0.004| 8.745 +- 0.097 \n",
      "item:   9 | 0.490 +- 0.068| 8.758 +- 0.088 \n",
      "item:  10 | 0.892 +- 0.045| 8.705 +- 0.067 \n",
      "item:  11 | 0.787 +- 0.066| 8.705 +- 0.050 \n",
      "item:  12 | 0.942 +- 0.041| 8.696 +- 0.045 \n",
      "item:  13 | 0.861 +- 0.060| 8.705 +- 0.087 \n",
      "item:  14 | 0.954 +- 0.028| 8.724 +- 0.066 \n",
      "item:  15 | 0.969 +- 0.029| 8.735 +- 0.094 \n",
      "item:  16 | 0.903 +- 0.052| 8.707 +- 0.061 \n",
      "item:  17 | 0.814 +- 0.044| 8.756 +- 0.078 \n",
      "item:  18 | 0.851 +- 0.046| 8.738 +- 0.097 \n",
      "item:  19 | 0.962 +- 0.029| 8.781 +- 0.081 \n",
      "0.845 +-  0.141  8.738 +- 0.085\n",
      "item:   0 | 0.800 +- 0.043| 12.258 +- 0.084 \n",
      "item:   1 | 0.699 +- 0.080| 12.270 +- 0.085 \n",
      "item:   2 | 0.921 +- 0.032| 12.268 +- 0.089 \n",
      "item:   3 | 0.674 +- 0.078| 12.229 +- 0.082 \n",
      "item:   4 | 0.799 +- 0.089| 12.308 +- 0.109 \n",
      "item:   5 | 0.656 +- 0.092| 12.223 +- 0.102 \n",
      "item:   6 | 0.975 +- 0.025| 12.230 +- 0.106 \n",
      "item:   7 | 0.590 +- 0.090| 12.243 +- 0.088 \n",
      "item:   8 | 0.965 +- 0.044| 12.214 +- 0.068 \n",
      "item:   9 | 0.617 +- 0.070| 12.266 +- 0.051 \n",
      "item:  10 | 0.935 +- 0.055| 12.245 +- 0.094 \n",
      "item:  11 | 0.778 +- 0.049| 12.197 +- 0.067 \n",
      "item:  12 | 0.676 +- 0.087| 12.292 +- 0.090 \n",
      "item:  13 | 0.933 +- 0.087| 12.188 +- 0.055 \n",
      "item:  14 | 0.827 +- 0.059| 12.210 +- 0.029 \n",
      "item:  15 | 0.977 +- 0.032| 12.214 +- 0.090 \n",
      "item:  16 | 0.867 +- 0.031| 12.228 +- 0.039 \n",
      "item:  17 | 0.831 +- 0.041| 12.288 +- 0.111 \n",
      "item:  18 | 0.617 +- 0.084| 12.213 +- 0.099 \n",
      "item:  19 | 0.979 +- 0.019| 12.304 +- 0.097 \n",
      "0.806 +-  0.147  12.244 +- 0.092\n"
     ]
    }
   ],
   "source": [
    "search_subsequence.experiment(1, False, \"../data/search_subseries/character\", 20, 20, closest_series_num, subseq_len, true_subseq_len, warp_window, False)\n",
    "search_subsequence.experiment(2, False, \"../data/search_subseries/character\", 20, 20, closest_series_num, subseq_len, true_subseq_len, warp_window, False)\n",
    "search_subsequence.experiment(3, False, \"../data/search_subseries/character\", 20, 20, closest_series_num, subseq_len, true_subseq_len, warp_window, False)"
   ]
  },
  {
   "cell_type": "markdown",
   "metadata": {},
   "source": [
    "## Эпилепсия"
   ]
  },
  {
   "cell_type": "code",
   "execution_count": 2,
   "metadata": {},
   "outputs": [],
   "source": [
    "warp_window = 0.15\n",
    "subseq_len = 140\n",
    "closest_series_num = 200 \n",
    "true_subseq_len = 206"
   ]
  },
  {
   "cell_type": "markdown",
   "metadata": {},
   "source": [
    "### Усреднение: DBA"
   ]
  },
  {
   "cell_type": "code",
   "execution_count": 6,
   "metadata": {},
   "outputs": [
    {
     "name": "stdout",
     "output_type": "stream",
     "text": [
      "item:   0 | 0.688 +- 0.063| 22.767 +- 0.148 \n",
      "item:   1 | 0.876 +- 0.034| 22.524 +- 0.090 \n",
      "item:   2 | 0.758 +- 0.067| 22.735 +- 0.180 \n",
      "item:   3 | 0.903 +- 0.028| 22.296 +- 0.152 \n",
      "0.806 +-  0.101  22.581 +- 0.239\n",
      "item:   0 | 0.692 +- 0.055| 21.896 +- 0.172 \n",
      "item:   1 | 0.836 +- 0.045| 21.789 +- 0.096 \n",
      "item:   2 | 0.811 +- 0.061| 21.942 +- 0.179 \n",
      "item:   3 | 0.916 +- 0.027| 21.721 +- 0.157 \n",
      "0.814 +-  0.094  21.837 +- 0.177\n",
      "item:   0 | 0.654 +- 0.046| 29.764 +- 0.822 \n",
      "item:   1 | 0.658 +- 0.053| 29.798 +- 0.395 \n",
      "item:   2 | 0.649 +- 0.097| 29.975 +- 0.745 \n",
      "item:   3 | 0.694 +- 0.082| 29.117 +- 1.433 \n",
      "0.664 +-  0.075  29.664 +- 0.983\n"
     ]
    }
   ],
   "source": [
    "search_subsequence.experiment(1, True, \"../data/search_subseries/epi\", 4, 20, closest_series_num, subseq_len, true_subseq_len, warp_window)\n",
    "search_subsequence.experiment(2, True, \"../data/search_subseries/epi\", 4, 20, closest_series_num, subseq_len, true_subseq_len, warp_window)\n",
    "search_subsequence.experiment(3, True, \"../data/search_subseries/epi\", 4, 20, closest_series_num, subseq_len, true_subseq_len, warp_window)"
   ]
  },
  {
   "cell_type": "markdown",
   "metadata": {},
   "source": [
    "### Усреднение: mean"
   ]
  },
  {
   "cell_type": "code",
   "execution_count": 7,
   "metadata": {},
   "outputs": [
    {
     "name": "stdout",
     "output_type": "stream",
     "text": [
      "item:   0 | 0.714 +- 0.067| 22.885 +- 0.101 \n",
      "item:   1 | 0.810 +- 0.048| 22.631 +- 0.106 \n",
      "item:   2 | 0.774 +- 0.066| 22.816 +- 0.151 \n",
      "item:   3 | 0.914 +- 0.023| 22.305 +- 0.129 \n",
      "0.803 +-  0.091  22.659 +- 0.256\n",
      "item:   0 | 0.664 +- 0.073| 22.067 +- 0.143 \n",
      "item:   1 | 0.775 +- 0.074| 21.884 +- 0.115 \n",
      "item:   2 | 0.792 +- 0.055| 22.041 +- 0.111 \n",
      "item:   3 | 0.917 +- 0.036| 21.664 +- 0.115 \n",
      "0.787 +-  0.108  21.914 +- 0.201\n",
      "item:   0 | 0.552 +- 0.057| 29.192 +- 1.168 \n",
      "item:   1 | 0.629 +- 0.070| 29.012 +- 1.055 \n",
      "item:   2 | 0.436 +- 0.097| 29.045 +- 1.168 \n",
      "item:   3 | 0.754 +- 0.068| 26.621 +- 2.357 \n",
      "0.593 +-  0.138  28.468 +- 1.868\n"
     ]
    }
   ],
   "source": [
    "search_subsequence.experiment(1, False, \"../data/search_subseries/epi\", 4, 20, closest_series_num, subseq_len, true_subseq_len, warp_window)\n",
    "search_subsequence.experiment(2, False, \"../data/search_subseries/epi\", 4, 20, closest_series_num, subseq_len, true_subseq_len, warp_window)\n",
    "search_subsequence.experiment(3, False, \"../data/search_subseries/epi\", 4, 20, closest_series_num, subseq_len, true_subseq_len, warp_window)"
   ]
  },
  {
   "cell_type": "markdown",
   "metadata": {},
   "source": [
    "## Без оптимизаций"
   ]
  },
  {
   "cell_type": "markdown",
   "metadata": {},
   "source": [
    "### Усреднение: DBA"
   ]
  },
  {
   "cell_type": "code",
   "execution_count": 8,
   "metadata": {},
   "outputs": [
    {
     "name": "stdout",
     "output_type": "stream",
     "text": [
      "item:   0 | 0.688 +- 0.063| 21.611 +- 0.193 \n",
      "item:   1 | 0.876 +- 0.034| 21.473 +- 0.123 \n",
      "item:   2 | 0.758 +- 0.067| 21.624 +- 0.138 \n",
      "item:   3 | 0.903 +- 0.028| 21.218 +- 0.134 \n",
      "0.806 +-  0.101  21.481 +- 0.222\n",
      "item:   0 | 0.692 +- 0.055| 20.813 +- 0.223 \n",
      "item:   1 | 0.836 +- 0.045| 20.740 +- 0.155 \n",
      "item:   2 | 0.811 +- 0.061| 20.831 +- 0.165 \n",
      "item:   3 | 0.916 +- 0.027| 20.660 +- 0.127 \n",
      "0.814 +-  0.094  20.761 +- 0.184\n",
      "item:   0 | 0.658 +- 0.045| 29.752 +- 0.170 \n",
      "item:   1 | 0.658 +- 0.054| 29.775 +- 0.133 \n",
      "item:   2 | 0.648 +- 0.094| 29.779 +- 0.241 \n",
      "item:   3 | 0.699 +- 0.084| 29.840 +- 0.121 \n",
      "0.666 +-  0.075  29.787 +- 0.176\n"
     ]
    }
   ],
   "source": [
    "search_subsequence.experiment(1, True, \"../data/search_subseries/epi\", 4, 20, closest_series_num, subseq_len, true_subseq_len, warp_window, False)\n",
    "search_subsequence.experiment(2, True, \"../data/search_subseries/epi\", 4, 20, closest_series_num, subseq_len, true_subseq_len, warp_window, False)\n",
    "search_subsequence.experiment(3, True, \"../data/search_subseries/epi\", 4, 20, closest_series_num, subseq_len, true_subseq_len, warp_window, False)"
   ]
  },
  {
   "cell_type": "markdown",
   "metadata": {},
   "source": [
    "### Усреднение: mean"
   ]
  },
  {
   "cell_type": "code",
   "execution_count": 9,
   "metadata": {},
   "outputs": [
    {
     "name": "stdout",
     "output_type": "stream",
     "text": [
      "item:   0 | 0.714 +- 0.067| 21.741 +- 0.102 \n",
      "item:   1 | 0.810 +- 0.048| 21.527 +- 0.095 \n",
      "item:   2 | 0.774 +- 0.066| 21.711 +- 0.126 \n",
      "item:   3 | 0.914 +- 0.023| 21.223 +- 0.140 \n",
      "0.803 +-  0.091  21.551 +- 0.237\n",
      "item:   0 | 0.664 +- 0.073| 21.048 +- 0.155 \n",
      "item:   1 | 0.775 +- 0.074| 20.856 +- 0.140 \n",
      "item:   2 | 0.792 +- 0.055| 21.023 +- 0.124 \n",
      "item:   3 | 0.917 +- 0.036| 20.655 +- 0.119 \n",
      "0.787 +-  0.108  20.896 +- 0.208\n",
      "item:   0 | 0.552 +- 0.056| 29.949 +- 0.121 \n",
      "item:   1 | 0.628 +- 0.071| 29.895 +- 0.105 \n",
      "item:   2 | 0.434 +- 0.094| 29.939 +- 0.155 \n",
      "item:   3 | 0.754 +- 0.071| 29.740 +- 0.162 \n",
      "0.592 +-  0.138  29.881 +- 0.161\n"
     ]
    }
   ],
   "source": [
    "search_subsequence.experiment(1, False, \"../data/search_subseries/epi\", 4, 20, closest_series_num, subseq_len, true_subseq_len, warp_window, False)\n",
    "search_subsequence.experiment(2, False, \"../data/search_subseries/epi\", 4, 20, closest_series_num, subseq_len, true_subseq_len, warp_window, False)\n",
    "search_subsequence.experiment(3, False, \"../data/search_subseries/epi\", 4, 20, closest_series_num, subseq_len, true_subseq_len, warp_window, False)"
   ]
  },
  {
   "cell_type": "code",
   "execution_count": null,
   "metadata": {},
   "outputs": [],
   "source": []
  }
 ],
 "metadata": {
  "kernelspec": {
   "display_name": "nncaenv",
   "language": "python",
   "name": "nncaenv"
  },
  "language_info": {
   "codemirror_mode": {
    "name": "ipython",
    "version": 3
   },
   "file_extension": ".py",
   "mimetype": "text/x-python",
   "name": "python",
   "nbconvert_exporter": "python",
   "pygments_lexer": "ipython3",
   "version": "3.7.2"
  }
 },
 "nbformat": 4,
 "nbformat_minor": 2
}
