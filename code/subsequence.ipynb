{
 "cells": [
  {
   "cell_type": "code",
   "execution_count": 1,
   "metadata": {},
   "outputs": [],
   "source": [
    "import re\n",
    "import os\n",
    "import numpy as np\n",
    "import pandas as pd\n",
    "import subprocess\n",
    "import search_subsequence\n",
    "%load_ext autoreload\n",
    "%autoreload 2\n",
    "\n",
    "from matplotlib import pyplot as plt\n",
    "from scipy.io import arff\n",
    "from scipy.stats import zscore\n",
    "\n",
    "from DBA_multivariate import performDBA\n",
    "\n",
    "metrics = [1, 2, 3]"
   ]
  },
  {
   "cell_type": "markdown",
   "metadata": {},
   "source": [
    "# Prepare Character Dataset"
   ]
  },
  {
   "cell_type": "code",
   "execution_count": 2,
   "metadata": {},
   "outputs": [],
   "source": [
    "# data1 = pd.DataFrame(arff.loadarff(\"../data/MultivariateTSCProblems/CharacterTrajectories/CharacterTrajectoriesDimension1_TRAIN.arff\")[0])\n",
    "# data2 = pd.DataFrame(arff.loadarff(\"../data/MultivariateTSCProblems/CharacterTrajectories/CharacterTrajectoriesDimension2_TRAIN.arff\")[0])\n",
    "# data3 = pd.DataFrame(arff.loadarff(\"../data/MultivariateTSCProblems/CharacterTrajectories/CharacterTrajectoriesDimension3_TRAIN.arff\")[0])\n",
    "\n",
    "# labels = data1.iloc[:, -1]\n",
    "# labels = labels.replace(dict({(v, i) for i, v in enumerate(np.unique(labels))})).values\n",
    "# data = np.stack([data1.iloc[:, :-1].values, data2.iloc[:, :-1].values, data3.iloc[:, :-1].values], 1)\n",
    "\n",
    "# for i in range(20):\n",
    "#     path = \"../data/search_subseries/tmp_character/{0}/\".format(i)\n",
    "#     if not os.path.exists(path):\n",
    "#         os.mkdir(path)\n",
    "#     search_subsequence.generate_sample(data, labels, 1500, path)"
   ]
  },
  {
   "cell_type": "markdown",
   "metadata": {},
   "source": [
    "# Prepare Epilepsy Dataset"
   ]
  },
  {
   "cell_type": "code",
   "execution_count": 3,
   "metadata": {},
   "outputs": [],
   "source": [
    "# data_test_1 = pd.DataFrame(arff.loadarff(\"../data/MultivariateTSCProblems/Epilepsy/EpilepsyDimension1_TEST.arff\")[0])\n",
    "# data_test_2 = pd.DataFrame(arff.loadarff(\"../data/MultivariateTSCProblems/Epilepsy/EpilepsyDimension2_TEST.arff\")[0])\n",
    "# data_test_3 = pd.DataFrame(arff.loadarff(\"../data/MultivariateTSCProblems/Epilepsy/EpilepsyDimension2_TEST.arff\")[0])\n",
    "\n",
    "# data_train_1 = pd.DataFrame(arff.loadarff(\"../data/MultivariateTSCProblems/Epilepsy/EpilepsyDimension1_TRAIN.arff\")[0])\n",
    "# data_train_2 = pd.DataFrame(arff.loadarff(\"../data/MultivariateTSCProblems/Epilepsy/EpilepsyDimension2_TRAIN.arff\")[0])\n",
    "# data_train_3 = pd.DataFrame(arff.loadarff(\"../data/MultivariateTSCProblems/Epilepsy/EpilepsyDimension2_TRAIN.arff\")[0])\n",
    "\n",
    "# data1 = pd.concat([data_test_1, data_train_1])\n",
    "# data2 = pd.concat([data_test_2, data_train_2])\n",
    "# data3 = pd.concat([data_test_3, data_train_3])\n",
    "\n",
    "# labels = data1.iloc[:, -1]\n",
    "# labels = labels.replace(dict({(v, i) for i, v in enumerate(np.unique(labels))})).values\n",
    "# data = np.stack([data1.iloc[:, :-1].values, data2.iloc[:, :-1].values, data3.iloc[:, :-1].values], 1)\n",
    "\n",
    "# for i in range(20):\n",
    "#     path = \"../data/search_subseries/epi/{0}/\".format(i)\n",
    "#     if not os.path.exists(path):\n",
    "#         os.mkdir(path)\n",
    "#     search_subsequence.generate_sample(data, labels, 600, path)"
   ]
  },
  {
   "cell_type": "markdown",
   "metadata": {},
   "source": [
    "# Эксперимент 1\n",
    "## Сравнение производителности с оптимизациями и без них\n",
    "**Датасет**: рукописные цифры"
   ]
  },
  {
   "cell_type": "code",
   "execution_count": 4,
   "metadata": {},
   "outputs": [],
   "source": [
    "warp_window = 0.05\n",
    "subseq_len = 100\n",
    "closest_series_num = 80\n",
    "true_subseq_len = 182\n",
    "\n",
    "n_repeat = 4\n",
    "n_samples = 20\n",
    "base_dir = \"../data/search_subseries/character\""
   ]
  },
  {
   "cell_type": "markdown",
   "metadata": {},
   "source": [
    "### Усреднение: DBA"
   ]
  },
  {
   "cell_type": "code",
   "execution_count": 5,
   "metadata": {},
   "outputs": [
    {
     "name": "stdout",
     "output_type": "stream",
     "text": [
      "\n",
      "Distance: 1\n",
      "item:   0 | 0.878 +- 0.047| 2.654 +- 0.342 \n",
      "item:   1 | 0.729 +- 0.052| 2.404 +- 0.062 \n",
      "item:   2 | 0.980 +- 0.018| 2.723 +- 0.092 \n",
      "item:   3 | 0.765 +- 0.091| 2.649 +- 0.153 \n",
      "item:   4 | 0.851 +- 0.185| 2.641 +- 0.115 \n",
      "item:   5 | 0.645 +- 0.148| 2.593 +- 0.098 \n",
      "item:   6 | 0.996 +- 0.008| 3.174 +- 0.329 \n",
      "item:   7 | 0.726 +- 0.095| 2.176 +- 0.125 \n",
      "item:   8 | 1.000 +- 0.000| 2.746 +- 0.192 \n",
      "item:   9 | 0.674 +- 0.056| 2.278 +- 0.089 \n",
      "item:  10 | 0.867 +- 0.064| 2.772 +- 0.113 \n",
      "item:  11 | 0.778 +- 0.056| 2.365 +- 0.055 \n",
      "item:  12 | 0.726 +- 0.326| 3.155 +- 0.135 \n",
      "item:  13 | 0.878 +- 0.083| 2.206 +- 0.040 \n",
      "item:  14 | 0.952 +- 0.040| 2.343 +- 0.244 \n",
      "item:  15 | 0.965 +- 0.044| 2.428 +- 0.200 \n",
      "item:  16 | 0.825 +- 0.090| 2.573 +- 0.133 \n",
      "item:  17 | 0.839 +- 0.053| 2.236 +- 0.050 \n",
      "item:  18 | 0.838 +- 0.041| 1.987 +- 0.062 \n",
      "item:  19 | 0.952 +- 0.056| 3.067 +- 0.300 \n",
      "0.843+-0.140 2.559+-0.351819\n",
      "\n",
      "Distance: 2\n",
      "item:   0 | 0.830 +- 0.020| 1.935 +- 0.049 \n",
      "item:   1 | 0.642 +- 0.084| 1.774 +- 0.029 \n",
      "item:   2 | 0.962 +- 0.023| 2.054 +- 0.061 \n",
      "item:   3 | 0.712 +- 0.088| 1.962 +- 0.064 \n",
      "item:   4 | 0.753 +- 0.228| 1.959 +- 0.077 \n",
      "item:   5 | 0.601 +- 0.095| 1.998 +- 0.054 \n",
      "item:   6 | 0.988 +- 0.025| 2.379 +- 0.147 \n",
      "item:   7 | 0.641 +- 0.148| 1.763 +- 0.100 \n",
      "item:   8 | 1.000 +- 0.000| 2.148 +- 0.094 \n",
      "item:   9 | 0.608 +- 0.035| 1.818 +- 0.024 \n",
      "item:  10 | 0.846 +- 0.104| 2.103 +- 0.053 \n",
      "item:  11 | 0.749 +- 0.090| 1.916 +- 0.029 \n",
      "item:  12 | 0.657 +- 0.292| 2.392 +- 0.157 \n",
      "item:  13 | 0.846 +- 0.063| 1.795 +- 0.068 \n",
      "item:  14 | 0.942 +- 0.026| 1.747 +- 0.067 \n",
      "item:  15 | 0.965 +- 0.044| 1.854 +- 0.068 \n",
      "item:  16 | 0.828 +- 0.061| 1.948 +- 0.056 \n",
      "item:  17 | 0.810 +- 0.057| 1.891 +- 0.056 \n",
      "item:  18 | 0.828 +- 0.078| 1.649 +- 0.041 \n",
      "item:  19 | 0.907 +- 0.082| 2.292 +- 0.125 \n",
      "0.806+-0.158 1.969+-0.213609\n",
      "\n",
      "Distance: 3\n",
      "item:   0 | 0.760 +- 0.035| 2.923 +- 0.070 \n",
      "item:   1 | 0.663 +- 0.165| 2.678 +- 0.224 \n",
      "item:   2 | 0.902 +- 0.036| 2.663 +- 0.374 \n",
      "item:   3 | 0.727 +- 0.102| 3.324 +- 0.369 \n",
      "item:   4 | 0.765 +- 0.251| 3.718 +- 0.467 \n",
      "item:   5 | 0.600 +- 0.055| 3.407 +- 0.627 \n",
      "item:   6 | 0.958 +- 0.063| 3.078 +- 0.604 \n",
      "item:   7 | 0.521 +- 0.051| 2.861 +- 0.952 \n",
      "item:   8 | 0.993 +- 0.015| 5.513 +- 0.263 \n",
      "item:   9 | 0.687 +- 0.082| 2.644 +- 0.062 \n",
      "item:  10 | 0.755 +- 0.140| 2.398 +- 0.376 \n",
      "item:  11 | 0.735 +- 0.075| 2.822 +- 0.520 \n",
      "item:  12 | 0.621 +- 0.327| 4.202 +- 1.472 \n",
      "item:  13 | 0.959 +- 0.009| 3.709 +- 0.250 \n",
      "item:  14 | 0.801 +- 0.033| 2.070 +- 0.147 \n",
      "item:  15 | 0.965 +- 0.044| 2.965 +- 0.179 \n",
      "item:  16 | 0.793 +- 0.100| 2.319 +- 0.245 \n",
      "item:  17 | 0.834 +- 0.045| 2.742 +- 0.105 \n",
      "item:  18 | 0.590 +- 0.124| 2.986 +- 0.234 \n",
      "item:  19 | 0.966 +- 0.026| 4.510 +- 0.333 \n",
      "0.780+-0.173 3.177+-0.916199\n"
     ]
    }
   ],
   "source": [
    "search_subsequence.experiment(\n",
    "    metrics, True, base_dir, n_samples, n_repeat,\n",
    "    closest_series_num, subseq_len, true_subseq_len, warp_window, optimize=True)"
   ]
  },
  {
   "cell_type": "markdown",
   "metadata": {},
   "source": [
    "### Усреднение: mean"
   ]
  },
  {
   "cell_type": "code",
   "execution_count": 6,
   "metadata": {},
   "outputs": [
    {
     "name": "stdout",
     "output_type": "stream",
     "text": [
      "\n",
      "Distance: 1\n",
      "item:   0 | 0.913 +- 0.049| 2.239 +- 0.029 \n",
      "item:   1 | 0.644 +- 0.023| 2.157 +- 0.013 \n",
      "item:   2 | 0.992 +- 0.010| 2.646 +- 0.127 \n",
      "item:   3 | 0.721 +- 0.079| 2.420 +- 0.065 \n",
      "item:   4 | 0.852 +- 0.071| 2.272 +- 0.038 \n",
      "item:   5 | 0.821 +- 0.053| 2.393 +- 0.039 \n",
      "item:   6 | 0.996 +- 0.008| 3.197 +- 0.130 \n",
      "item:   7 | 0.805 +- 0.033| 2.257 +- 0.072 \n",
      "item:   8 | 0.996 +- 0.008| 2.562 +- 0.045 \n",
      "item:   9 | 0.540 +- 0.077| 2.492 +- 0.088 \n",
      "item:  10 | 0.897 +- 0.036| 2.517 +- 0.026 \n",
      "item:  11 | 0.823 +- 0.026| 2.261 +- 0.032 \n",
      "item:  12 | 0.942 +- 0.047| 3.040 +- 0.161 \n",
      "item:  13 | 0.912 +- 0.063| 2.267 +- 0.080 \n",
      "item:  14 | 0.956 +- 0.020| 2.246 +- 0.029 \n",
      "item:  15 | 0.965 +- 0.044| 2.324 +- 0.126 \n",
      "item:  16 | 0.916 +- 0.052| 2.436 +- 0.086 \n",
      "item:  17 | 0.869 +- 0.043| 2.177 +- 0.059 \n",
      "item:  18 | 0.855 +- 0.065| 2.034 +- 0.028 \n",
      "item:  19 | 0.969 +- 0.026| 3.027 +- 0.094 \n",
      "0.869+-0.124 2.448+-0.313731\n",
      "\n",
      "Distance: 2\n",
      "item:   0 | 0.899 +- 0.048| 1.901 +- 0.060 \n",
      "item:   1 | 0.639 +- 0.038| 1.735 +- 0.015 \n",
      "item:   2 | 0.966 +- 0.029| 1.996 +- 0.028 \n",
      "item:   3 | 0.706 +- 0.055| 1.920 +- 0.054 \n",
      "item:   4 | 0.740 +- 0.068| 1.902 +- 0.034 \n",
      "item:   5 | 0.732 +- 0.068| 1.955 +- 0.038 \n",
      "item:   6 | 1.000 +- 0.000| 2.285 +- 0.096 \n",
      "item:   7 | 0.696 +- 0.108| 1.776 +- 0.058 \n",
      "item:   8 | 0.996 +- 0.008| 2.030 +- 0.046 \n",
      "item:   9 | 0.472 +- 0.059| 1.909 +- 0.025 \n",
      "item:  10 | 0.916 +- 0.023| 1.989 +- 0.030 \n",
      "item:  11 | 0.797 +- 0.055| 1.924 +- 0.077 \n",
      "item:  12 | 0.925 +- 0.046| 2.274 +- 0.025 \n",
      "item:  13 | 0.903 +- 0.060| 1.778 +- 0.024 \n",
      "item:  14 | 0.937 +- 0.032| 1.764 +- 0.015 \n",
      "item:  15 | 0.952 +- 0.031| 1.801 +- 0.061 \n",
      "item:  16 | 0.887 +- 0.075| 1.970 +- 0.091 \n",
      "item:  17 | 0.834 +- 0.039| 1.751 +- 0.038 \n",
      "item:  18 | 0.837 +- 0.080| 1.697 +- 0.018 \n",
      "item:  19 | 0.958 +- 0.029| 2.277 +- 0.020 \n",
      "0.840+-0.142 1.932+-0.178565\n",
      "\n",
      "Distance: 3\n",
      "item:   0 | 0.796 +- 0.037| 2.926 +- 0.244 \n",
      "item:   1 | 0.761 +- 0.064| 2.516 +- 0.162 \n",
      "item:   2 | 0.929 +- 0.026| 2.791 +- 0.177 \n",
      "item:   3 | 0.696 +- 0.053| 3.201 +- 0.488 \n",
      "item:   4 | 0.784 +- 0.079| 3.159 +- 0.190 \n",
      "item:   5 | 0.580 +- 0.073| 3.229 +- 0.176 \n",
      "item:   6 | 0.991 +- 0.011| 2.899 +- 0.183 \n",
      "item:   7 | 0.553 +- 0.102| 2.315 +- 0.170 \n",
      "item:   8 | 0.954 +- 0.054| 5.192 +- 0.285 \n",
      "item:   9 | 0.621 +- 0.094| 2.616 +- 0.078 \n",
      "item:  10 | 0.925 +- 0.050| 3.040 +- 0.436 \n",
      "item:  11 | 0.764 +- 0.053| 3.023 +- 0.328 \n",
      "item:  12 | 0.769 +- 0.081| 3.913 +- 0.487 \n",
      "item:  13 | 0.946 +- 0.042| 4.464 +- 0.437 \n",
      "item:  14 | 0.808 +- 0.045| 2.084 +- 0.091 \n",
      "item:  15 | 0.959 +- 0.038| 3.235 +- 0.361 \n",
      "item:  16 | 0.852 +- 0.040| 2.330 +- 0.045 \n",
      "item:  17 | 0.859 +- 0.063| 2.445 +- 0.120 \n",
      "item:  18 | 0.562 +- 0.144| 3.313 +- 0.163 \n",
      "item:  19 | 0.961 +- 0.028| 4.193 +- 0.385 \n",
      "0.804+-0.150 3.144+-0.799764\n"
     ]
    }
   ],
   "source": [
    "search_subsequence.experiment(\n",
    "    metrics, False, base_dir, n_samples, n_repeat,\n",
    "    closest_series_num, subseq_len, true_subseq_len, warp_window, optimize=True)"
   ]
  },
  {
   "cell_type": "markdown",
   "metadata": {},
   "source": [
    "## Без оптимизаций"
   ]
  },
  {
   "cell_type": "markdown",
   "metadata": {},
   "source": [
    "### Усреднение: DBA"
   ]
  },
  {
   "cell_type": "code",
   "execution_count": 7,
   "metadata": {},
   "outputs": [
    {
     "name": "stdout",
     "output_type": "stream",
     "text": [
      "\n",
      "Distance: 1\n",
      "item:   0 | 0.878 +- 0.047| 9.245 +- 0.099 \n",
      "item:   1 | 0.729 +- 0.052| 9.431 +- 0.279 \n",
      "item:   2 | 0.980 +- 0.018| 9.368 +- 0.285 \n",
      "item:   3 | 0.765 +- 0.091| 9.434 +- 0.278 \n",
      "item:   4 | 0.851 +- 0.185| 9.422 +- 0.276 \n",
      "item:   5 | 0.645 +- 0.148| 9.411 +- 0.360 \n",
      "item:   6 | 0.996 +- 0.008| 9.390 +- 0.191 \n",
      "item:   7 | 0.726 +- 0.095| 9.325 +- 0.212 \n",
      "item:   8 | 1.000 +- 0.000| 9.317 +- 0.279 \n",
      "item:   9 | 0.674 +- 0.056| 9.386 +- 0.158 \n",
      "item:  10 | 0.867 +- 0.064| 9.408 +- 0.169 \n",
      "item:  11 | 0.778 +- 0.056| 9.293 +- 0.223 \n",
      "item:  12 | 0.726 +- 0.326| 9.342 +- 0.241 \n",
      "item:  13 | 0.878 +- 0.083| 9.297 +- 0.150 \n",
      "item:  14 | 0.952 +- 0.040| 9.334 +- 0.328 \n",
      "item:  15 | 0.965 +- 0.044| 9.337 +- 0.219 \n",
      "item:  16 | 0.825 +- 0.090| 9.352 +- 0.228 \n",
      "item:  17 | 0.839 +- 0.053| 9.465 +- 0.310 \n",
      "item:  18 | 0.838 +- 0.041| 9.402 +- 0.412 \n",
      "item:  19 | 0.952 +- 0.056| 9.280 +- 0.074 \n",
      "0.843+-0.140 9.362+-0.226072\n",
      "\n",
      "Distance: 2\n",
      "item:   0 | 0.830 +- 0.020| 8.977 +- 0.246 \n",
      "item:   1 | 0.642 +- 0.084| 8.934 +- 0.226 \n",
      "item:   2 | 0.962 +- 0.023| 8.902 +- 0.260 \n",
      "item:   3 | 0.712 +- 0.088| 8.907 +- 0.085 \n",
      "item:   4 | 0.753 +- 0.228| 8.996 +- 0.228 \n",
      "item:   5 | 0.601 +- 0.095| 8.934 +- 0.267 \n",
      "item:   6 | 0.988 +- 0.025| 9.074 +- 0.231 \n",
      "item:   7 | 0.641 +- 0.148| 9.025 +- 0.267 \n",
      "item:   8 | 1.000 +- 0.000| 8.912 +- 0.247 \n",
      "item:   9 | 0.608 +- 0.035| 8.833 +- 0.024 \n",
      "item:  10 | 0.846 +- 0.104| 8.928 +- 0.316 \n",
      "item:  11 | 0.749 +- 0.090| 8.814 +- 0.141 \n",
      "item:  12 | 0.657 +- 0.292| 8.968 +- 0.249 \n",
      "item:  13 | 0.846 +- 0.063| 8.984 +- 0.245 \n",
      "item:  14 | 0.942 +- 0.026| 8.781 +- 0.076 \n",
      "item:  15 | 0.965 +- 0.044| 8.884 +- 0.186 \n",
      "item:  16 | 0.828 +- 0.061| 8.765 +- 0.125 \n",
      "item:  17 | 0.810 +- 0.057| 8.915 +- 0.328 \n",
      "item:  18 | 0.828 +- 0.078| 8.780 +- 0.163 \n",
      "item:  19 | 0.907 +- 0.082| 8.902 +- 0.165 \n",
      "0.806+-0.158 8.911+-0.206070\n",
      "\n",
      "Distance: 3\n",
      "item:   0 | 0.778 +- 0.032| 12.524 +- 0.321 \n",
      "item:   1 | 0.714 +- 0.089| 12.681 +- 0.433 \n",
      "item:   2 | 0.907 +- 0.038| 12.545 +- 0.138 \n",
      "item:   3 | 0.736 +- 0.081| 12.508 +- 0.196 \n",
      "item:   4 | 0.756 +- 0.232| 12.648 +- 0.429 \n",
      "item:   5 | 0.610 +- 0.050| 12.564 +- 0.226 \n",
      "item:   6 | 0.958 +- 0.063| 12.430 +- 0.235 \n",
      "item:   7 | 0.531 +- 0.034| 12.637 +- 0.404 \n",
      "item:   8 | 0.993 +- 0.015| 12.536 +- 0.261 \n",
      "item:   9 | 0.687 +- 0.082| 12.598 +- 0.334 \n",
      "item:  10 | 0.772 +- 0.109| 12.455 +- 0.094 \n",
      "item:  11 | 0.762 +- 0.051| 12.487 +- 0.172 \n",
      "item:  12 | 0.611 +- 0.279| 12.623 +- 0.196 \n",
      "item:  13 | 0.959 +- 0.009| 12.349 +- 0.130 \n",
      "item:  14 | 0.785 +- 0.060| 12.521 +- 0.151 \n",
      "item:  15 | 0.965 +- 0.044| 12.409 +- 0.124 \n",
      "item:  16 | 0.812 +- 0.102| 12.355 +- 0.034 \n",
      "item:  17 | 0.863 +- 0.049| 12.519 +- 0.045 \n",
      "item:  18 | 0.590 +- 0.124| 12.396 +- 0.163 \n",
      "item:  19 | 0.978 +- 0.017| 12.555 +- 0.208 \n",
      "0.788+-0.164 12.517+-0.230577\n"
     ]
    }
   ],
   "source": [
    "search_subsequence.experiment(\n",
    "    metrics, True, base_dir, n_samples, n_repeat,\n",
    "    closest_series_num, subseq_len, true_subseq_len, warp_window, optimize=False)"
   ]
  },
  {
   "cell_type": "markdown",
   "metadata": {},
   "source": [
    "### Усреднение: mean"
   ]
  },
  {
   "cell_type": "code",
   "execution_count": 8,
   "metadata": {},
   "outputs": [
    {
     "name": "stdout",
     "output_type": "stream",
     "text": [
      "\n",
      "Distance: 1\n",
      "item:   0 | 0.913 +- 0.049| 9.297 +- 0.163 \n",
      "item:   1 | 0.644 +- 0.023| 9.414 +- 0.252 \n",
      "item:   2 | 0.992 +- 0.010| 9.246 +- 0.193 \n",
      "item:   3 | 0.721 +- 0.079| 9.369 +- 0.169 \n",
      "item:   4 | 0.852 +- 0.071| 9.209 +- 0.031 \n",
      "item:   5 | 0.821 +- 0.053| 9.276 +- 0.266 \n",
      "item:   6 | 0.996 +- 0.008| 9.246 +- 0.132 \n",
      "item:   7 | 0.805 +- 0.033| 9.263 +- 0.205 \n",
      "item:   8 | 0.996 +- 0.008| 9.362 +- 0.177 \n",
      "item:   9 | 0.540 +- 0.077| 9.203 +- 0.153 \n",
      "item:  10 | 0.897 +- 0.036| 9.319 +- 0.244 \n",
      "item:  11 | 0.823 +- 0.026| 9.209 +- 0.082 \n",
      "item:  12 | 0.942 +- 0.047| 9.229 +- 0.191 \n",
      "item:  13 | 0.912 +- 0.063| 9.309 +- 0.181 \n",
      "item:  14 | 0.956 +- 0.020| 9.229 +- 0.136 \n",
      "item:  15 | 0.965 +- 0.044| 9.185 +- 0.074 \n",
      "item:  16 | 0.916 +- 0.052| 9.267 +- 0.119 \n",
      "item:  17 | 0.869 +- 0.043| 9.231 +- 0.139 \n",
      "item:  18 | 0.855 +- 0.065| 9.179 +- 0.113 \n",
      "item:  19 | 0.969 +- 0.026| 9.281 +- 0.172 \n",
      "0.869+-0.124 9.266+-0.159617\n",
      "\n",
      "Distance: 2\n",
      "item:   0 | 0.899 +- 0.048| 8.701 +- 0.031 \n",
      "item:   1 | 0.639 +- 0.038| 8.781 +- 0.060 \n",
      "item:   2 | 0.966 +- 0.029| 8.700 +- 0.035 \n",
      "item:   3 | 0.706 +- 0.055| 8.749 +- 0.127 \n",
      "item:   4 | 0.740 +- 0.068| 8.737 +- 0.101 \n",
      "item:   5 | 0.732 +- 0.068| 8.776 +- 0.105 \n",
      "item:   6 | 1.000 +- 0.000| 9.049 +- 0.607 \n",
      "item:   7 | 0.696 +- 0.108| 8.740 +- 0.103 \n",
      "item:   8 | 0.996 +- 0.008| 8.731 +- 0.102 \n",
      "item:   9 | 0.472 +- 0.059| 8.747 +- 0.084 \n",
      "item:  10 | 0.916 +- 0.023| 8.653 +- 0.030 \n",
      "item:  11 | 0.797 +- 0.055| 8.702 +- 0.069 \n",
      "item:  12 | 0.925 +- 0.046| 8.711 +- 0.105 \n",
      "item:  13 | 0.903 +- 0.060| 8.707 +- 0.103 \n",
      "item:  14 | 0.937 +- 0.032| 8.825 +- 0.156 \n",
      "item:  15 | 0.952 +- 0.031| 8.758 +- 0.122 \n",
      "item:  16 | 0.887 +- 0.075| 8.772 +- 0.093 \n",
      "item:  17 | 0.834 +- 0.039| 8.731 +- 0.070 \n",
      "item:  18 | 0.837 +- 0.080| 8.758 +- 0.071 \n",
      "item:  19 | 0.958 +- 0.029| 8.768 +- 0.018 \n",
      "0.840+-0.142 8.755+-0.159940\n",
      "\n",
      "Distance: 3\n",
      "item:   0 | 0.804 +- 0.032| 12.362 +- 0.132 \n",
      "item:   1 | 0.766 +- 0.061| 12.394 +- 0.099 \n",
      "item:   2 | 0.929 +- 0.026| 12.414 +- 0.143 \n",
      "item:   3 | 0.687 +- 0.046| 12.399 +- 0.107 \n",
      "item:   4 | 0.753 +- 0.150| 12.477 +- 0.105 \n",
      "item:   5 | 0.589 +- 0.086| 12.322 +- 0.097 \n",
      "item:   6 | 0.991 +- 0.011| 12.390 +- 0.091 \n",
      "item:   7 | 0.548 +- 0.090| 12.418 +- 0.074 \n",
      "item:   8 | 0.954 +- 0.054| 12.404 +- 0.161 \n",
      "item:   9 | 0.608 +- 0.098| 12.427 +- 0.086 \n",
      "item:  10 | 0.925 +- 0.050| 12.344 +- 0.106 \n",
      "item:  11 | 0.780 +- 0.038| 12.368 +- 0.198 \n",
      "item:  12 | 0.714 +- 0.056| 12.379 +- 0.064 \n",
      "item:  13 | 0.946 +- 0.042| 12.362 +- 0.140 \n",
      "item:  14 | 0.801 +- 0.080| 12.563 +- 0.235 \n",
      "item:  15 | 0.959 +- 0.038| 12.334 +- 0.095 \n",
      "item:  16 | 0.848 +- 0.042| 12.365 +- 0.082 \n",
      "item:  17 | 0.863 +- 0.058| 12.404 +- 0.097 \n",
      "item:  18 | 0.562 +- 0.144| 12.373 +- 0.055 \n",
      "item:  19 | 0.978 +- 0.017| 12.427 +- 0.092 \n",
      "0.800+-0.155 12.396+-0.116965\n"
     ]
    }
   ],
   "source": [
    "search_subsequence.experiment(\n",
    "    metrics, False, base_dir, n_samples, n_repeat,\n",
    "    closest_series_num, subseq_len, true_subseq_len, warp_window, optimize=False)"
   ]
  },
  {
   "cell_type": "markdown",
   "metadata": {},
   "source": [
    "## Эпилепсия"
   ]
  },
  {
   "cell_type": "code",
   "execution_count": 9,
   "metadata": {},
   "outputs": [],
   "source": [
    "warp_window = 0.15\n",
    "subseq_len = 140\n",
    "closest_series_num = 80\n",
    "true_subseq_len = 206\n",
    "\n",
    "n_repeat = 2\n",
    "n_samples = 4\n",
    "base_dir = \"../data/search_subseries/epi\""
   ]
  },
  {
   "cell_type": "markdown",
   "metadata": {},
   "source": [
    "### Усреднение: DBA"
   ]
  },
  {
   "cell_type": "code",
   "execution_count": 10,
   "metadata": {},
   "outputs": [
    {
     "name": "stdout",
     "output_type": "stream",
     "text": [
      "\n",
      "Distance: 1\n",
      "item:   0 | 0.566 +- 0.041| 22.784 +- 0.125 \n",
      "item:   1 | 0.567 +- 0.020| 22.478 +- 0.066 \n",
      "item:   2 | 0.367 +- 0.007| 22.782 +- 0.018 \n",
      "item:   3 | 0.650 +- 0.007| 21.986 +- 0.152 \n",
      "0.538+-0.106 22.507+-0.333777\n",
      "\n",
      "Distance: 2\n",
      "item:   0 | 0.541 +- 0.040| 20.136 +- 0.344 \n",
      "item:   1 | 0.563 +- 0.014| 20.636 +- 0.023 \n",
      "item:   2 | 0.456 +- 0.026| 20.785 +- 0.713 \n",
      "item:   3 | 0.646 +- 0.002| 20.043 +- 0.251 \n",
      "0.552+-0.070 20.400+-0.431768\n",
      "\n",
      "Distance: 3\n",
      "item:   0 | 0.377 +- 0.089| 25.016 +- 2.742 \n",
      "item:   1 | 0.393 +- 0.067| 26.322 +- 0.890 \n",
      "item:   2 | 0.307 +- 0.192| 26.910 +- 0.778 \n",
      "item:   3 | 0.337 +- 0.140| 25.335 +- 2.885 \n",
      "0.353+-0.099 25.895+-1.652042\n"
     ]
    }
   ],
   "source": [
    "search_subsequence.experiment(\n",
    "    metrics, True, base_dir, n_samples, n_repeat,\n",
    "    closest_series_num, subseq_len, true_subseq_len, warp_window, optimize=True)"
   ]
  },
  {
   "cell_type": "markdown",
   "metadata": {},
   "source": [
    "### Усреднение: mean"
   ]
  },
  {
   "cell_type": "code",
   "execution_count": 11,
   "metadata": {},
   "outputs": [
    {
     "name": "stdout",
     "output_type": "stream",
     "text": [
      "\n",
      "Distance: 1\n",
      "item:   0 | 0.515 +- 0.015| 23.434 +- 0.137 \n",
      "item:   1 | 0.396 +- 0.082| 22.913 +- 0.096 \n",
      "item:   2 | 0.526 +- 0.043| 23.368 +- 0.142 \n",
      "item:   3 | 0.509 +- 0.161| 22.352 +- 0.293 \n",
      "0.487+-0.084 23.017+-0.452249\n",
      "\n",
      "Distance: 2\n",
      "item:   0 | 0.464 +- 0.002| 21.615 +- 0.197 \n",
      "item:   1 | 0.364 +- 0.088| 20.535 +- 0.193 \n",
      "item:   2 | 0.541 +- 0.051| 22.061 +- 0.078 \n",
      "item:   3 | 0.529 +- 0.156| 19.496 +- 0.286 \n",
      "0.475+-0.096 20.927+-1.005219\n",
      "\n",
      "Distance: 3\n",
      "item:   0 | 0.293 +- 0.098| 21.047 +- 0.317 \n",
      "item:   1 | 0.223 +- 0.045| 25.974 +- 1.066 \n",
      "item:   2 | 0.240 +- 0.092| 27.051 +- 1.892 \n",
      "item:   3 | 0.317 +- 0.015| 18.119 +- 9.394 \n",
      "0.268+-0.063 23.048+-4.985441\n"
     ]
    }
   ],
   "source": [
    "search_subsequence.experiment(\n",
    "    metrics, False, base_dir, n_samples, n_repeat,\n",
    "    closest_series_num, subseq_len, true_subseq_len, warp_window, optimize=True)"
   ]
  },
  {
   "cell_type": "markdown",
   "metadata": {},
   "source": [
    "## Без оптимизаций"
   ]
  },
  {
   "cell_type": "markdown",
   "metadata": {},
   "source": [
    "### Усреднение: DBA"
   ]
  },
  {
   "cell_type": "code",
   "execution_count": 12,
   "metadata": {},
   "outputs": [
    {
     "name": "stdout",
     "output_type": "stream",
     "text": [
      "\n",
      "Distance: 1\n",
      "item:   0 | 0.566 +- 0.041| 21.786 +- 0.008 \n",
      "item:   1 | 0.571 +- 0.025| 21.750 +- 0.006 \n",
      "item:   2 | 0.367 +- 0.007| 22.064 +- 0.035 \n",
      "item:   3 | 0.650 +- 0.007| 21.843 +- 0.459 \n",
      "0.538+-0.106 21.861+-0.203520\n",
      "\n",
      "Distance: 2\n",
      "item:   0 | 0.541 +- 0.040| 20.994 +- 0.322 \n",
      "item:   1 | 0.563 +- 0.014| 20.944 +- 0.071 \n",
      "item:   2 | 0.456 +- 0.026| 21.076 +- 0.228 \n",
      "item:   3 | 0.646 +- 0.002| 21.207 +- 0.011 \n",
      "0.552+-0.070 21.055+-0.172974\n",
      "\n",
      "Distance: 3\n",
      "item:   0 | 0.377 +- 0.101| 30.194 +- 0.205 \n",
      "item:   1 | 0.389 +- 0.072| 30.504 +- 0.020 \n",
      "item:   2 | 0.297 +- 0.192| 30.279 +- 0.403 \n",
      "item:   3 | 0.353 +- 0.117| 30.264 +- 0.120 \n",
      "0.354+-0.097 30.310+-0.202325\n"
     ]
    }
   ],
   "source": [
    "search_subsequence.experiment(\n",
    "    metrics, True, base_dir, n_samples, n_repeat,\n",
    "    closest_series_num, subseq_len, true_subseq_len, warp_window, optimize=False)"
   ]
  },
  {
   "cell_type": "markdown",
   "metadata": {},
   "source": [
    "### Усреднение: mean"
   ]
  },
  {
   "cell_type": "code",
   "execution_count": 13,
   "metadata": {},
   "outputs": [
    {
     "name": "stdout",
     "output_type": "stream",
     "text": [
      "\n",
      "Distance: 1\n",
      "item:   0 | 0.515 +- 0.015| 22.239 +- 0.222 \n",
      "item:   1 | 0.396 +- 0.082| 21.970 +- 0.055 \n",
      "item:   2 | 0.526 +- 0.043| 22.033 +- 0.023 \n",
      "item:   3 | 0.509 +- 0.161| 21.714 +- 0.090 \n",
      "0.487+-0.084 21.989+-0.206753\n",
      "\n",
      "Distance: 2\n",
      "item:   0 | 0.464 +- 0.002| 21.436 +- 0.184 \n",
      "item:   1 | 0.364 +- 0.088| 21.188 +- 0.023 \n",
      "item:   2 | 0.541 +- 0.051| 21.305 +- 0.092 \n",
      "item:   3 | 0.529 +- 0.156| 20.905 +- 0.047 \n",
      "0.475+-0.096 21.209+-0.209817\n",
      "\n",
      "Distance: 3\n",
      "item:   0 | 0.305 +- 0.081| 30.647 +- 0.375 \n",
      "item:   1 | 0.223 +- 0.045| 30.206 +- 0.181 \n",
      "item:   2 | 0.245 +- 0.098| 30.444 +- 0.394 \n",
      "item:   3 | 0.313 +- 0.002| 30.241 +- 0.020 \n",
      "0.272+-0.061 30.384+-0.268962\n"
     ]
    }
   ],
   "source": [
    "search_subsequence.experiment(\n",
    "    metrics, False, base_dir, n_samples, n_repeat,\n",
    "    closest_series_num, subseq_len, true_subseq_len, warp_window, optimize=False)"
   ]
  },
  {
   "cell_type": "code",
   "execution_count": null,
   "metadata": {},
   "outputs": [],
   "source": []
  }
 ],
 "metadata": {
  "kernelspec": {
   "display_name": "dtw",
   "language": "python",
   "name": "dtw"
  },
  "language_info": {
   "codemirror_mode": {
    "name": "ipython",
    "version": 3
   },
   "file_extension": ".py",
   "mimetype": "text/x-python",
   "name": "python",
   "nbconvert_exporter": "python",
   "pygments_lexer": "ipython3",
   "version": "3.7.4"
  }
 },
 "nbformat": 4,
 "nbformat_minor": 4
}
