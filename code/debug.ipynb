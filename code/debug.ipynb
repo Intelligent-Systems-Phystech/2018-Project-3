{
 "cells": [
  {
   "cell_type": "code",
   "execution_count": 1,
   "metadata": {},
   "outputs": [],
   "source": [
    "import re\n",
    "import numpy as np\n",
    "import pandas as pd\n",
    "import subprocess\n",
    "\n",
    "from matplotlib import pyplot as plt\n",
    "from scipy.io import arff\n",
    "from scipy.stats import zscore\n",
    "\n",
    "from DBA_multivariate import performDBA"
   ]
  },
  {
   "cell_type": "code",
   "execution_count": 28,
   "metadata": {},
   "outputs": [],
   "source": [
    "random_state = np.random.RandomState(42)\n",
    "\n",
    "data1 = pd.DataFrame(arff.loadarff(\"../data/MultivariateTSCProblems/CharacterTrajectories/CharacterTrajectoriesDimension1_TRAIN.arff\")[0])\n",
    "data2 = pd.DataFrame(arff.loadarff(\"../data/MultivariateTSCProblems/CharacterTrajectories/CharacterTrajectoriesDimension2_TRAIN.arff\")[0])\n",
    "data3 = pd.DataFrame(arff.loadarff(\"../data/MultivariateTSCProblems/CharacterTrajectories/CharacterTrajectoriesDimension3_TRAIN.arff\")[0])\n",
    "\n",
    "data = [data1, data2, data3]\n",
    "for d in data:\n",
    "    d.iloc[:, -1] = d.iloc[:, -1].astype(np.int)"
   ]
  },
  {
   "cell_type": "code",
   "execution_count": 30,
   "metadata": {},
   "outputs": [
    {
     "data": {
      "text/plain": [
       "(3, 182)"
      ]
     },
     "execution_count": 30,
     "metadata": {},
     "output_type": "execute_result"
    }
   ],
   "source": [
    "np.vstack([dim.iloc[idx, :-1].values for dim in data]).shape"
   ]
  },
  {
   "cell_type": "code",
   "execution_count": 3,
   "metadata": {},
   "outputs": [],
   "source": [
    "labels = data[0].iloc[:, -1].unique()\n",
    "example_idxs = [data1[data1.iloc[:, -1] == label].sample(12, random_state=random_state).index for label in labels]\n",
    "\n",
    "examples = []\n",
    "for label_id, label in enumerate(labels):\n",
    "    examples.append([zscore(np.vstack([dim.iloc[idx, :-1].values for dim in data]), 1) for idx in example_idxs[label_id]])\n",
    "    \n",
    "for idx, d in enumerate(data):\n",
    "    data[idx] = d[~d.index.isin(np.concatenate(example_idxs))].reset_index(drop=True)"
   ]
  },
  {
   "cell_type": "code",
   "execution_count": 48,
   "metadata": {},
   "outputs": [],
   "source": [
    "idxs = data[0].sample(frac=1, random_state=random_state).index\n",
    "keys = data[0].iloc[idxs, -1]\n",
    "for idx, d in enumerate(data):\n",
    "    data[idx] = d.iloc[idxs, :-1]\n",
    "\n",
    "timeseries = zscore(np.vstack([zscore(d.values, 1).reshape(1, -1).squeeze() for d in data]), 1)\n",
    "keys = pd.DataFrame({\"start\": [data[0].shape[1] * i for i in range(len(keys))], \"labels\": keys.values})"
   ]
  },
  {
   "cell_type": "code",
   "execution_count": 5,
   "metadata": {},
   "outputs": [],
   "source": [
    "np.savetxt(\"../data/search_subseries/character/tmp.csv\", timeseries[:, keys[keys.labels==13].iloc[0, 0] : keys[keys.labels==13].iloc[0, 0] + 182])\n",
    "averaged = list(map(lambda x: np.average(x, axis=0), examples))\n",
    "for idx, example in enumerate(averaged):\n",
    "    np.savetxt(\"../data/search_subseries/character/averaged_{0}.csv\".format(idx + 1), example.T)"
   ]
  },
  {
   "cell_type": "code",
   "execution_count": null,
   "metadata": {},
   "outputs": [],
   "source": [
    "dba_averaged_examples = list(map(performDBA, examples))"
   ]
  },
  {
   "cell_type": "code",
   "execution_count": 25,
   "metadata": {},
   "outputs": [],
   "source": [
    "np.savetxt(\"../data/search_subseries/character/character_trajectories.csv\", timeseries.T)\n",
    "keys.to_csv(\"../data/search_subseries/character/character_trajectories_labels.csv\")\n",
    "\n",
    "for idx, example in enumerate(dba_averaged_examples):\n",
    "    np.savetxt(\"../data/search_subseries/character/averaged_{0}.csv\".format(idx + 1), example.T)"
   ]
  },
  {
   "cell_type": "code",
   "execution_count": 44,
   "metadata": {},
   "outputs": [
    {
     "data": {
      "text/plain": [
       "[<matplotlib.lines.Line2D at 0x217d03ae978>]"
      ]
     },
     "execution_count": 44,
     "metadata": {},
     "output_type": "execute_result"
    },
    {
     "data": {
      "image/png": "[encoded data removed]",
      "text/plain": [
       "<Figure size 432x288 with 1 Axes>"
      ]
     },
     "metadata": {
      "needs_background": "light"
     },
     "output_type": "display_data"
    }
   ],
   "source": [
    "series = [timeseries[:, start:start + 182].T for start in keys[keys.labels == 4].sample(4).start.values]\n",
    "plt.plot(series[0][:, 1], color=\"black\")\n",
    "plt.plot(series[1][:, 1], color=\"black\")\n",
    "plt.plot(series[2][:, 1], color=\"black\")\n",
    "\n",
    "plt.plot(averaged[4][1].T,color=\"r\")"
   ]
  },
  {
   "cell_type": "markdown",
   "metadata": {},
   "source": [
    "# UCR"
   ]
  },
  {
   "cell_type": "code",
   "execution_count": 54,
   "metadata": {},
   "outputs": [],
   "source": [
    "warp_window = 0.1\n",
    "subseq_len = 100\n",
    "closest_series_num = 80\n",
    "\n",
    "command = [r\"bin/UCR_MDTW.exe\", \"../data/search_subseries/character/character_trajectories.csv\", \"../data/search_subseries/character/averaged_20.csv\",\n",
    "           str(subseq_len), str(warp_window), str(closest_series_num)]"
   ]
  },
  {
   "cell_type": "code",
   "execution_count": 55,
   "metadata": {},
   "outputs": [],
   "source": [
    "stdout = subprocess.check_output(command).decode()\n",
    "regexp = \\\n",
    "       r\"\\r\\nLocation\\s+:\\s+(?P<location>\\w+)\\r\\n\" + \\\n",
    "        \"Distance\\s+:\\s+(\\d+\\.\\d+)\\r\\n\" + \\\n",
    "        \"Data Scanned\\s+:\\s+(\\w+)\\r\\n\" + \\\n",
    "        \"Total Execution Time\\s+:\\s+(\\d+\\.\\d+) sec\\r\\n\\r\\n\" + \\\n",
    "        \"Pruned by LB_Kim\\s+:\\s+(\\d+\\.\\d+)%\\r\\n\" + \\\n",
    "        \"Pruned by LB_Keogh\\s+:\\s+(\\d+\\.\\d+)%\\r\\n\" + \\\n",
    "        \"Pruned by LB_Keogh2\\s+:\\s+(\\d+\\.\\d+)%\\r\\n\" + \\\n",
    "        \"DTW Calculation\\s+:\\s+(\\d+\\.\\d+)%\\r\\n\" + \\\n",
    "        \"\\r\\nlocate\\s+dist\\r\\n----------------\\r\\n\" + \\\n",
    "        closest_series_num * \"(\\d+)\\s+(\\d+\\.\\d+)\\r\\n\"\n",
    "\n",
    "closest = {}\n",
    "m_result = re.match(regexp, stdout)\n",
    "if m_result:\n",
    "    location, distance = m_result.groups()[:2]\n",
    "    location = int(location)\n",
    "    distance = float(distance)\n",
    "    for loc, dist in zip(*[iter(m_result.groups()[8:])] * 2):\n",
    "        closest[int(loc)] = float(dist)\n",
    "\n",
    "# print(stdout)"
   ]
  },
  {
   "cell_type": "code",
   "execution_count": 58,
   "metadata": {},
   "outputs": [],
   "source": [
    "tr = 0\n",
    "for key in closest:\n",
    "    tmp = keys[(keys.start > key - 100) & (keys.start < key + 100)]\n",
    "#     print(key, tmp.start.values, tmp.labels.values)\n",
    "    tr += sum(tmp.labels.values == 20)"
   ]
  },
  {
   "cell_type": "code",
   "execution_count": 7,
   "metadata": {},
   "outputs": [],
   "source": [
    "x = np.loadtxt(\"../data/search_subseries/character/character_trajectories.csv\")\n",
    "y = np.loadtxt(\"../data/search_subseries/character/averaged_1.csv\")"
   ]
  },
  {
   "cell_type": "code",
   "execution_count": 13,
   "metadata": {},
   "outputs": [
    {
     "data": {
      "image/png": "[encoded data removed]",
      "text/plain": [
       "<Figure size 432x288 with 2 Axes>"
      ]
     },
     "metadata": {
      "needs_background": "light"
     },
     "output_type": "display_data"
    }
   ],
   "source": [
    "_ = plt.subplot(2, 1, 1).plot(x[182: 182 + 182])\n",
    "_ = plt.subplot(2, 1, 2).plot(y)"
   ]
  },
  {
   "cell_type": "code",
   "execution_count": 61,
   "metadata": {},
   "outputs": [
    {
     "data": {
      "text/plain": [
       "(array([ 1,  2,  3,  4,  5,  6,  7,  8,  9, 10, 11, 12, 13, 14, 15, 16, 17,\n",
       "        18, 19, 20]),\n",
       " array([73, 58, 59, 66, 81, 57, 51, 75, 50, 53, 58, 53, 50, 47, 54, 53, 65,\n",
       "        50, 56, 73], dtype=int64))"
      ]
     },
     "execution_count": 61,
     "metadata": {},
     "output_type": "execute_result"
    }
   ],
   "source": [
    "np.unique(keys.labels, return_counts=True)"
   ]
  },
  {
   "cell_type": "markdown",
   "metadata": {},
   "source": [
    "# EPI"
   ]
  },
  {
   "cell_type": "code",
   "execution_count": 2,
   "metadata": {},
   "outputs": [],
   "source": [
    "random_state = np.random.RandomState(42)\n",
    "\n",
    "data_test_1 = pd.DataFrame(arff.loadarff(\"../data/MultivariateTSCProblems/Epilepsy/EpilepsyDimension1_TEST.arff\")[0])\n",
    "data_test_2 = pd.DataFrame(arff.loadarff(\"../data/MultivariateTSCProblems/Epilepsy/EpilepsyDimension2_TEST.arff\")[0])\n",
    "data_test_3 = pd.DataFrame(arff.loadarff(\"../data/MultivariateTSCProblems/Epilepsy/EpilepsyDimension2_TEST.arff\")[0])\n",
    "\n",
    "data_train_1 = pd.DataFrame(arff.loadarff(\"../data/MultivariateTSCProblems/Epilepsy/EpilepsyDimension1_TRAIN.arff\")[0])\n",
    "data_train_2 = pd.DataFrame(arff.loadarff(\"../data/MultivariateTSCProblems/Epilepsy/EpilepsyDimension2_TRAIN.arff\")[0])\n",
    "data_train_3 = pd.DataFrame(arff.loadarff(\"../data/MultivariateTSCProblems/Epilepsy/EpilepsyDimension2_TRAIN.arff\")[0])\n",
    "\n",
    "data1 = pd.concat([data_test_1, data_train_1])\n",
    "data2 = pd.concat([data_test_2, data_train_2])\n",
    "data3 = pd.concat([data_test_3, data_train_3])\n",
    "\n",
    "data = [data1, data2, data3]"
   ]
  },
  {
   "cell_type": "code",
   "execution_count": 3,
   "metadata": {},
   "outputs": [],
   "source": [
    "labels = data[0].iloc[:, -1].unique()\n",
    "example_idxs = [data1[data1.iloc[:, -1] == label].sample(12, random_state=random_state).index for label in labels]\n",
    "\n",
    "examples = []\n",
    "for label_id, label in enumerate(labels):\n",
    "    examples.append([zscore(np.vstack([dim.iloc[idx, :-1].values.astype(np.float64) for dim in data]), 1) for idx in example_idxs[label_id]])\n",
    "    \n",
    "for idx, d in enumerate(data):\n",
    "    data[idx] = d[~d.index.isin(np.concatenate(example_idxs))].reset_index(drop=True)\n",
    "    \n",
    "idxs = data[0].sample(frac=1, random_state=random_state).index\n",
    "keys = data[0].iloc[idxs, -1]\n",
    "for idx, d in enumerate(data):\n",
    "    data[idx] = d.iloc[idxs, :-1]\n",
    "\n",
    "timeseries = zscore(np.vstack([zscore(d.values, 1).reshape(1, -1).squeeze() for d in data]), 1)\n",
    "keys = pd.DataFrame({\"start\": [data[0].shape[1] * i for i in range(len(keys))], \"labels\": keys.values})"
   ]
  },
  {
   "cell_type": "code",
   "execution_count": 4,
   "metadata": {},
   "outputs": [],
   "source": [
    "labels_dict = {label : i + 1 for i, label in enumerate(labels)}\n",
    "keys.iloc[:, -1] = keys.iloc[:, -1].replace(labels_dict)\n",
    "np.savetxt(\"../data/search_subseries/epi.csv\", timeseries.T)\n",
    "keys.to_csv(\"../data/search_subseries/epi_labels.csv\")\n",
    "\n",
    "dba_averaged_examples = list(map(performDBA, examples))\n",
    "for idx, example in enumerate(dba_averaged_examples):\n",
    "    np.savetxt(\"../data/search_subseries/dba_averaged_{0}.csv\".format(idx + 1), example.T)\n",
    "    \n",
    "averaged = list(map(lambda x: np.average(x, axis=0), examples))\n",
    "for idx, example in enumerate(dba_averaged_examples):\n",
    "    np.savetxt(\"../data/search_subseries/averaged_{0}.csv\".format(idx + 1), example.T)"
   ]
  },
  {
   "cell_type": "code",
   "execution_count": 5,
   "metadata": {},
   "outputs": [
    {
     "data": {
      "text/plain": [
       "array([b'EPILEPSY', b'WALKING', b'RUNNING', b'SAWING'], dtype=object)"
      ]
     },
     "execution_count": 5,
     "metadata": {},
     "output_type": "execute_result"
    }
   ],
   "source": [
    "labels"
   ]
  },
  {
   "cell_type": "code",
   "execution_count": null,
   "metadata": {},
   "outputs": [],
   "source": []
  },
  {
   "cell_type": "code",
   "execution_count": null,
   "metadata": {},
   "outputs": [],
   "source": []
  },
  {
   "cell_type": "code",
   "execution_count": null,
   "metadata": {},
   "outputs": [],
   "source": []
  },
  {
   "cell_type": "code",
   "execution_count": 1,
   "metadata": {},
   "outputs": [],
   "source": [
    "import pandas as pd\n",
    "import numpy as np\n",
    "import matplotlib.pyplot as plt\n",
    "import subprocess\n",
    "import os\n",
    "%load_ext autoreload\n",
    "%autoreload 2\n",
    "\n",
    "from time import sleep, time\n",
    "from threading import Thread\n",
    "from scipy.cluster.hierarchy import fcluster\n",
    "from scipy.stats import zscore\n",
    "\n",
    "from testing import TestFactory, ClusteredInfo\n",
    "from dtw import dtw as cur_dtw\n",
    "from dtw_wrapper import DtwWrapper\n",
    "\n",
    "from IPython.display import Markdown\n",
    "from tqdm import tqdm, tqdm_notebook\n",
    "\n",
    "from mpl_toolkits import mplot3d"
   ]
  },
  {
   "cell_type": "code",
   "execution_count": 2,
   "metadata": {},
   "outputs": [],
   "source": [
    "def norm_1(x, y):\n",
    "    return np.linalg.norm(x - y, ord=1)\n",
    "def norm_2(x, y):\n",
    "    return np.linalg.norm(x - y, ord=2)\n",
    "def f(x, y, z_normalize):\n",
    "    return 100000000"
   ]
  },
  {
   "cell_type": "code",
   "execution_count": 17,
   "metadata": {},
   "outputs": [],
   "source": [
    "tests = TestFactory(random_state=i)\n",
    "x = tests.set_sample(100)\n",
    "EXE = \"./bin/MDTW_pairwise.exe\"\n",
    "path = \"../data/clustering/to_compute/akselerometr_{0}.csv\".format(i)\n",
    "np.savetxt(path, np.concatenate(x[0]))\n",
    "command = [EXE, path, \"3\", \"0\", \"200\", \"10\"]\n",
    "try:\n",
    "    stdout = subprocess.check_output(command).decode()\n",
    "except subprocess.CalledProcessError as e:\n",
    "    print(e.output)"
   ]
  },
  {
   "cell_type": "code",
   "execution_count": 49,
   "metadata": {},
   "outputs": [],
   "source": []
  },
  {
   "cell_type": "code",
   "execution_count": 3,
   "metadata": {},
   "outputs": [
    {
     "data": {
      "text/html": [
       "<div>\n",
       "<style scoped>\n",
       "    .dataframe tbody tr th:only-of-type {\n",
       "        vertical-align: middle;\n",
       "    }\n",
       "\n",
       "    .dataframe tbody tr th {\n",
       "        vertical-align: top;\n",
       "    }\n",
       "\n",
       "    .dataframe thead th {\n",
       "        text-align: right;\n",
       "    }\n",
       "</style>\n",
       "<table border=\"1\" class=\"dataframe\">\n",
       "  <thead>\n",
       "    <tr style=\"text-align: right;\">\n",
       "      <th></th>\n",
       "      <th>obj</th>\n",
       "      <th>ch</th>\n",
       "      <th>label</th>\n",
       "      <th>0</th>\n",
       "      <th>1</th>\n",
       "      <th>2</th>\n",
       "      <th>3</th>\n",
       "      <th>4</th>\n",
       "      <th>5</th>\n",
       "      <th>6</th>\n",
       "      <th>...</th>\n",
       "      <th>190</th>\n",
       "      <th>191</th>\n",
       "      <th>192</th>\n",
       "      <th>193</th>\n",
       "      <th>194</th>\n",
       "      <th>195</th>\n",
       "      <th>196</th>\n",
       "      <th>197</th>\n",
       "      <th>198</th>\n",
       "      <th>199</th>\n",
       "    </tr>\n",
       "  </thead>\n",
       "  <tbody>\n",
       "    <tr>\n",
       "      <td>0</td>\n",
       "      <td>0</td>\n",
       "      <td>0</td>\n",
       "      <td>0</td>\n",
       "      <td>0.000000</td>\n",
       "      <td>0.525208</td>\n",
       "      <td>0.373001</td>\n",
       "      <td>0.430847</td>\n",
       "      <td>0.217880</td>\n",
       "      <td>0.169601</td>\n",
       "      <td>0.542572</td>\n",
       "      <td>...</td>\n",
       "      <td>0.738464</td>\n",
       "      <td>0.553284</td>\n",
       "      <td>0.290298</td>\n",
       "      <td>0.615524</td>\n",
       "      <td>1.338135</td>\n",
       "      <td>1.047348</td>\n",
       "      <td>0.483368</td>\n",
       "      <td>0.616302</td>\n",
       "      <td>1.083206</td>\n",
       "      <td>1.053177</td>\n",
       "    </tr>\n",
       "    <tr>\n",
       "      <td>1</td>\n",
       "      <td>0</td>\n",
       "      <td>1</td>\n",
       "      <td>0</td>\n",
       "      <td>1.000000</td>\n",
       "      <td>0.584137</td>\n",
       "      <td>0.577896</td>\n",
       "      <td>0.844421</td>\n",
       "      <td>1.111359</td>\n",
       "      <td>0.977951</td>\n",
       "      <td>0.858307</td>\n",
       "      <td>...</td>\n",
       "      <td>1.047699</td>\n",
       "      <td>1.290558</td>\n",
       "      <td>1.499283</td>\n",
       "      <td>1.337036</td>\n",
       "      <td>0.795486</td>\n",
       "      <td>0.358521</td>\n",
       "      <td>0.363220</td>\n",
       "      <td>0.544449</td>\n",
       "      <td>0.715500</td>\n",
       "      <td>0.664841</td>\n",
       "    </tr>\n",
       "    <tr>\n",
       "      <td>2</td>\n",
       "      <td>0</td>\n",
       "      <td>2</td>\n",
       "      <td>0</td>\n",
       "      <td>2.000000</td>\n",
       "      <td>-0.381042</td>\n",
       "      <td>-0.201477</td>\n",
       "      <td>0.284988</td>\n",
       "      <td>0.381912</td>\n",
       "      <td>0.148376</td>\n",
       "      <td>-0.582596</td>\n",
       "      <td>...</td>\n",
       "      <td>0.288986</td>\n",
       "      <td>0.650238</td>\n",
       "      <td>0.742981</td>\n",
       "      <td>0.225296</td>\n",
       "      <td>-0.820282</td>\n",
       "      <td>-0.419403</td>\n",
       "      <td>0.763748</td>\n",
       "      <td>0.555038</td>\n",
       "      <td>-0.208450</td>\n",
       "      <td>-0.307114</td>\n",
       "    </tr>\n",
       "    <tr>\n",
       "      <td>3</td>\n",
       "      <td>1</td>\n",
       "      <td>0</td>\n",
       "      <td>0</td>\n",
       "      <td>1.132126</td>\n",
       "      <td>1.004105</td>\n",
       "      <td>0.838028</td>\n",
       "      <td>0.768753</td>\n",
       "      <td>0.556107</td>\n",
       "      <td>0.506912</td>\n",
       "      <td>0.463425</td>\n",
       "      <td>...</td>\n",
       "      <td>0.638367</td>\n",
       "      <td>0.724243</td>\n",
       "      <td>0.548325</td>\n",
       "      <td>0.345505</td>\n",
       "      <td>0.244415</td>\n",
       "      <td>0.201691</td>\n",
       "      <td>0.317703</td>\n",
       "      <td>0.561539</td>\n",
       "      <td>1.124039</td>\n",
       "      <td>1.561935</td>\n",
       "    </tr>\n",
       "    <tr>\n",
       "      <td>4</td>\n",
       "      <td>1</td>\n",
       "      <td>1</td>\n",
       "      <td>0</td>\n",
       "      <td>0.753891</td>\n",
       "      <td>0.807938</td>\n",
       "      <td>0.599030</td>\n",
       "      <td>0.549210</td>\n",
       "      <td>0.496582</td>\n",
       "      <td>0.579681</td>\n",
       "      <td>0.460632</td>\n",
       "      <td>...</td>\n",
       "      <td>0.763168</td>\n",
       "      <td>0.658142</td>\n",
       "      <td>0.665390</td>\n",
       "      <td>0.691727</td>\n",
       "      <td>0.719788</td>\n",
       "      <td>0.727386</td>\n",
       "      <td>0.795349</td>\n",
       "      <td>0.752319</td>\n",
       "      <td>0.718246</td>\n",
       "      <td>0.957657</td>\n",
       "    </tr>\n",
       "    <tr>\n",
       "      <td>...</td>\n",
       "      <td>...</td>\n",
       "      <td>...</td>\n",
       "      <td>...</td>\n",
       "      <td>...</td>\n",
       "      <td>...</td>\n",
       "      <td>...</td>\n",
       "      <td>...</td>\n",
       "      <td>...</td>\n",
       "      <td>...</td>\n",
       "      <td>...</td>\n",
       "      <td>...</td>\n",
       "      <td>...</td>\n",
       "      <td>...</td>\n",
       "      <td>...</td>\n",
       "      <td>...</td>\n",
       "      <td>...</td>\n",
       "      <td>...</td>\n",
       "      <td>...</td>\n",
       "      <td>...</td>\n",
       "      <td>...</td>\n",
       "      <td>...</td>\n",
       "    </tr>\n",
       "    <tr>\n",
       "      <td>20965</td>\n",
       "      <td>6988</td>\n",
       "      <td>1</td>\n",
       "      <td>5</td>\n",
       "      <td>1.212265</td>\n",
       "      <td>1.325241</td>\n",
       "      <td>1.092178</td>\n",
       "      <td>0.982117</td>\n",
       "      <td>1.002289</td>\n",
       "      <td>0.783340</td>\n",
       "      <td>0.753830</td>\n",
       "      <td>...</td>\n",
       "      <td>1.154465</td>\n",
       "      <td>1.153900</td>\n",
       "      <td>1.202148</td>\n",
       "      <td>1.293671</td>\n",
       "      <td>1.343979</td>\n",
       "      <td>1.478287</td>\n",
       "      <td>1.530426</td>\n",
       "      <td>1.465210</td>\n",
       "      <td>1.487961</td>\n",
       "      <td>1.894318</td>\n",
       "    </tr>\n",
       "    <tr>\n",
       "      <td>20966</td>\n",
       "      <td>6988</td>\n",
       "      <td>2</td>\n",
       "      <td>5</td>\n",
       "      <td>0.467651</td>\n",
       "      <td>0.138840</td>\n",
       "      <td>-0.035309</td>\n",
       "      <td>0.075333</td>\n",
       "      <td>0.060440</td>\n",
       "      <td>0.077179</td>\n",
       "      <td>-0.008881</td>\n",
       "      <td>...</td>\n",
       "      <td>0.021164</td>\n",
       "      <td>0.208450</td>\n",
       "      <td>0.239563</td>\n",
       "      <td>-0.010620</td>\n",
       "      <td>-0.392502</td>\n",
       "      <td>-0.334488</td>\n",
       "      <td>-0.406952</td>\n",
       "      <td>-0.285751</td>\n",
       "      <td>0.006424</td>\n",
       "      <td>0.390884</td>\n",
       "    </tr>\n",
       "    <tr>\n",
       "      <td>20967</td>\n",
       "      <td>6989</td>\n",
       "      <td>0</td>\n",
       "      <td>5</td>\n",
       "      <td>-0.857025</td>\n",
       "      <td>-0.368439</td>\n",
       "      <td>-0.031906</td>\n",
       "      <td>0.095749</td>\n",
       "      <td>0.246902</td>\n",
       "      <td>0.290710</td>\n",
       "      <td>0.267670</td>\n",
       "      <td>...</td>\n",
       "      <td>0.044571</td>\n",
       "      <td>0.589050</td>\n",
       "      <td>1.485733</td>\n",
       "      <td>0.685928</td>\n",
       "      <td>-0.100876</td>\n",
       "      <td>-0.750992</td>\n",
       "      <td>-0.617416</td>\n",
       "      <td>-0.052994</td>\n",
       "      <td>0.731262</td>\n",
       "      <td>0.177795</td>\n",
       "    </tr>\n",
       "    <tr>\n",
       "      <td>20968</td>\n",
       "      <td>6989</td>\n",
       "      <td>1</td>\n",
       "      <td>5</td>\n",
       "      <td>1.970184</td>\n",
       "      <td>1.428238</td>\n",
       "      <td>1.177444</td>\n",
       "      <td>1.160934</td>\n",
       "      <td>1.028503</td>\n",
       "      <td>0.851151</td>\n",
       "      <td>1.078369</td>\n",
       "      <td>...</td>\n",
       "      <td>1.787292</td>\n",
       "      <td>3.099777</td>\n",
       "      <td>2.167496</td>\n",
       "      <td>0.935028</td>\n",
       "      <td>0.681412</td>\n",
       "      <td>0.889160</td>\n",
       "      <td>0.905762</td>\n",
       "      <td>1.611435</td>\n",
       "      <td>1.390900</td>\n",
       "      <td>1.107391</td>\n",
       "    </tr>\n",
       "    <tr>\n",
       "      <td>20969</td>\n",
       "      <td>6989</td>\n",
       "      <td>2</td>\n",
       "      <td>5</td>\n",
       "      <td>0.876724</td>\n",
       "      <td>0.449417</td>\n",
       "      <td>0.152496</td>\n",
       "      <td>-0.021271</td>\n",
       "      <td>-0.136810</td>\n",
       "      <td>-0.079086</td>\n",
       "      <td>0.066025</td>\n",
       "      <td>...</td>\n",
       "      <td>-1.481812</td>\n",
       "      <td>-1.736374</td>\n",
       "      <td>-0.997299</td>\n",
       "      <td>-0.736618</td>\n",
       "      <td>-0.353394</td>\n",
       "      <td>0.018173</td>\n",
       "      <td>0.062744</td>\n",
       "      <td>-0.215118</td>\n",
       "      <td>0.513947</td>\n",
       "      <td>-0.102432</td>\n",
       "    </tr>\n",
       "  </tbody>\n",
       "</table>\n",
       "<p>20970 rows × 203 columns</p>\n",
       "</div>"
      ],
      "text/plain": [
       "        obj  ch  label         0         1         2         3         4  \\\n",
       "0         0   0      0  0.000000  0.525208  0.373001  0.430847  0.217880   \n",
       "1         0   1      0  1.000000  0.584137  0.577896  0.844421  1.111359   \n",
       "2         0   2      0  2.000000 -0.381042 -0.201477  0.284988  0.381912   \n",
       "3         1   0      0  1.132126  1.004105  0.838028  0.768753  0.556107   \n",
       "4         1   1      0  0.753891  0.807938  0.599030  0.549210  0.496582   \n",
       "...     ...  ..    ...       ...       ...       ...       ...       ...   \n",
       "20965  6988   1      5  1.212265  1.325241  1.092178  0.982117  1.002289   \n",
       "20966  6988   2      5  0.467651  0.138840 -0.035309  0.075333  0.060440   \n",
       "20967  6989   0      5 -0.857025 -0.368439 -0.031906  0.095749  0.246902   \n",
       "20968  6989   1      5  1.970184  1.428238  1.177444  1.160934  1.028503   \n",
       "20969  6989   2      5  0.876724  0.449417  0.152496 -0.021271 -0.136810   \n",
       "\n",
       "              5         6  ...       190       191       192       193  \\\n",
       "0      0.169601  0.542572  ...  0.738464  0.553284  0.290298  0.615524   \n",
       "1      0.977951  0.858307  ...  1.047699  1.290558  1.499283  1.337036   \n",
       "2      0.148376 -0.582596  ...  0.288986  0.650238  0.742981  0.225296   \n",
       "3      0.506912  0.463425  ...  0.638367  0.724243  0.548325  0.345505   \n",
       "4      0.579681  0.460632  ...  0.763168  0.658142  0.665390  0.691727   \n",
       "...         ...       ...  ...       ...       ...       ...       ...   \n",
       "20965  0.783340  0.753830  ...  1.154465  1.153900  1.202148  1.293671   \n",
       "20966  0.077179 -0.008881  ...  0.021164  0.208450  0.239563 -0.010620   \n",
       "20967  0.290710  0.267670  ...  0.044571  0.589050  1.485733  0.685928   \n",
       "20968  0.851151  1.078369  ...  1.787292  3.099777  2.167496  0.935028   \n",
       "20969 -0.079086  0.066025  ... -1.481812 -1.736374 -0.997299 -0.736618   \n",
       "\n",
       "            194       195       196       197       198       199  \n",
       "0      1.338135  1.047348  0.483368  0.616302  1.083206  1.053177  \n",
       "1      0.795486  0.358521  0.363220  0.544449  0.715500  0.664841  \n",
       "2     -0.820282 -0.419403  0.763748  0.555038 -0.208450 -0.307114  \n",
       "3      0.244415  0.201691  0.317703  0.561539  1.124039  1.561935  \n",
       "4      0.719788  0.727386  0.795349  0.752319  0.718246  0.957657  \n",
       "...         ...       ...       ...       ...       ...       ...  \n",
       "20965  1.343979  1.478287  1.530426  1.465210  1.487961  1.894318  \n",
       "20966 -0.392502 -0.334488 -0.406952 -0.285751  0.006424  0.390884  \n",
       "20967 -0.100876 -0.750992 -0.617416 -0.052994  0.731262  0.177795  \n",
       "20968  0.681412  0.889160  0.905762  1.611435  1.390900  1.107391  \n",
       "20969 -0.353394  0.018173  0.062744 -0.215118  0.513947 -0.102432  \n",
       "\n",
       "[20970 rows x 203 columns]"
      ]
     },
     "execution_count": 3,
     "metadata": {},
     "output_type": "execute_result"
    }
   ],
   "source": [
    "pd.read_csv(\"../data/clustering/accelerometer2.csv\", index_col=0)"
   ]
  },
  {
   "cell_type": "code",
   "execution_count": 45,
   "metadata": {},
   "outputs": [],
   "source": [
    "def check(x):\n",
    "    return x[0] * x[1] == x[2]\n",
    "\n",
    "def check1(x):\n",
    "    x, y, z = x[0], x[1], x[2]\n",
    "    return y - z >= 0 and x - z >= 0 and -x -y + z + 1 >= 0 and z >= 0"
   ]
  },
  {
   "cell_type": "code",
   "execution_count": null,
   "metadata": {},
   "outputs": [],
   "source": []
  },
  {
   "cell_type": "code",
   "execution_count": 7,
   "metadata": {},
   "outputs": [
    {
     "name": "stdout",
     "output_type": "stream",
     "text": [
      "True\n",
      "True\n",
      "True\n",
      "True\n"
     ]
    }
   ],
   "source": [
    "a = [1, 1, 1]\n",
    "b = [0, 0, 0]\n",
    "c = [1, 0, 0]\n",
    "d = [0, 1, 0]\n",
    "points = [a, b, c, d]\n",
    "for point in points:\n",
    "    print(check(point))"
   ]
  },
  {
   "cell_type": "code",
   "execution_count": 15,
   "metadata": {},
   "outputs": [
    {
     "data": {
      "text/plain": [
       "[[1, 1, 1], [0, 0, 0], [1, 0, 0], [0, 1, 0]]"
      ]
     },
     "execution_count": 15,
     "metadata": {},
     "output_type": "execute_result"
    }
   ],
   "source": [
    "points"
   ]
  },
  {
   "cell_type": "code",
   "execution_count": 34,
   "metadata": {},
   "outputs": [
    {
     "name": "stdout",
     "output_type": "stream",
     "text": [
      "Singular matrix\n",
      "Singular matrix\n",
      "[ 1. -0. -0.]\n",
      "Singular matrix\n"
     ]
    }
   ],
   "source": [
    "from itertools import combinations, combinations_with_replacement, permutations, product\n",
    "\n",
    "for matrix in combinations(points, 3):\n",
    "    matrix = np.array(matrix)\n",
    "    try:\n",
    "        print(np.linalg.solve(matrix.T, np.repeat(1, 3)))\n",
    "    except Exception as e:\n",
    "        print(e)"
   ]
  },
  {
   "cell_type": "code",
   "execution_count": 17,
   "metadata": {},
   "outputs": [
    {
     "data": {
      "text/plain": [
       "array([[1, 1, 1],\n",
       "       [0, 0, 0],\n",
       "       [1, 0, 0]])"
      ]
     },
     "execution_count": 17,
     "metadata": {},
     "output_type": "execute_result"
    }
   ],
   "source": [
    "matrix"
   ]
  },
  {
   "cell_type": "code",
   "execution_count": 47,
   "metadata": {},
   "outputs": [
    {
     "name": "stdout",
     "output_type": "stream",
     "text": [
      "(0, 0, 0) True\n",
      "(0, 0, 1) True\n",
      "(0, 1, 0) True\n",
      "(0, 1, 1) True\n",
      "(1, 0, 0) True\n",
      "(1, 0, 1) True\n",
      "(1, 1, 0) True\n",
      "(1, 1, 1) True\n"
     ]
    }
   ],
   "source": [
    "for c in product(*[[0,1]] * 3):\n",
    "    print(c, check(c) == check1(c))"
   ]
  },
  {
   "cell_type": "code",
   "execution_count": null,
   "metadata": {},
   "outputs": [],
   "source": []
  }
 ],
 "metadata": {
  "kernelspec": {
   "display_name": "dtw",
   "language": "python",
   "name": "dtw"
  },
  "language_info": {
   "codemirror_mode": {
    "name": "ipython",
    "version": 3
   },
   "file_extension": ".py",
   "mimetype": "text/x-python",
   "name": "python",
   "nbconvert_exporter": "python",
   "pygments_lexer": "ipython3",
   "version": "3.7.4"
  }
 },
 "nbformat": 4,
 "nbformat_minor": 4
}
