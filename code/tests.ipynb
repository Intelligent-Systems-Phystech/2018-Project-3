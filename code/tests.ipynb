{
 "cells": [
  {
   "cell_type": "code",
   "execution_count": 1,
   "metadata": {},
   "outputs": [],
   "source": [
    "import dill\n",
    "import pandas as pd\n",
    "import numpy as np\n",
    "import matplotlib.pyplot as plt\n",
    "\n",
    "%load_ext autoreload\n",
    "%autoreload 2\n",
    "from dtw import dtw, dtw_ln, accelerated_dtw\n",
    "from improved_dtw import dtw_improved\n",
    "from fast_dtw import fastdtw\n",
    "from fast_dtw import dtw as dtw_from_fast_dtw\n",
    "from testing import TestFactory\n",
    "\n",
    "\n",
    "distance = lambda x, y: np.linalg.norm(x - y, ord=2)"
   ]
  },
  {
   "cell_type": "markdown",
   "metadata": {},
   "source": [
    "# Тестирование"
   ]
  },
  {
   "cell_type": "markdown",
   "metadata": {},
   "source": [
    "## $Len = 30$ "
   ]
  },
  {
   "cell_type": "code",
   "execution_count": 2,
   "metadata": {},
   "outputs": [],
   "source": [
    "params = {\n",
    "    \"nrow\": 100000,\n",
    "    \"window_size\": 10,\n",
    "    \"element_length\": 30,\n",
    "    \"path\": \"../data/Eye-Motion/ECoG.csv\",\n",
    "    \"overlap\": 0,\n",
    "    \"shuffle\": True,\n",
    "    \"sample_size\": 30,\n",
    "    \"chanel_num\": 32,\n",
    "    \"repeat_num\": 1\n",
    "}\n",
    "\n",
    "test_params = {\n",
    "    \"common_dtw_l=0.3\": [[dtw_ln, distance, \"common_dtw_l=0.3\"], {\"dump_result\": False, \"dtw_args\": {\"l\":0.3}}],\n",
    "    \"accelerated_dtw\": [[accelerated_dtw, distance, \"accelerated_dtw\"], {\"dump_result\": False}],\n",
    "#     \"common_dtw\": [[dtw, distance, \"accelerated_dtw\"], {\"dump_result\": True}],\n",
    "    \"fastdtw\": [[fastdtw, distance, \"fastdtw\"], {\"dump_result\": False}]\n",
    "}\n",
    "\n",
    "tests = TestFactory(random_state=42, params=params)\n",
    "X = tests.set_sample(5)"
   ]
  },
  {
   "cell_type": "code",
   "execution_count": 3,
   "metadata": {},
   "outputs": [
    {
     "name": "stdout",
     "output_type": "stream",
     "text": [
      "Elapsed time: 0.038\n",
      "Elapsed time: 0.061\n",
      "Elapsed time: 0.046\n"
     ]
    }
   ],
   "source": [
    "result_infos_1 = {}\n",
    "for key in test_params:\n",
    "    result_infos_1[key] = tests.test_dtw(*test_params[key][0], **test_params[key][1])\n",
    "    \n",
    "with open(\"../data/result_info_30\", 'wb') as f:\n",
    "    dill.dump(result_infos_1, f)"
   ]
  },
  {
   "cell_type": "markdown",
   "metadata": {},
   "source": [
    "## $Len = 50$"
   ]
  },
  {
   "cell_type": "code",
   "execution_count": 4,
   "metadata": {},
   "outputs": [],
   "source": [
    "params = {\n",
    "    \"nrow\": 100000,\n",
    "    \"window_size\": 10,\n",
    "    \"element_length\": 50,\n",
    "    \"path\": \"../data/Eye-Motion/ECoG.csv\",\n",
    "    \"overlap\": 0,\n",
    "    \"shuffle\": True,\n",
    "    \"sample_size\": 30,\n",
    "    \"chanel_num\": 32,\n",
    "    \"repeat_num\": 1\n",
    "}\n",
    "\n",
    "test_params = {\n",
    "    \"common_dtw_l=0.2\": [[dtw_ln, distance, \"common_dtw_l=0.3\"], {\"dump_result\": False, \"dtw_args\": {\"l\":0.2}}],\n",
    "    \"accelerated_dtw\": [[accelerated_dtw, distance, \"accelerated_dtw\"], {\"dump_result\": False}],\n",
    "#     \"common_dtw\": [[dtw, distance, \"accelerated_dtw\"], {\"dump_result\": True}],\n",
    "    \"fastdtw\": [[fastdtw, distance, \"fastdtw\"], {\"dump_result\": False}]\n",
    "}\n",
    "\n",
    "tests = TestFactory(random_state=42, params=params)\n",
    "X = tests.set_sample(5)"
   ]
  },
  {
   "cell_type": "code",
   "execution_count": 5,
   "metadata": {},
   "outputs": [
    {
     "name": "stdout",
     "output_type": "stream",
     "text": [
      "Elapsed time: 0.069\n",
      "Elapsed time: 0.211\n",
      "Elapsed time: 0.082\n"
     ]
    }
   ],
   "source": [
    "result_infos_2 = {}\n",
    "for key in test_params:\n",
    "    result_infos_2[key] = tests.test_dtw(*test_params[key][0], **test_params[key][1])\n",
    "    \n",
    "with open(\"../data/result_info_50\", 'wb') as f:\n",
    "    dill.dump(result_infos_2, f)"
   ]
  },
  {
   "cell_type": "markdown",
   "metadata": {},
   "source": [
    "## $Len = 100$"
   ]
  },
  {
   "cell_type": "code",
   "execution_count": 6,
   "metadata": {},
   "outputs": [],
   "source": [
    "params = {\n",
    "    \"nrow\": 100000,\n",
    "    \"window_size\": 10,\n",
    "    \"element_length\": 100,\n",
    "    \"path\": \"../data/Eye-Motion/ECoG.csv\",\n",
    "    \"overlap\": 0,\n",
    "    \"shuffle\": True,\n",
    "    \"sample_size\": 30,\n",
    "    \"chanel_num\": 32,\n",
    "    \"repeat_num\": 1\n",
    "}\n",
    "\n",
    "test_params = {\n",
    "    \"common_dtw_l=0.1\": [[dtw_ln, distance, \"common_dtw_l=0.1\"], {\"dump_result\": False, \"dtw_args\": {\"l\":0.1}}],\n",
    "    \"accelerated_dtw\": [[accelerated_dtw, distance, \"accelerated_dtw\"], {\"dump_result\": False}],\n",
    "#     \"common_dtw\": [[dtw, distance, \"accelerated_dtw\"], {\"dump_result\": True}],\n",
    "    \"fastdtw\": [[fastdtw, distance, \"fastdtw\"], {\"dump_result\": False}]\n",
    "}\n",
    "\n",
    "tests = TestFactory(random_state=42, params=params)\n",
    "X = tests.set_sample(15)"
   ]
  },
  {
   "cell_type": "code",
   "execution_count": 7,
   "metadata": {},
   "outputs": [
    {
     "name": "stdout",
     "output_type": "stream",
     "text": [
      "Elapsed time: 1.591\n",
      "Elapsed time: 7.966\n",
      "Elapsed time: 1.969\n"
     ]
    }
   ],
   "source": [
    "result_infos_3 = {}\n",
    "for key in test_params:\n",
    "    result_infos_3[key] = tests.test_dtw(*test_params[key][0], **test_params[key][1])\n",
    "    \n",
    "with open(\"../data/result_info_100\", 'wb') as f:\n",
    "    dill.dump(result_infos_3, f)"
   ]
  }
 ],
 "metadata": {
  "kernelspec": {
   "display_name": "Python 3",
   "language": "python",
   "name": "python3"
  },
  "language_info": {
   "codemirror_mode": {
    "name": "ipython",
    "version": 3
   },
   "file_extension": ".py",
   "mimetype": "text/x-python",
   "name": "python",
   "nbconvert_exporter": "python",
   "pygments_lexer": "ipython3",
   "version": "3.7.0"
  }
 },
 "nbformat": 4,
 "nbformat_minor": 2
}
