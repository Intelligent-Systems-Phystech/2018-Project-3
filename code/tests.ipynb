{
 "cells": [
  {
   "cell_type": "code",
   "execution_count": 1,
   "metadata": {},
   "outputs": [],
   "source": [
    "import dill\n",
    "import pandas as pd\n",
    "import numpy as np\n",
    "import matplotlib.pyplot as plt\n",
    "\n",
    "%load_ext autoreload\n",
    "%autoreload 2\n",
    "from dtw import dtw, dtw_ln, accelerated_dtw\n",
    "from improved_dtw import dtw_improved\n",
    "from fast_dtw import fastdtw\n",
    "from fast_dtw import dtw as dtw_from_fast_dtw\n",
    "from testing import TestFactory\n",
    "\n",
    "\n",
    "distance = lambda x, y: np.linalg.norm(x - y, ord=2)"
   ]
  },
  {
   "cell_type": "markdown",
   "metadata": {},
   "source": [
    "# Тестирование"
   ]
  },
  {
   "cell_type": "markdown",
   "metadata": {},
   "source": [
    "## $Len = 30$ "
   ]
  },
  {
   "cell_type": "code",
   "execution_count": 2,
   "metadata": {},
   "outputs": [],
   "source": [
    "params = {\n",
    "    \"nrow\": 100000,\n",
    "    \"window_size\": 10,\n",
    "    \"element_length\": 30,\n",
    "    \"path\": \"../data/Eye-Motion/ECoG.csv\",\n",
    "    \"overlap\": 0,\n",
    "    \"shuffle\": True,\n",
    "    \"sample_size\": 30,\n",
    "    \"chanel_num\": 32,\n",
    "    \"repeat_num\": 1\n",
    "}\n",
    "\n",
    "test_params = {\n",
    "    \"common_dtw_l=0.3\": [[dtw_ln, distance, \"common_dtw_l=0.3\"], {\"dump_result\": False, \"dtw_args\": {\"l\":0.3}}],\n",
    "    \"accelerated_dtw\": [[accelerated_dtw, distance, \"accelerated_dtw\"], {\"dump_result\": False}],\n",
    "#     \"common_dtw\": [[dtw, distance, \"accelerated_dtw\"], {\"dump_result\": True}],\n",
    "    \"fastdtw\": [[fastdtw, distance, \"fastdtw\"], {\"dump_result\": False}]\n",
    "}\n",
    "\n",
    "tests = TestFactory(random_state=42, params=params)\n",
    "X = tests.set_sample(500)"
   ]
  },
  {
   "cell_type": "code",
   "execution_count": 3,
   "metadata": {},
   "outputs": [
    {
     "name": "stdout",
     "output_type": "stream",
     "text": [
      "Elapsed time: 446.576\n",
      "Elapsed time: 757.414\n",
      "Elapsed time: 448.313\n"
     ]
    }
   ],
   "source": [
    "result_infos_1 = {}\n",
    "for key in test_params:\n",
    "    result_infos_1[key] = tests.test_dtw(*test_params[key][0], **test_params[key][1])\n",
    "    \n",
    "with open(\"../data/result_info_30\", 'wb') as f:\n",
    "    dill.dump(result_infos_1, f)"
   ]
  },
  {
   "cell_type": "markdown",
   "metadata": {},
   "source": [
    "## $Len = 50$"
   ]
  },
  {
   "cell_type": "code",
   "execution_count": 4,
   "metadata": {},
   "outputs": [],
   "source": [
    "params = {\n",
    "    \"nrow\": 100000,\n",
    "    \"window_size\": 10,\n",
    "    \"element_length\": 50,\n",
    "    \"path\": \"../data/Eye-Motion/ECoG.csv\",\n",
    "    \"overlap\": 0,\n",
    "    \"shuffle\": True,\n",
    "    \"sample_size\": 30,\n",
    "    \"chanel_num\": 32,\n",
    "    \"repeat_num\": 1\n",
    "}\n",
    "\n",
    "test_params = {\n",
    "    \"common_dtw_l=0.2\": [[dtw_ln, distance, \"common_dtw_l=0.3\"], {\"dump_result\": False, \"dtw_args\": {\"l\":0.2}}],\n",
    "    \"accelerated_dtw\": [[accelerated_dtw, distance, \"accelerated_dtw\"], {\"dump_result\": False}],\n",
    "#     \"common_dtw\": [[dtw, distance, \"accelerated_dtw\"], {\"dump_result\": True}],\n",
    "    \"fastdtw\": [[fastdtw, distance, \"fastdtw\"], {\"dump_result\": False}]\n",
    "}\n",
    "\n",
    "tests = TestFactory(random_state=42, params=params)\n",
    "X = tests.set_sample(500)"
   ]
  },
  {
   "cell_type": "code",
   "execution_count": 5,
   "metadata": {},
   "outputs": [
    {
     "name": "stdout",
     "output_type": "stream",
     "text": [
      "Elapsed time: 759.006\n",
      "Elapsed time: 1996.667\n",
      "Elapsed time: 829.565\n"
     ]
    }
   ],
   "source": [
    "result_infos_2 = {}\n",
    "for key in test_params:\n",
    "    result_infos_2[key] = tests.test_dtw(*test_params[key][0], **test_params[key][1])\n",
    "    \n",
    "with open(\"../data/result_info_50\", 'wb') as f:\n",
    "    dill.dump(result_infos_2, f)"
   ]
  },
  {
   "cell_type": "code",
   "execution_count": null,
   "metadata": {},
   "outputs": [],
   "source": []
  },
  {
   "cell_type": "markdown",
   "metadata": {},
   "source": [
    "## $Len = 100$"
   ]
  },
  {
   "cell_type": "code",
   "execution_count": 6,
   "metadata": {},
   "outputs": [],
   "source": [
    "params = {\n",
    "    \"nrow\": 100000,\n",
    "    \"window_size\": 10,\n",
    "    \"element_length\": 100,\n",
    "    \"path\": \"../data/Eye-Motion/ECoG.csv\",\n",
    "    \"overlap\": 0,\n",
    "    \"shuffle\": True,\n",
    "    \"sample_size\": 30,\n",
    "    \"chanel_num\": 32,\n",
    "    \"repeat_num\": 1\n",
    "}\n",
    "\n",
    "test_params = {\n",
    "    \"common_dtw_l=0.1\": [[dtw_ln, distance, \"common_dtw_l=0.1\"], {\"dump_result\": False, \"dtw_args\": {\"l\":0.1}}],\n",
    "    \"accelerated_dtw\": [[accelerated_dtw, distance, \"accelerated_dtw\"], {\"dump_result\": False}],\n",
    "#     \"common_dtw\": [[dtw, distance, \"accelerated_dtw\"], {\"dump_result\": True}],\n",
    "    \"fastdtw\": [[fastdtw, distance, \"fastdtw\"], {\"dump_result\": False}]\n",
    "}\n",
    "\n",
    "tests = TestFactory(random_state=42, params=params)\n",
    "X = tests.set_sample(500)"
   ]
  },
  {
   "cell_type": "code",
   "execution_count": 7,
   "metadata": {},
   "outputs": [
    {
     "name": "stdout",
     "output_type": "stream",
     "text": [
      "Elapsed time: 1707.706\n",
      "Elapsed time: 7955.101\n",
      "Elapsed time: 1760.117\n"
     ]
    }
   ],
   "source": [
    "result_infos_3 = {}\n",
    "for key in test_params:\n",
    "    result_infos_3[key] = tests.test_dtw(*test_params[key][0], **test_params[key][1])\n",
    "    \n",
    "with open(\"../data/result_info_100\", 'wb') as f:\n",
    "    dill.dump(result_infos_3, f)"
   ]
  },
  {
   "cell_type": "code",
   "execution_count": 45,
   "metadata": {},
   "outputs": [],
   "source": [
    "info = result_infos_2[\"common_dtw_l=0.2\"]"
   ]
  },
  {
   "cell_type": "code",
   "execution_count": 48,
   "metadata": {},
   "outputs": [],
   "source": [
    "info.cluster(100)"
   ]
  },
  {
   "cell_type": "code",
   "execution_count": 49,
   "metadata": {},
   "outputs": [
    {
     "data": {
      "text/plain": [
       "array([ 75,  30,  30,  30,  30,  30,  64,  30,  30,  30,  30,  30,  30,\n",
       "        30,  30,  30,  30,  30,  30,  30,  30,  30,  30,  30,  30,  30,\n",
       "        30,  30,  30,  30,  30,  30,  30,  30,  30,  30,  30,  30,  30,\n",
       "        30,  30,  30,  30,  30,  30,  30,  30,  30,  30,  30,  30,  30,\n",
       "        30,  30,  30,  30,  30,  30,  30,  30,  30,  30,  30,  30,  30,\n",
       "        30,  30,  30,  30,  30,  30,  30,  30,  30,  30,  30,  30,  30,\n",
       "        30,  30,  30,  30,  30,  30,  30,  30,  30,  30,  30,  30,  30,\n",
       "        58,  69,  30,  30,  30,  30,  30,  30,  30,  30,  76,  73,  30,\n",
       "        30,  30,  74,  66,  30,  30,  30,  30,  22,  22,  68,  13,  13,\n",
       "        13,  13,  14,  14,  14,  46,  30,  30,  25,  26,  45,  55,  86,\n",
       "        87,  84,  94,  91,  43,  67,  37,  30,  30,  30,  65,  30,  63,\n",
       "        42,  30,  30,  31,   3,   4,  89,  62,  85,  33,  90,  81,  30,\n",
       "        36,  32,  30,  23,  23,  82,  95,  30,  30,  30,  24,  24,  24,\n",
       "        15,  30,  70,  71,  52,  97,  39,  16,  30,  30,  30,  30,  30,\n",
       "        30,  20,  11,  12,  83,  96,  44,  19,  61,  30,  72,  93,  92,\n",
       "        30,   5,   6,  56,  21,  80,  35,  30,  30,  30,  30,  30,  30,\n",
       "        54,  30,  41,  30,  30,  30,  30,  30,  30,  30,  30,  30,  48,\n",
       "         1,  30,  30,  30,  30,  40,   2,  53,  47,  30,  30,  30,  30,\n",
       "        30,  30,  30,  30,  30,  30,  30,  30,  30,  30,  30,  30,  30,\n",
       "        30,  30,  30,  30,  30,  30,  30,  30,  30,  38,  17,  18,  30,\n",
       "        30,  30,  30,  30,  30,  30,  30,  30,  30,  30,  30,  30,  30,\n",
       "        30,  30,  30,  30,  30,  30, 100,  99,  88,  30,  30,  30,  30,\n",
       "        30,  30,  30,  30,  30,  30,  30,  30,  30,  30,  30,  30,  30,\n",
       "        30,  30,  30,  30,  30,  30,  30,  30,  30,  30,  30,  30,  30,\n",
       "        30,  30,  30,  30,  30,  30,  30,  78,  98,   7,   8,   9,   9,\n",
       "        10,  30,  30,  30,  30,  30,  30,  30,  30,  30,  30,  30,  30,\n",
       "        30,  28,  28,  28,  30,  30,  30,  30,  30,  30,  30,  34,  30,\n",
       "        30,  30,  30,  30,  30,  30,  30,  30,  30,  30,  30,  30,  30,\n",
       "        30,  30,  30,  30,  30,  30,  30,  30,  30,  30,  30,  30,  30,\n",
       "        30,  30,  30,  30,  30,  30,  30,  30,  29,  29,  30,  59,  30,\n",
       "        51,  60,  19,  30,  30,  30,  79,  30,  30,  30,  30,  30,  30,\n",
       "        30,  30,  30,  30,  57,  30,  77,  27,  27,  49,  30,  27,  30,\n",
       "        30,  30,  30,  50,  30,  30,  30,  30,  30,  30,  30,  30,  30,\n",
       "        30,  30,  30,  30,  30,  30,  30,  30,  30,  30,  30,  30,  30,\n",
       "        30,  30,  30,  30,  30,  30,  30,  30,  30,  30,  30,  30,  30,\n",
       "        30,  30,  30,  30,  30,  30,  30,  30,  30,  30,  30,  30,  30,\n",
       "        30,  30,  30,  30,  30,  30,  30,  30,  30,  30,  30,  30,  30,\n",
       "        30,  30,  30,  30,  30,  30,  30,  30,  30,  30,  30,  30,  30,\n",
       "        30,  30,  30,  30,  30,  30], dtype=int32)"
      ]
     },
     "execution_count": 49,
     "metadata": {},
     "output_type": "execute_result"
    }
   ],
   "source": [
    "info.clusters_labels"
   ]
  },
  {
   "cell_type": "code",
   "execution_count": 50,
   "metadata": {},
   "outputs": [],
   "source": [
    "X = tests.set_sample(20)"
   ]
  },
  {
   "cell_type": "code",
   "execution_count": 60,
   "metadata": {},
   "outputs": [
    {
     "name": "stdout",
     "output_type": "stream",
     "text": [
      "Elapsed time: 9.322\n"
     ]
    }
   ],
   "source": [
    "info = tests.test_dtw(dtw_ln, distance, \"dtw_ln\", dtw_args={\"l\": 0.2, \"zscr\":True})"
   ]
  },
  {
   "cell_type": "code",
   "execution_count": 61,
   "metadata": {},
   "outputs": [
    {
     "data": {
      "text/plain": [
       "array([1, 1, 1, 1, 1, 1, 1, 1, 1, 2, 1, 1, 1, 3, 1, 1, 1, 1, 1, 1],\n",
       "      dtype=int32)"
      ]
     },
     "execution_count": 61,
     "metadata": {},
     "output_type": "execute_result"
    }
   ],
   "source": [
    "info.cluster(3)\n",
    "info.clusters_labels"
   ]
  },
  {
   "cell_type": "code",
   "execution_count": 62,
   "metadata": {},
   "outputs": [
    {
     "data": {
      "image/png": "[encoded data removed]",
      "text/plain": [
       "<Figure size 1800x720 with 1 Axes>"
      ]
     },
     "metadata": {
      "needs_background": "light"
     },
     "output_type": "display_data"
    }
   ],
   "source": [
    "info.visualize()"
   ]
  },
  {
   "cell_type": "code",
   "execution_count": null,
   "metadata": {},
   "outputs": [],
   "source": [
    "fclusterdata(X, 1.0, metric=mydist)"
   ]
  },
  {
   "cell_type": "code",
   "execution_count": 59,
   "metadata": {},
   "outputs": [
    {
     "data": {
      "text/plain": [
       "<function dtw.dtw(x, y, dist, warp=1)>"
      ]
     },
     "execution_count": 59,
     "metadata": {},
     "output_type": "execute_result"
    }
   ],
   "source": [
    "cl = linkage(X_reshaped, metric=self.dtw_dist(dtw_function, distance_function, dtw_args))"
   ]
  },
  {
   "cell_type": "code",
   "execution_count": null,
   "metadata": {},
   "outputs": [],
   "source": [
    "shape "
   ]
  },
  {
   "cell_type": "code",
   "execution_count": null,
   "metadata": {},
   "outputs": [],
   "source": [
    "def dtw_dist(self, dtw_function, distance_function, dtw_args):\n",
    "    return lambda x, y: (dtw_function(x.reshape(shape), y.reshape(shape), distance_function, **dtw_args)[0])"
   ]
  }
 ],
 "metadata": {
  "kernelspec": {
   "display_name": "Python 3",
   "language": "python",
   "name": "python3"
  },
  "language_info": {
   "codemirror_mode": {
    "name": "ipython",
    "version": 3
   },
   "file_extension": ".py",
   "mimetype": "text/x-python",
   "name": "python",
   "nbconvert_exporter": "python",
   "pygments_lexer": "ipython3",
   "version": "3.7.0"
  }
 },
 "nbformat": 4,
 "nbformat_minor": 2
}
