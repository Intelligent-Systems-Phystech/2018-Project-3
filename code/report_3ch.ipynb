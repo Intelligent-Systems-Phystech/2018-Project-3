{
 "cells": [
  {
   "cell_type": "code",
   "execution_count": 1,
   "metadata": {},
   "outputs": [],
   "source": [
    "import pandas as pd\n",
    "import numpy as np\n",
    "import matplotlib.pyplot as plt\n",
    "\n",
    "%load_ext autoreload\n",
    "%autoreload 2\n",
    "\n",
    "from time import sleep, time\n",
    "from threading import Thread\n",
    "from scipy.cluster.hierarchy import fcluster\n",
    "from scipy.stats import zscore\n",
    "\n",
    "from testing import TestFactory, ClusteredInfo\n",
    "from dtw import dtw as cur_dtw\n",
    "from dtw_wrapper import DtwWrapper\n",
    "\n",
    "from IPython.display import Markdown\n",
    "from tqdm import tqdm, tqdm_notebook"
   ]
  },
  {
   "cell_type": "code",
   "execution_count": 2,
   "metadata": {},
   "outputs": [],
   "source": [
    "CLUSTER_SIZES = [4, 12, 24, 36, 48]\n",
    "N_CLUST = 30\n",
    "\n",
    "def metric_Q(info):\n",
    "    Q = 0\n",
    "    norm_koeff = 0\n",
    "    for i in range(info.count): \n",
    "        for j in range(info.count):\n",
    "            if info.label[i] == info.label[j]:\n",
    "                norm_koeff += 1\n",
    "            if info.label[i] == info.label[j] and info.clusters_labels[i] == info.clusters_labels[j]:\n",
    "                Q += 1\n",
    "                \n",
    "    return Q / norm_koeff\n",
    "\n",
    "\n",
    "def metric_cluster(info):\n",
    "    Q = 0\n",
    "    for i in range(1, info.cluster_num + 1):\n",
    "        ind, counts = np.unique(info.label[np.where(info.clusters_labels == i)[0]], return_counts=True)\n",
    "        Q += counts.max() / counts.sum()\n",
    "\n",
    "    return Q / info.cluster_num\n",
    "\n",
    "def metric_cluster_vlad(info):\n",
    "    Q = 0\n",
    "    for i in range(1, info.cluster_num + 1):\n",
    "        ind, counts = np.unique(info.label[np.where(info.clusters_labels == i)[0]], return_counts=True)\n",
    "        Q += (counts.max()) ** 2 / len(np.where(info.clusters_labels == i)[0]) / counts.sum() \n",
    "\n",
    "    return Q / info.cluster_num\n",
    "\n",
    "def norm_1(x, y):\n",
    "    return np.linalg.norm(x - y, ord=1)\n",
    "def norm_2(x, y):\n",
    "    return np.linalg.norm(x - y, ord=2)\n",
    "\n",
    "def pipeline(info, autoregression=False, show_results=True):\n",
    "    metrics = {0: [], 1: []}\n",
    "    \n",
    "    info.cluster(N_CLUST)\n",
    "    Q1 = metric_cluster(info)\n",
    "    Q2 = metric_cluster_vlad(info)\n",
    "        \n",
    "    for cluster_size in CLUSTER_SIZES:\n",
    "        info.cluster(cluster_size)\n",
    "        Q1 = metric_cluster(info)\n",
    "        Q2 = metric_cluster_vlad(info)\n",
    "        metrics[0].append(Q1)\n",
    "        metrics[1].append(Q2)\n",
    "        if show_results:\n",
    "            print(\"{0:4}: Q1:{1:.4f} | Q2:{2:.4f}\".format(cluster_size, Q1, Q2))\n",
    "    \n",
    "    if not show_results:\n",
    "        return metrics[0], metrics[1]\n",
    "\n",
    "    index = info.stats.head(10).index.values\n",
    "    classifier_stat = {}\n",
    "    for i in info.stats.index:\n",
    "        classifier_stat[i] = pd.Series(info.label[np.where(info.clusters_labels == i)[0]]).value_counts()\n",
    "\n",
    "    display(pd.DataFrame(classifier_stat).fillna(0).iloc[:, :30])\n",
    "    \n",
    "    for i in index[:6]:\n",
    "        info.clusters_compare_table(label=i, z_normalize=True)\n",
    "    plt.show()\n",
    "    \n",
    "    display(Markdown(\"#### До выравнивания\"))\n",
    "    for i in index[:6]:\n",
    "        info.comparing_at_one(i, num_series=10, z_normalize=True)\n",
    "    plt.show()\n",
    "    \n",
    "    if not autoregression:\n",
    "        display(Markdown(\"#### С выравниванием\"))\n",
    "        for i in index[:6]:\n",
    "            info.allignment_to_random(i, num_series=10, z_normalize=True)\n",
    "        plt.show()\n",
    "        \n",
    "    return metrics[0], metrics[1]\n",
    "        \n",
    "def repeat_test(args, kwargs, n_repeat, sample_size, autoregression=False):\n",
    "    metrics = []\n",
    "    for i in range(n_repeat):\n",
    "        tests = TestFactory(random_state=i)\n",
    "        x = tests.set_sample(sample_size)\n",
    "        info = tests.ar_clustering() if autoregression else tests.test_dtw(*args, **kwargs)\n",
    "        metrics.append(pipeline(info, autoregression, show_results=False))\n",
    "\n",
    "    print(\"\\n---- Metrics ----\\n\")\n",
    "    print(\"  \".join([\"{0:0.3f}+-{1:0.3f}\".format(s, m) for s, m in zip(\n",
    "        np.mean(np.array(metrics)[:, 0, :], 0),\n",
    "        np.std(np.array(metrics)[:, 0, :], 0))]))\n",
    "    print(\"  \".join([\"{0:0.3f}+-{1:0.3f}\".format(s, m) for s, m in zip(\n",
    "            np.mean(np.array(metrics)[:, 1, :], 0),\n",
    "            np.std(np.array(metrics)[:, 1, :], 0))]))\n",
    "\n",
    "    print(\"{0:0.4f} +- {1:0.4f}\".format(np.mean(np.array(metrics)[:, 0, :]), np.std(np.array(metrics)[:, 0, :])))\n",
    "    print(\"{0:0.4f} +- {1:0.4f}\".format(np.mean(np.array(metrics)[:, 1, :]), np.std(np.array(metrics)[:, 1, :])))\n",
    "\n",
    "    return metrics"
   ]
  },
  {
   "cell_type": "markdown",
   "metadata": {},
   "source": [
    "# DTW\n",
    "Стоит играться с функциями расстояния между кластерами.  \n",
    "Сейчас стоит `complete`: $$d(X, Y) = max(dist(x, y))$$\n",
    "\n",
    "Более менее работает с `weighted` и `average`.  \n",
    "[Подробнее](https://docs.scipy.org/doc/scipy/reference/generated/scipy.cluster.hierarchy.linkage.html#scipy.cluster.hierarchy.linkage)\n",
    "\n",
    "Практически во всех способах, остается первый кластер, размер которого самый большой. В нем, зачастую, все перемемашно."
   ]
  },
  {
   "cell_type": "code",
   "execution_count": null,
   "metadata": {},
   "outputs": [],
   "source": [
    "for i in range(3):\n",
    "    tests = TestFactory(random_state=i)\n",
    "    x = tests.set_sample(2000)\n",
    "    info = tests.test_dtw(cur_dtw, norm_1, \n",
    "                      dtw_args={\"z_normalize\": True, \"l\": 0.2},\n",
    "                      cluster_dist=\"complete\")\n",
    "\n",
    "    tests.dtw_wrapper.dump()\n",
    "    info = tests.test_dtw(cur_dtw, norm_2, \n",
    "                      dtw_args={\"z_normalize\": True, \"l\": 0.2},\n",
    "                      cluster_dist=\"complete\")\n",
    "\n",
    "    tests.dtw_wrapper.dump()"
   ]
  },
  {
   "cell_type": "markdown",
   "metadata": {},
   "source": [
    "## L_1"
   ]
  },
  {
   "cell_type": "markdown",
   "metadata": {},
   "source": [
    "### complete"
   ]
  },
  {
   "cell_type": "code",
   "execution_count": 3,
   "metadata": {},
   "outputs": [
    {
     "name": "stdout",
     "output_type": "stream",
     "text": [
      "Elapsed time: 0.480\n",
      "Elapsed time: 0.474\n",
      "Elapsed time: 0.485\n",
      "Elapsed time: 0.472\n",
      "Elapsed time: 0.509\n",
      "Elapsed time: 0.579\n",
      "Elapsed time: 0.525\n",
      "Elapsed time: 0.493\n",
      "Elapsed time: 0.585\n",
      "Elapsed time: 0.464\n",
      "Elapsed time: 0.484\n",
      "Elapsed time: 0.480\n",
      "Elapsed time: 0.608\n",
      "Elapsed time: 0.473\n",
      "Elapsed time: 0.464\n",
      "Elapsed time: 0.503\n",
      "Elapsed time: 0.489\n",
      "Elapsed time: 0.498\n",
      "Elapsed time: 0.480\n",
      "Elapsed time: 0.523\n",
      "\n",
      "---- Metrics ----\n",
      "\n",
      "0.421+-0.075  0.462+-0.038  0.502+-0.028  0.546+-0.023  0.580+-0.022\n",
      "0.218+-0.089  0.243+-0.046  0.278+-0.034  0.328+-0.028  0.370+-0.028\n",
      "0.5019 +- 0.0709\n",
      "0.2874 +- 0.0750\n"
     ]
    }
   ],
   "source": [
    "metrics = repeat_test([cur_dtw, norm_1],\n",
    "                      {\"dtw_args\": {\"z_normalize\": True, \"l\": 0.2}, \"cluster_dist\": \"complete\"},\n",
    "                     20, 600)"
   ]
  },
  {
   "cell_type": "code",
   "execution_count": 4,
   "metadata": {},
   "outputs": [
    {
     "name": "stdout",
     "output_type": "stream",
     "text": [
      "Elapsed time: 0.634\n"
     ]
    }
   ],
   "source": [
    "tests = TestFactory(random_state=2)\n",
    "_ = tests.set_sample(600)\n",
    "info = tests.test_dtw(cur_dtw, norm_1, \n",
    "                      dtw_args={\"z_normalize\": True, \"l\": 0.2},\n",
    "                      cluster_dist=\"complete\")\n",
    "\n",
    "# pipeline(info)"
   ]
  },
  {
   "cell_type": "markdown",
   "metadata": {},
   "source": [
    "### weighted"
   ]
  },
  {
   "cell_type": "code",
   "execution_count": 5,
   "metadata": {},
   "outputs": [
    {
     "name": "stdout",
     "output_type": "stream",
     "text": [
      "Elapsed time: 0.454\n",
      "Elapsed time: 0.447\n",
      "Elapsed time: 0.473\n",
      "Elapsed time: 0.544\n",
      "Elapsed time: 0.459\n",
      "Elapsed time: 0.484\n",
      "Elapsed time: 0.466\n",
      "Elapsed time: 0.477\n",
      "Elapsed time: 0.599\n",
      "Elapsed time: 0.443\n",
      "Elapsed time: 0.448\n",
      "Elapsed time: 0.495\n",
      "Elapsed time: 0.539\n",
      "Elapsed time: 0.597\n",
      "Elapsed time: 0.517\n",
      "Elapsed time: 0.477\n",
      "Elapsed time: 0.445\n",
      "Elapsed time: 0.459\n",
      "Elapsed time: 0.558\n",
      "Elapsed time: 0.533\n",
      "\n",
      "---- Metrics ----\n",
      "\n",
      "0.507+-0.072  0.544+-0.038  0.569+-0.031  0.601+-0.023  0.629+-0.021\n",
      "0.312+-0.104  0.332+-0.054  0.357+-0.040  0.397+-0.030  0.434+-0.029\n",
      "0.5703 +- 0.0594\n",
      "0.3664 +- 0.0730\n",
      "Elapsed time: 0.520\n"
     ]
    }
   ],
   "source": [
    "metrics = repeat_test(\n",
    "    [cur_dtw, norm_1],\n",
    "    {\"dtw_args\": {\"z_normalize\": True, \"l\": 0.2}, \"cluster_dist\": \"weighted\"},\n",
    "    20, 600)\n",
    "info = tests.test_dtw(cur_dtw, norm_1, \n",
    "                      dtw_args={\"z_normalize\": True, \"l\": 0.2},\n",
    "                      cluster_dist=\"weighted\")\n",
    "# pipeline(info)"
   ]
  },
  {
   "cell_type": "markdown",
   "metadata": {},
   "source": [
    "### average"
   ]
  },
  {
   "cell_type": "code",
   "execution_count": 6,
   "metadata": {},
   "outputs": [
    {
     "name": "stdout",
     "output_type": "stream",
     "text": [
      "Elapsed time: 0.571\n",
      "Elapsed time: 0.469\n",
      "Elapsed time: 0.455\n",
      "Elapsed time: 0.449\n",
      "Elapsed time: 0.480\n",
      "Elapsed time: 0.454\n",
      "Elapsed time: 0.463\n",
      "Elapsed time: 0.441\n",
      "Elapsed time: 0.458\n",
      "Elapsed time: 0.439\n",
      "Elapsed time: 0.465\n",
      "Elapsed time: 0.563\n",
      "Elapsed time: 0.449\n",
      "Elapsed time: 0.493\n",
      "Elapsed time: 0.470\n",
      "Elapsed time: 0.445\n",
      "Elapsed time: 0.449\n",
      "Elapsed time: 0.453\n",
      "Elapsed time: 0.600\n",
      "Elapsed time: 0.610\n",
      "\n",
      "---- Metrics ----\n",
      "\n",
      "0.545+-0.064  0.566+-0.039  0.587+-0.030  0.613+-0.033  0.636+-0.025\n",
      "0.363+-0.089  0.358+-0.053  0.377+-0.039  0.412+-0.046  0.443+-0.035\n",
      "0.5893 +- 0.0520\n",
      "0.3906 +- 0.0647\n",
      "Elapsed time: 0.566\n"
     ]
    }
   ],
   "source": [
    "metrics = repeat_test(\n",
    "    [cur_dtw, norm_1],\n",
    "    {\"dtw_args\": {\"z_normalize\": True, \"l\": 0.2}, \"cluster_dist\": \"average\"},\n",
    "    20, 600)\n",
    "info = tests.test_dtw(cur_dtw, norm_1, \n",
    "                      dtw_args={\"z_normalize\": True, \"l\": 0.2},\n",
    "                      cluster_dist=\"average\")\n",
    "# pipeline(info)"
   ]
  },
  {
   "cell_type": "markdown",
   "metadata": {},
   "source": [
    "## L_2"
   ]
  },
  {
   "cell_type": "markdown",
   "metadata": {},
   "source": [
    "### complete"
   ]
  },
  {
   "cell_type": "code",
   "execution_count": 7,
   "metadata": {},
   "outputs": [
    {
     "name": "stdout",
     "output_type": "stream",
     "text": [
      "Elapsed time: 0.434\n",
      "Elapsed time: 0.450\n",
      "Elapsed time: 0.439\n",
      "Elapsed time: 0.451\n",
      "Elapsed time: 0.484\n",
      "Elapsed time: 0.451\n",
      "Elapsed time: 0.457\n",
      "Elapsed time: 0.479\n",
      "Elapsed time: 0.447\n",
      "Elapsed time: 0.649\n",
      "Elapsed time: 0.675\n",
      "Elapsed time: 0.915\n",
      "Elapsed time: 0.489\n",
      "Elapsed time: 0.476\n",
      "Elapsed time: 0.516\n",
      "Elapsed time: 0.492\n",
      "Elapsed time: 0.509\n",
      "Elapsed time: 0.522\n",
      "Elapsed time: 0.549\n",
      "Elapsed time: 0.775\n",
      "\n",
      "---- Metrics ----\n",
      "\n",
      "0.421+-0.062  0.464+-0.037  0.504+-0.027  0.543+-0.025  0.581+-0.023\n",
      "0.222+-0.072  0.250+-0.045  0.283+-0.033  0.326+-0.031  0.372+-0.029\n",
      "0.5028 +- 0.0678\n",
      "0.2905 +- 0.0700\n",
      "Elapsed time: 0.469\n"
     ]
    }
   ],
   "source": [
    "metrics = repeat_test(\n",
    "    [cur_dtw, norm_2],\n",
    "    {\"dtw_args\": {\"z_normalize\": True, \"l\": 0.2}, \"cluster_dist\": \"complete\"},\n",
    "    20, 600)\n",
    "info = tests.test_dtw(cur_dtw, norm_2, \n",
    "                      dtw_args={\"z_normalize\": True, \"l\": 0.2},\n",
    "                      cluster_dist=\"complete\")\n",
    "\n",
    "tests.dtw_wrapper.dump()\n",
    "# pipeline(info)"
   ]
  },
  {
   "cell_type": "markdown",
   "metadata": {},
   "source": [
    "### weighted"
   ]
  },
  {
   "cell_type": "code",
   "execution_count": 8,
   "metadata": {},
   "outputs": [
    {
     "name": "stdout",
     "output_type": "stream",
     "text": [
      "Elapsed time: 0.505\n",
      "Elapsed time: 0.441\n",
      "Elapsed time: 0.441\n",
      "Elapsed time: 0.500\n",
      "Elapsed time: 0.483\n",
      "Elapsed time: 0.440\n",
      "Elapsed time: 0.496\n",
      "Elapsed time: 0.453\n",
      "Elapsed time: 0.461\n",
      "Elapsed time: 0.575\n",
      "Elapsed time: 0.545\n",
      "Elapsed time: 0.449\n",
      "Elapsed time: 0.924\n",
      "Elapsed time: 0.549\n",
      "Elapsed time: 0.532\n",
      "Elapsed time: 0.465\n",
      "Elapsed time: 0.458\n",
      "Elapsed time: 0.488\n",
      "Elapsed time: 0.578\n",
      "Elapsed time: 0.440\n",
      "\n",
      "---- Metrics ----\n",
      "\n",
      "0.469+-0.072  0.531+-0.038  0.566+-0.031  0.596+-0.028  0.626+-0.030\n",
      "0.264+-0.091  0.316+-0.051  0.353+-0.040  0.391+-0.038  0.431+-0.038\n",
      "0.5576 +- 0.0694\n",
      "0.3509 +- 0.0804\n",
      "Elapsed time: 0.461\n"
     ]
    }
   ],
   "source": [
    "metrics = repeat_test(\n",
    "    [cur_dtw, norm_2],\n",
    "    {\"dtw_args\": {\"z_normalize\": True, \"l\": 0.2}, \"cluster_dist\": \"weighted\"},\n",
    "    20, 600)\n",
    "info = tests.test_dtw(cur_dtw, norm_1, \n",
    "                      dtw_args={\"z_normalize\": True, \"l\": 0.2},\n",
    "                      cluster_dist=\"weighted\")\n",
    "# pipeline(info)"
   ]
  },
  {
   "cell_type": "markdown",
   "metadata": {},
   "source": [
    "### average"
   ]
  },
  {
   "cell_type": "code",
   "execution_count": 9,
   "metadata": {},
   "outputs": [
    {
     "name": "stdout",
     "output_type": "stream",
     "text": [
      "Elapsed time: 0.444\n",
      "Elapsed time: 0.460\n",
      "Elapsed time: 0.594\n",
      "Elapsed time: 0.613\n",
      "Elapsed time: 0.614\n",
      "Elapsed time: 0.465\n",
      "Elapsed time: 0.504\n",
      "Elapsed time: 0.567\n",
      "Elapsed time: 0.460\n",
      "Elapsed time: 0.429\n",
      "Elapsed time: 0.478\n",
      "Elapsed time: 0.511\n",
      "Elapsed time: 0.483\n",
      "Elapsed time: 0.486\n",
      "Elapsed time: 0.446\n",
      "Elapsed time: 0.467\n",
      "Elapsed time: 0.435\n",
      "Elapsed time: 0.454\n",
      "Elapsed time: 0.493\n",
      "Elapsed time: 0.472\n",
      "\n",
      "---- Metrics ----\n",
      "\n",
      "0.544+-0.064  0.588+-0.041  0.593+-0.026  0.617+-0.025  0.642+-0.026\n",
      "0.353+-0.092  0.386+-0.053  0.392+-0.033  0.421+-0.033  0.455+-0.036\n",
      "0.5969 +- 0.0511\n",
      "0.4013 +- 0.0642\n",
      "Elapsed time: 0.484\n"
     ]
    }
   ],
   "source": [
    "metrics = repeat_test(\n",
    "    [cur_dtw, norm_2],\n",
    "    {\"dtw_args\": {\"z_normalize\": True, \"l\": 0.2}, \"cluster_dist\": \"average\"},\n",
    "    20, 600)\n",
    "info = tests.test_dtw(cur_dtw, norm_1, \n",
    "                      dtw_args={\"z_normalize\": True, \"l\": 0.2},\n",
    "                      cluster_dist=\"average\")\n",
    "# pipeline(info)"
   ]
  },
  {
   "cell_type": "markdown",
   "metadata": {},
   "source": [
    "## Autoregression"
   ]
  },
  {
   "cell_type": "code",
   "execution_count": 10,
   "metadata": {},
   "outputs": [
    {
     "name": "stderr",
     "output_type": "stream",
     "text": [
      "100%|██████████████████████████████████████████████████████████████████████████████████████████████████████████████████████████████████████████████████████| 600/600 [00:40<00:00, 14.74it/s]\n"
     ]
    },
    {
     "name": "stdout",
     "output_type": "stream",
     "text": [
      "Elapsed time: 40.739\n"
     ]
    },
    {
     "name": "stderr",
     "output_type": "stream",
     "text": [
      "100%|██████████████████████████████████████████████████████████████████████████████████████████████████████████████████████████████████████████████████████| 600/600 [00:36<00:00, 16.31it/s]\n"
     ]
    },
    {
     "name": "stdout",
     "output_type": "stream",
     "text": [
      "Elapsed time: 36.616\n"
     ]
    },
    {
     "name": "stderr",
     "output_type": "stream",
     "text": [
      "100%|██████████████████████████████████████████████████████████████████████████████████████████████████████████████████████████████████████████████████████| 600/600 [00:40<00:00, 16.39it/s]\n"
     ]
    },
    {
     "name": "stdout",
     "output_type": "stream",
     "text": [
      "Elapsed time: 40.885\n"
     ]
    },
    {
     "name": "stderr",
     "output_type": "stream",
     "text": [
      "100%|██████████████████████████████████████████████████████████████████████████████████████████████████████████████████████████████████████████████████████| 600/600 [00:40<00:00, 14.75it/s]\n"
     ]
    },
    {
     "name": "stdout",
     "output_type": "stream",
     "text": [
      "Elapsed time: 40.696\n"
     ]
    },
    {
     "name": "stderr",
     "output_type": "stream",
     "text": [
      "100%|██████████████████████████████████████████████████████████████████████████████████████████████████████████████████████████████████████████████████████| 600/600 [00:41<00:00, 14.41it/s]\n"
     ]
    },
    {
     "name": "stdout",
     "output_type": "stream",
     "text": [
      "Elapsed time: 41.662\n"
     ]
    },
    {
     "name": "stderr",
     "output_type": "stream",
     "text": [
      "100%|██████████████████████████████████████████████████████████████████████████████████████████████████████████████████████████████████████████████████████| 600/600 [00:38<00:00, 16.39it/s]\n"
     ]
    },
    {
     "name": "stdout",
     "output_type": "stream",
     "text": [
      "Elapsed time: 38.799\n"
     ]
    },
    {
     "name": "stderr",
     "output_type": "stream",
     "text": [
      "100%|██████████████████████████████████████████████████████████████████████████████████████████████████████████████████████████████████████████████████████| 600/600 [00:39<00:00, 13.95it/s]\n"
     ]
    },
    {
     "name": "stdout",
     "output_type": "stream",
     "text": [
      "Elapsed time: 39.322\n"
     ]
    },
    {
     "name": "stderr",
     "output_type": "stream",
     "text": [
      "100%|██████████████████████████████████████████████████████████████████████████████████████████████████████████████████████████████████████████████████████| 600/600 [00:40<00:00, 14.78it/s]\n"
     ]
    },
    {
     "name": "stdout",
     "output_type": "stream",
     "text": [
      "Elapsed time: 40.611\n"
     ]
    },
    {
     "name": "stderr",
     "output_type": "stream",
     "text": [
      "100%|██████████████████████████████████████████████████████████████████████████████████████████████████████████████████████████████████████████████████████| 600/600 [00:40<00:00, 14.86it/s]\n"
     ]
    },
    {
     "name": "stdout",
     "output_type": "stream",
     "text": [
      "Elapsed time: 40.399\n"
     ]
    },
    {
     "name": "stderr",
     "output_type": "stream",
     "text": [
      "100%|██████████████████████████████████████████████████████████████████████████████████████████████████████████████████████████████████████████████████████| 600/600 [00:28<00:00, 20.97it/s]\n"
     ]
    },
    {
     "name": "stdout",
     "output_type": "stream",
     "text": [
      "Elapsed time: 28.952\n"
     ]
    },
    {
     "name": "stderr",
     "output_type": "stream",
     "text": [
      "100%|██████████████████████████████████████████████████████████████████████████████████████████████████████████████████████████████████████████████████████| 600/600 [00:30<00:00, 15.25it/s]\n"
     ]
    },
    {
     "name": "stdout",
     "output_type": "stream",
     "text": [
      "Elapsed time: 30.837\n"
     ]
    },
    {
     "name": "stderr",
     "output_type": "stream",
     "text": [
      "100%|██████████████████████████████████████████████████████████████████████████████████████████████████████████████████████████████████████████████████████| 600/600 [00:33<00:00, 17.53it/s]\n"
     ]
    },
    {
     "name": "stdout",
     "output_type": "stream",
     "text": [
      "Elapsed time: 33.498\n"
     ]
    },
    {
     "name": "stderr",
     "output_type": "stream",
     "text": [
      "100%|██████████████████████████████████████████████████████████████████████████████████████████████████████████████████████████████████████████████████████| 600/600 [00:32<00:00, 18.51it/s]\n"
     ]
    },
    {
     "name": "stdout",
     "output_type": "stream",
     "text": [
      "Elapsed time: 32.436\n"
     ]
    },
    {
     "name": "stderr",
     "output_type": "stream",
     "text": [
      "100%|██████████████████████████████████████████████████████████████████████████████████████████████████████████████████████████████████████████████████████| 600/600 [00:28<00:00, 20.89it/s]\n"
     ]
    },
    {
     "name": "stdout",
     "output_type": "stream",
     "text": [
      "Elapsed time: 28.743\n"
     ]
    },
    {
     "name": "stderr",
     "output_type": "stream",
     "text": [
      "100%|██████████████████████████████████████████████████████████████████████████████████████████████████████████████████████████████████████████████████████| 600/600 [00:28<00:00, 20.87it/s]\n"
     ]
    },
    {
     "name": "stdout",
     "output_type": "stream",
     "text": [
      "Elapsed time: 28.761\n"
     ]
    },
    {
     "name": "stderr",
     "output_type": "stream",
     "text": [
      "100%|██████████████████████████████████████████████████████████████████████████████████████████████████████████████████████████████████████████████████████| 600/600 [00:28<00:00, 21.03it/s]\n"
     ]
    },
    {
     "name": "stdout",
     "output_type": "stream",
     "text": [
      "Elapsed time: 28.624\n"
     ]
    },
    {
     "name": "stderr",
     "output_type": "stream",
     "text": [
      "100%|██████████████████████████████████████████████████████████████████████████████████████████████████████████████████████████████████████████████████████| 600/600 [00:29<00:00, 20.62it/s]\n"
     ]
    },
    {
     "name": "stdout",
     "output_type": "stream",
     "text": [
      "Elapsed time: 29.113\n"
     ]
    },
    {
     "name": "stderr",
     "output_type": "stream",
     "text": [
      "100%|██████████████████████████████████████████████████████████████████████████████████████████████████████████████████████████████████████████████████████| 600/600 [00:28<00:00, 20.82it/s]\n"
     ]
    },
    {
     "name": "stdout",
     "output_type": "stream",
     "text": [
      "Elapsed time: 28.839\n"
     ]
    },
    {
     "name": "stderr",
     "output_type": "stream",
     "text": [
      "100%|██████████████████████████████████████████████████████████████████████████████████████████████████████████████████████████████████████████████████████| 600/600 [00:29<00:00, 20.62it/s]\n"
     ]
    },
    {
     "name": "stdout",
     "output_type": "stream",
     "text": [
      "Elapsed time: 29.117\n"
     ]
    },
    {
     "name": "stderr",
     "output_type": "stream",
     "text": [
      "100%|██████████████████████████████████████████████████████████████████████████████████████████████████████████████████████████████████████████████████████| 600/600 [00:28<00:00, 21.10it/s]\n"
     ]
    },
    {
     "name": "stdout",
     "output_type": "stream",
     "text": [
      "Elapsed time: 28.599\n",
      "\n",
      "---- Metrics ----\n",
      "\n",
      "0.529+-0.047  0.619+-0.032  0.660+-0.037  0.695+-0.028  0.718+-0.026\n",
      "0.325+-0.062  0.438+-0.044  0.494+-0.054  0.544+-0.040  0.575+-0.035\n",
      "0.6444 +- 0.0753\n",
      "0.4751 +- 0.1003\n"
     ]
    },
    {
     "name": "stderr",
     "output_type": "stream",
     "text": [
      "100%|██████████████████████████████████████████████████████████████████████████████████████████████████████████████████████████████████████████████████████| 600/600 [00:28<00:00, 20.77it/s]\n"
     ]
    },
    {
     "name": "stdout",
     "output_type": "stream",
     "text": [
      "Elapsed time: 28.905\n"
     ]
    }
   ],
   "source": [
    "metrics = repeat_test(None, None, 20, 600, True)\n",
    "tests = TestFactory(random_state=1)\n",
    "_ = tests.set_sample(600)\n",
    "info = tests.ar_clustering()\n",
    "# pipeline(info, autoregression=True)"
   ]
  },
  {
   "cell_type": "code",
   "execution_count": null,
   "metadata": {},
   "outputs": [],
   "source": []
  }
 ],
 "metadata": {
  "kernelspec": {
   "display_name": "Python 3",
   "language": "python",
   "name": "python3"
  },
  "language_info": {
   "codemirror_mode": {
    "name": "ipython",
    "version": 3
   },
   "file_extension": ".py",
   "mimetype": "text/x-python",
   "name": "python",
   "nbconvert_exporter": "python",
   "pygments_lexer": "ipython3",
   "version": "3.7.0"
  }
 },
 "nbformat": 4,
 "nbformat_minor": 2
}
